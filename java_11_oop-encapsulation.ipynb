{
 "cells": [
  {
   "cell_type": "markdown",
   "id": "1c9f9b4d",
   "metadata": {},
   "source": [
    "# Encapsulation\n",
    "## What is encapsulation\n",
    "Encapsulation is an object-oriented concept which states that classes shouldn't expose their internal workings to external users to minimize the chances of bad (or malicious) data being introduced. Rather classes should hide their workings behind a public interface which allows users to interact with the class in approved ways. To do this we can use the `private` keyword:\n",
    "<br>\n",
    "<br>`private String secretWord = \"marshmallow\";`"
   ]
  },
  {
   "cell_type": "code",
   "execution_count": 11,
   "id": "0c0edf91",
   "metadata": {},
   "outputs": [
    {
     "data": {
      "text/plain": [
       "beaker.test.Student"
      ]
     },
     "execution_count": 11,
     "metadata": {},
     "output_type": "execute_result"
    }
   ],
   "source": [
    "package beaker.test;\n",
    "\n",
    "public class Student {\n",
    "    private int studentID = 325761;\n",
    "    private double annualFee = 2167.44;\n",
    "    private boolean isPaid = false;\n",
    "} // END student"
   ]
  },
  {
   "cell_type": "code",
   "execution_count": 10,
   "id": "170db240",
   "metadata": {},
   "outputs": [
    {
     "ename": "isPaid has private access in beaker.test.Student",
     "evalue": "isPaid has private access in beaker.test.Student",
     "output_type": "error",
     "traceback": [
      "\u001b[1;31misPaid has private access in beaker.test.Student\u001b[0;0m",
      "\u001b[1;31m neal.isPaid = true\u001b[0;0m",
      "\u001b[1;31m ^          ^        \u001b[0;0m"
     ]
    }
   ],
   "source": [
    "package beaker.test;\n",
    "\n",
    "Student neal = new Student();\n",
    "\n",
    "neal.isPaid = true; // will raise an error because isPaid is a private variable"
   ]
  },
  {
   "cell_type": "markdown",
   "id": "161ab238",
   "metadata": {},
   "source": [
    "## Getters and Setters\n",
    "In many cases you may want users to be able to see or use `private` variables/methods but not change them. To do this we can use *getter* and *setter* methods with the `this` keyword."
   ]
  },
  {
   "cell_type": "code",
   "execution_count": 12,
   "id": "a774b9b1",
   "metadata": {},
   "outputs": [
    {
     "data": {
      "text/plain": [
       "beaker.test.Student"
      ]
     },
     "execution_count": 12,
     "metadata": {},
     "output_type": "execute_result"
    }
   ],
   "source": [
    "package beaker.test;\n",
    "\n",
    "public class Student {\n",
    "    private int studentID = 123456;\n",
    "    private double annualFee = 2167.44;\n",
    "    private boolean isPaid = false;\n",
    "    private String studentDOB = \"June 4th 1988\";\n",
    "    \n",
    "    // getter methods\n",
    "    public double getFee() { // public because we want users to be able to use this method\n",
    "        return this.annualFee; // use the THIS keyword to tell Java to access the property on the object instance which calls it\n",
    "    } // END getFee\n",
    "    \n",
    "    public String getDOB() {\n",
    "        return this.studentDOB;\n",
    "    } // END getDOB\n",
    "    \n",
    "    // setter methods\n",
    "    public void setDOB(String date) {\n",
    "        this.studentDOB = date;\n",
    "    } // END setDOB\n",
    "} // END student"
   ]
  },
  {
   "cell_type": "code",
   "execution_count": 16,
   "id": "b58fc72e",
   "metadata": {},
   "outputs": [
    {
     "name": "stdout",
     "output_type": "stream",
     "text": [
      "Fee due: €2167.44\n",
      "Student Date of Birth: June 4th 1988\n",
      "Student Date of Birth: March 6th 1985\n"
     ]
    },
    {
     "data": {
      "text/plain": [
       "null"
      ]
     },
     "execution_count": 16,
     "metadata": {},
     "output_type": "execute_result"
    }
   ],
   "source": [
    "package beaker.test;\n",
    "\n",
    "Student neal = new Student();\n",
    "\n",
    "System.out.println(\"Fee due: €\" + neal.getFee());\n",
    "System.out.println(\"Student Date of Birth: \" + neal.getDOB());\n",
    "neal.setDOB(\"March 6th 1985\");\n",
    "System.out.println(\"Student Date of Birth: \" + neal.getDOB());"
   ]
  },
  {
   "cell_type": "code",
   "execution_count": null,
   "id": "33b6060d",
   "metadata": {},
   "outputs": [],
   "source": []
  }
 ],
 "metadata": {
  "kernelspec": {
   "display_name": "Java",
   "language": "java",
   "name": "java"
  },
  "language_info": {
   "codemirror_mode": "text/x-java",
   "file_extension": ".java",
   "mimetype": "",
   "name": "Java",
   "nbconverter_exporter": "",
   "version": "1.8.0_121"
  },
  "toc": {
   "base_numbering": 1,
   "nav_menu": {},
   "number_sections": false,
   "sideBar": false,
   "skip_h1_title": false,
   "title_cell": "Table of Contents",
   "title_sidebar": "Contents",
   "toc_cell": false,
   "toc_position": {},
   "toc_section_display": false,
   "toc_window_display": false
  }
 },
 "nbformat": 4,
 "nbformat_minor": 5
}
