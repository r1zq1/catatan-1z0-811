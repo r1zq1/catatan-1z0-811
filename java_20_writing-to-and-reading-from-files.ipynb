{
 "cells": [
  {
   "cell_type": "markdown",
   "id": "c31649f0",
   "metadata": {},
   "source": [
    "# Writing to and reading from files in Java\n",
    "__NOTE__: There are no questions on the *Foundations* exam related to writing/reading to/from files."
   ]
  },
  {
   "cell_type": "markdown",
   "id": "8cf9a465",
   "metadata": {},
   "source": [
    "## Writing to a file\n",
    "To write to a file we're going to use several classes from the `java.io` package:\n",
    "- `File`: to instantiate a file type object which is a representation of a file for Java to work with.\n",
    "- `FileWriter`: a \"*convenience class*\" for writing characters to file.\n",
    "- `BufferedWriter`: a wrapper class that writes text to a \"character-output stream\", buffering characters to provide efficient writing.\n",
    "- `PrintWriter`: prints formatted representations of objects to a text-output stream.\n",
    "- `IOException`: to handle exceptions that may occur\n",
    "\n",
    "Why are so many classes needed to write to a file? [According to the API](https://docs.oracle.com/javase/7/docs/api/):\n",
    "<br>\n",
    "<br>*In general, a Writer sends its output immediately to the underlying character or byte stream. Unless prompt output is required, it is advisable to wrap a BufferedWriter around any Writer whose write() operations may be costly, such as FileWriters and OutputStreamWriters. Without buffering, each invocation of a print() method would cause characters to be converted into bytes that would then be written immediately to the file, which can be very inefficient.*"
   ]
  },
  {
   "cell_type": "code",
   "execution_count": 6,
   "id": "97b0e6f8",
   "metadata": {},
   "outputs": [
    {
     "data": {
      "text/plain": [
       "test.beaker.FileOut"
      ]
     },
     "execution_count": 6,
     "metadata": {},
     "output_type": "execute_result"
    }
   ],
   "source": [
    "package test.beaker;\n",
    "\n",
    "import java.io.*; // lazily import everything from IO\n",
    "\n",
    "public class FileOut {\n",
    "    public void writeOut() {\n",
    "        File file = new File(\"hello_world.txt\"); // instantiate a File object\n",
    "        \n",
    "        try {\n",
    "            FileWriter fWrite = new FileWriter(file, true); // instantiate a FileWriter object, this is the point where an exception is most likely\n",
    "            \n",
    "            BufferedWriter bWrite = new BufferedWriter(fWrite); // instantiate a BufferedWriter to make the above writer more efficient\n",
    "            \n",
    "            PrintWriter pWrite = new PrintWriter(bWrite); // instantiate a PrintWriter to actually take our input and pass it through to the above writers\n",
    "            \n",
    "            pWrite.println(\"Hello World!\"); // text to write to the file\n",
    "            \n",
    "            System.out.println(\"File write successful!\"); // if execution gets this far there likely hasn't been an exception\n",
    "            \n",
    "            pWrite.close(); // close the stream\n",
    "        }\n",
    "        catch(IOException e) {\n",
    "            System.out.println(\"File write failed: \" + e); // message if exception occurs\n",
    "        }\n",
    "    } // writeOut\n",
    "} // class"
   ]
  },
  {
   "cell_type": "code",
   "execution_count": 7,
   "id": "48da1772",
   "metadata": {},
   "outputs": [
    {
     "name": "stdout",
     "output_type": "stream",
     "text": [
      "File write successful!\n"
     ]
    },
    {
     "data": {
      "text/plain": [
       "null"
      ]
     },
     "execution_count": 7,
     "metadata": {},
     "output_type": "execute_result"
    }
   ],
   "source": [
    "package test.beaker;\n",
    "\n",
    "FileOut myFile = new FileOut();\n",
    "myFile.writeOut(); // if successful you should see the file \"hello_world.txt\" in the same directory as this notebook"
   ]
  },
  {
   "cell_type": "markdown",
   "id": "0b21feb0",
   "metadata": {},
   "source": [
    "## Reading from a file\n",
    "To read from the file we just created we're going to use a very similar process with several more classes from `java.io`:\n",
    "- `File`: to instantiate the file object so we can work with it\n",
    "- `FileReader`: to instantiate a reader object for reading from the file\n",
    "- `BufferedReader`: the reading corollary of __BufferedWriter__, a wrapper class to make reading characters more efficient. [Per the API](https://docs.oracle.com/javase/7/docs/api/): *Without buffering, each invocation of read() or readLine() could cause bytes to be read from the file, converted into characters, and then returned, which can be very inefficient.*\n",
    "- `IOException`: to handle exceptions"
   ]
  },
  {
   "cell_type": "code",
   "execution_count": 8,
   "id": "dbd16d5b",
   "metadata": {},
   "outputs": [
    {
     "data": {
      "text/plain": [
       "test.beaker.FileIn"
      ]
     },
     "execution_count": 8,
     "metadata": {},
     "output_type": "execute_result"
    }
   ],
   "source": [
    "package test.beaker;\n",
    "\n",
    "import java.io.*; // lazily import all IO classes\n",
    "\n",
    "public class FileIn {\n",
    "    public void readIn() {\n",
    "        File file = new File(\"hello_world.txt\"); // instantiate file object\n",
    "        \n",
    "        try {\n",
    "            FileReader fRead = new FileReader(file); // create reader\n",
    "            \n",
    "            BufferedReader bRead = new BufferedReader(fRead); // create buffered read\n",
    "            \n",
    "            String line = bRead.readLine(); // create variable to represent the lines being read\n",
    "            \n",
    "            while (line != null) { // check if there's anything else to be read\n",
    "                System.out.println(line);\n",
    "                line = bRead.readLine();\n",
    "            } // while\n",
    "            System.out.println(\"File read successful!\"); // if we got this far probably no exceptions\n",
    "        }\n",
    "        catch(IOException e) {\n",
    "            System.out.println(\"File read failed: \" + e); // handle IOException if thrown\n",
    "        } // try-catch\n",
    "    } // readIn\n",
    "} // class\n"
   ]
  },
  {
   "cell_type": "code",
   "execution_count": 9,
   "id": "815588a6",
   "metadata": {},
   "outputs": [
    {
     "name": "stdout",
     "output_type": "stream",
     "text": [
      "Hello World!\n",
      "File read successful!\n"
     ]
    },
    {
     "data": {
      "text/plain": [
       "null"
      ]
     },
     "execution_count": 9,
     "metadata": {},
     "output_type": "execute_result"
    }
   ],
   "source": [
    "package test.beaker;\n",
    "\n",
    "FileIn myFileRead = new FileIn();\n",
    "myFileRead.readIn();"
   ]
  },
  {
   "cell_type": "code",
   "execution_count": null,
   "id": "ecb6739c",
   "metadata": {},
   "outputs": [],
   "source": []
  }
 ],
 "metadata": {
  "kernelspec": {
   "display_name": "Java",
   "language": "java",
   "name": "java"
  },
  "language_info": {
   "codemirror_mode": "text/x-java",
   "file_extension": ".java",
   "mimetype": "",
   "name": "Java",
   "nbconverter_exporter": "",
   "version": "1.8.0_121"
  },
  "toc": {
   "base_numbering": 1,
   "nav_menu": {},
   "number_sections": false,
   "sideBar": false,
   "skip_h1_title": false,
   "title_cell": "Table of Contents",
   "title_sidebar": "Contents",
   "toc_cell": false,
   "toc_position": {},
   "toc_section_display": false,
   "toc_window_display": false
  }
 },
 "nbformat": 4,
 "nbformat_minor": 5
}
