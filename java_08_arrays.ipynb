{
 "cells": [
  {
   "cell_type": "markdown",
   "id": "91cde250",
   "metadata": {},
   "source": [
    "# Creating and using arrays\n",
    "Arrays are containers of sequential related data. For example you can have an array of `int`s, an array of `string`s, an array of object references. The length of an array is established at creation and fixed from that point on (i.e. you can't change it once created).\n",
    "\n",
    "Each item in an array is *indexed* meaning you can access using a reference to its index. __NOTE__: arrays are zero indexed, so the first item is at index `0`, the second at index `1`, and so on.\n",
    "\n",
    "Arrays are handled by an *implicit* `Array` object which isn't available in the Java API. As with any object you need to declare a referecem instantiate, and then initialise an Array object before you can use it."
   ]
  },
  {
   "cell_type": "markdown",
   "id": "f8af8d24",
   "metadata": {},
   "source": [
    "## Declaring\n",
    "The syntax to create a one-dimensional array is:\n",
    "<br>`type [] array_identifier;`"
   ]
  },
  {
   "cell_type": "code",
   "execution_count": 1,
   "id": "7dd7ab45",
   "metadata": {},
   "outputs": [
    {
     "data": {
      "text/plain": [
       "null"
      ]
     },
     "execution_count": 1,
     "metadata": {},
     "output_type": "execute_result"
    }
   ],
   "source": [
    "String [] myStringArray;"
   ]
  },
  {
   "cell_type": "markdown",
   "id": "7d5a56b4",
   "metadata": {},
   "source": [
    "## Instantiating\n",
    "Before you can initialise an array, you need to instantiate an `Array` object large enough to hold the values. To do so you define the number of elements in the array:\n",
    "<br>`array_identifier = new type [lenght];`"
   ]
  },
  {
   "cell_type": "code",
   "execution_count": 3,
   "id": "292e785f",
   "metadata": {},
   "outputs": [
    {
     "data": {
      "text/plain": [
       "null"
      ]
     },
     "execution_count": 3,
     "metadata": {},
     "output_type": "execute_result"
    }
   ],
   "source": [
    "String [] myStringArray;\n",
    "myStringArray = new String [4];"
   ]
  },
  {
   "cell_type": "markdown",
   "id": "a7cfcd5a",
   "metadata": {},
   "source": [
    "## Populating\n",
    "After instantiation each element of the array is initialised with whatever the zero or null value for that primitive type is. For example, an array of `int` would have each element set to `0`, an array of object references would have each set to `null`. You can populate an array with data after creation using the following syntax:\n",
    "<br>`myIntArray[0] = 52;`\n",
    "<br>`myIntArray[1] = 7;`\n",
    "<br>`myIntArray[2] = 824;`\n",
    "<br>`myIntArray[3] = 19;`"
   ]
  },
  {
   "cell_type": "code",
   "execution_count": 5,
   "id": "72fcbfa7",
   "metadata": {},
   "outputs": [
    {
     "data": {
      "text/plain": [
       "null"
      ]
     },
     "execution_count": 5,
     "metadata": {},
     "output_type": "execute_result"
    }
   ],
   "source": [
    "String [] myStringArray;\n",
    "myStringArray = new String [3];\n",
    "myStringArray[0] = \"Hello\";\n",
    "myStringArray[1] = \"World\";\n",
    "myStringArray[2] = \"!\";"
   ]
  },
  {
   "cell_type": "markdown",
   "id": "3ad3abad",
   "metadata": {},
   "source": [
    "## Declaring, instantiating, and populating all at once\n",
    "If you know what you want in your array when you're creating it, you can declare, instantiate, and fill it all together using this syntax:\n",
    "<br>`type [] array_identifer = {values};`"
   ]
  },
  {
   "cell_type": "code",
   "execution_count": 6,
   "id": "e1c8f6f7",
   "metadata": {},
   "outputs": [
    {
     "data": {
      "text/plain": [
       "null"
      ]
     },
     "execution_count": 6,
     "metadata": {},
     "output_type": "execute_result"
    }
   ],
   "source": [
    "String [] myStringArray = {\"Hello\", \"World\", \"!\"};"
   ]
  },
  {
   "cell_type": "markdown",
   "id": "c90e72b5",
   "metadata": {},
   "source": [
    "## Accessing array items\n",
    "You can access array items in the same way you set them; using indices:\n",
    "<br>`String myFirstEl = myStringArray[0];`"
   ]
  },
  {
   "cell_type": "code",
   "execution_count": 7,
   "id": "533c6f51",
   "metadata": {},
   "outputs": [
    {
     "name": "stdout",
     "output_type": "stream",
     "text": [
      "Hello\n"
     ]
    },
    {
     "data": {
      "text/plain": [
       "null"
      ]
     },
     "execution_count": 7,
     "metadata": {},
     "output_type": "execute_result"
    }
   ],
   "source": [
    "String [] myStringArray;\n",
    "myStringArray = new String [3];\n",
    "myStringArray[0] = \"Hello\";\n",
    "myStringArray[1] = \"World\";\n",
    "myStringArray[2] = \"!\";\n",
    "System.out.println(myStringArray[0]);"
   ]
  },
  {
   "cell_type": "markdown",
   "id": "a227d687",
   "metadata": {},
   "source": [
    "## Array primitives are stored differently to a primitive\n",
    "Arrays are objects referred to by an object reference variable. This means that the way a primitive array is stored in memory differs from the way a primitive data type is stored. Consider the following code:\n",
    "<br>`char size = 'L';`\n",
    "<br>`char [] sizes = {'S', 'M', 'L'};`\n",
    "\n",
    "The value of the `size` is a `char`: `L`. Whereas the value of `sizes` is `0x334009` (which is an address in memory) that points to an object of type `array of char` with three values. The value of `sizes[0]` is the `char`:`S`, the value of `sizes[1]` is the `char`:`M` and so on."
   ]
  },
  {
   "cell_type": "markdown",
   "id": "1aef15de",
   "metadata": {},
   "source": [
    "## The `args` array\n",
    "When you pass strings to a progam on the command line, the strings are put in the `args` array. To use these strings, you must extract them from the args array and, optionally, convert them to their proper type (because the args array is of type `String`).\n",
    "<br>\n",
    "<br>`>java ArgsTest Hello World!`\n",
    "<br>`args[0] is Hello`\n",
    "<br>`args[1] is World!`"
   ]
  },
  {
   "cell_type": "markdown",
   "id": "de18e480",
   "metadata": {},
   "source": [
    "## Array length\n",
    "You can determine the number of items in an array using the `[array_name].length` property.\n",
    "<br>`myStringArray.length`"
   ]
  },
  {
   "cell_type": "code",
   "execution_count": 8,
   "id": "167b85bd",
   "metadata": {},
   "outputs": [
    {
     "name": "stdout",
     "output_type": "stream",
     "text": [
      "Hello\n",
      "3\n"
     ]
    },
    {
     "data": {
      "text/plain": [
       "null"
      ]
     },
     "execution_count": 8,
     "metadata": {},
     "output_type": "execute_result"
    }
   ],
   "source": [
    "String [] myStringArray;\n",
    "myStringArray = new String [3];\n",
    "myStringArray[0] = \"Hello\";\n",
    "myStringArray[1] = \"World\";\n",
    "myStringArray[2] = \"!\";\n",
    "System.out.println(myStringArray[0]);\n",
    "System.out.println(myStringArray.length);"
   ]
  }
 ],
 "metadata": {
  "kernelspec": {
   "display_name": "Java",
   "language": "java",
   "name": "java"
  },
  "language_info": {
   "codemirror_mode": "text/x-java",
   "file_extension": ".java",
   "mimetype": "",
   "name": "Java",
   "nbconverter_exporter": "",
   "version": "1.8.0_121"
  },
  "toc": {
   "base_numbering": 1,
   "nav_menu": {},
   "number_sections": false,
   "sideBar": false,
   "skip_h1_title": false,
   "title_cell": "Table of Contents",
   "title_sidebar": "Contents",
   "toc_cell": false,
   "toc_position": {},
   "toc_section_display": false,
   "toc_window_display": false
  }
 },
 "nbformat": 4,
 "nbformat_minor": 5
}
