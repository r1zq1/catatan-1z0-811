{
 "cells": [
  {
   "cell_type": "markdown",
   "id": "9bc47514",
   "metadata": {},
   "source": [
    "# Operators, Promotion, and Type casting"
   ]
  },
  {
   "cell_type": "markdown",
   "id": "53fff849",
   "metadata": {},
   "source": [
    "## Order of operations\n",
    "As with most programming languages a clear order of operations needs to be set for occasions when multiple operations are requested at the same time. Java's order of operations is as follows:\n",
    "\n",
    "Code|Meaning|Importance\n",
    ":--|:--|:--\n",
    "`()`|Parentheses|1\n",
    "`++`&`--`|Increment/Decrement|2\n",
    "`*`&`/`|Multiplication/Division|3\n",
    "`*`&`-`|Addition/Subtraction|4\n",
    "\n",
    "If multiple operations of the same importance are requested at the same time they are evaluated from left to right."
   ]
  },
  {
   "cell_type": "markdown",
   "id": "401d74e9",
   "metadata": {},
   "source": [
    "## Binary operators\n",
    "Binary operators are operators which take two \"operands\" e.g. *add this to that*.\n",
    "\n",
    "Operator|Name|Usage|Example\n",
    ":--|:--|:--|:--\n",
    "`+`|Plus|Add numerical values/concatenate strings w/ other strings, variables etc|`System.out.println(\"I am \"+myAge+\" years old\")`\n",
    "`-`|Minus|Subtract numerical values|`netSalary = grossSalary - taxDue`\n",
    "`*`|Times|Multiplication/Duplication|`bunnyMultiplier = bunny * 2`\n",
    "`/`|Divide|Division|`System.out.println(42/12)`\n",
    "`%`|Modulus/Remainder|Returns remainder of division|`System.out.print(12%11) // prints 1`\n",
    "\n",
    "__NOTE__: *division by zero will result in an error message*"
   ]
  },
  {
   "cell_type": "markdown",
   "id": "562d7869",
   "metadata": {},
   "source": [
    "## Unary operators\n",
    "Unary operators only take one operand e.g. *increase this by 1*.\n",
    "\n",
    "Operator|Name|Usage\n",
    ":--|:--|:--\n",
    "`+`|Unary Plus|Indicates positive value\n",
    "`-`|Unary Minus|Indicates negative value\n",
    "`++`|Increment|Increase by 1\n",
    "`--`|Decrement|Decrease by 1\n",
    "`!`|Logical complement|Inverts the value of a boolean"
   ]
  },
  {
   "cell_type": "markdown",
   "id": "8558c46e",
   "metadata": {},
   "source": [
    "## Assignment operators\n",
    "As you'd expect, assignment operators assign a value.\n",
    "\n",
    "Operator|Name|Description|Example\n",
    ":--|:--|:--|:--\n",
    "`=`|equals|Assigns the value on the right to the item on the left|`myInt = 10`\n",
    "`+=`|plus-equals|Increases and assigns the item on the left by the item on the right|`myInt += 1`\n",
    "`-=`|minus-equals|Decreases and assigns the item on the left by the item on the right|`myInt -= 4`\n",
    "`*=`|times-equals|Multiplies and assigns the item on the left by the item on the right|`myInt *= 3`\n",
    "`/=`|divide-equals|Divides and assigns the item on the left by the on the right|`myInt /= 2`\n",
    "`%=`|remainder-equals|Gets the remainder of the item on the left divided by the item on the right and assigns|`myInt %= 1`"
   ]
  },
  {
   "cell_type": "markdown",
   "id": "944bc326",
   "metadata": {},
   "source": [
    "## Logical operators\n",
    "Logical operators are generally used for comparing two things e.g. *Is this bigger than that*.\n",
    "\n",
    "### Equality & relational Operators\n",
    "\n",
    "Operator|Meaning\n",
    ":--|:--\n",
    "`==`|Equal to\n",
    "`!=`|Not equal to\n",
    "`>`|Greater than\n",
    "`>=`|Greater than or equal to\n",
    "`<`|Less than\n",
    "`<=`|Less than or equal to\n",
    "\n",
    "### Conditional operators\n",
    "\n",
    "Operator|Meaning\n",
    ":--|:--\n",
    "`&&`|Conditional AND\n",
    "`\\|\\|`|Conditional OR\n",
    "`!`|NOT\n",
    "`?:`|Ternary (shorthand for `if then else` statement)\n",
    "\n",
    "__NOTE__: *In the case of `&&` the second part of the operation will only be reached if the first part is true. In the case of `||` the second part will only be reached if the first part is false. For example \"is x AND y true\" you only need to worry about whether \"y\" is true if you've already established that \"x\" is true.*\n",
    "\n",
    "### Type comparison operator\n",
    "\n",
    "Operator|Meaning\n",
    ":--|:--\n",
    "`instanceof`|Compares an object to a specified type"
   ]
  },
  {
   "cell_type": "markdown",
   "id": "12eeb2fd",
   "metadata": {},
   "source": [
    "## Increment and Decrement\n",
    "As in many languages Java has a shorthand for incrementing and decrementing by `1`:\n",
    "- `++` increments (increases) the value by 1\n",
    "- `--` decrements (decreases) the value by 1\n",
    "\n",
    "The placement of the increment/decrement is important as Java includes the concept of *pre*-decrement/increment and *post*-decrement/increment. If you're performing multiple operations at the same time and you place the `++`/`--` *before* the variable to be incremented/decremented then Java will perform the increment/decrement before any other operations. \n",
    "\n",
    "Example:"
   ]
  },
  {
   "cell_type": "code",
   "execution_count": 1,
   "id": "00dcaf49",
   "metadata": {},
   "outputs": [
    {
     "name": "stdout",
     "output_type": "stream",
     "text": [
      "7\n",
      "8\n"
     ]
    },
    {
     "data": {
      "text/plain": [
       "null"
      ]
     },
     "execution_count": 1,
     "metadata": {},
     "output_type": "execute_result"
    }
   ],
   "source": [
    "int myInt = 7; // initialise myInt with value of 7\n",
    "System.out.println(myInt++); // print and THEN increment by 1\n",
    "System.out.println(myInt); // just print (so we can see that it was in fact incremented)"
   ]
  },
  {
   "cell_type": "markdown",
   "id": "dc8b4a39",
   "metadata": {},
   "source": [
    "## Type casting and Promotion\n",
    "If you try to assign a variable or expression to another variable of a different type, there's a good change you will receive an error unless you're assigning to a larger (as in memory) type. For example:"
   ]
  },
  {
   "cell_type": "code",
   "execution_count": 2,
   "id": "18c75971",
   "metadata": {},
   "outputs": [
    {
     "ename": "incompatible types",
     "evalue": " possible lossy conversion from int to byte",
     "output_type": "error",
     "traceback": [
      "\u001b[1;31mincompatible types: possible lossy conversion from int to byte\u001b[0;0m",
      "\u001b[1;31m byte num3 = num1 + num2\u001b[0;0m",
      "\u001b[1;31m             ^          ^ \u001b[0;0m"
     ]
    }
   ],
   "source": [
    "int num1 = 42; // int is 32 bits\n",
    "int num2 = 5; // int is 32 bits\n",
    "byte num3 = num1 + num2; // byte is 8 bits"
   ]
  },
  {
   "cell_type": "markdown",
   "id": "0fea2076",
   "metadata": {},
   "source": [
    "To fix this you can either __promote__ the bottom variable to a larger type or __type cast__ the first to variables to a smaller type."
   ]
  },
  {
   "cell_type": "code",
   "execution_count": 26,
   "id": "ed6b4bee",
   "metadata": {},
   "outputs": [
    {
     "data": {
      "text/plain": [
       "null"
      ]
     },
     "execution_count": 26,
     "metadata": {},
     "output_type": "execute_result"
    }
   ],
   "source": [
    "// EXAMPLE 1: promotion\n",
    "int num4 = 42;\n",
    "int num5 = 5;\n",
    "int num6 = num4 + num5;\n",
    "\n",
    "// EXAMPLE 2: type casting\n",
    "int num7 = 42;\n",
    "int num8 = 5;\n",
    "byte num9 = (byte)(num7 + num8);"
   ]
  },
  {
   "cell_type": "markdown",
   "id": "4dfc03bc",
   "metadata": {},
   "source": [
    "### Promotion\n",
    "Promotion is the act of changing a variable from a smaller to a larger type (as in example one above)."
   ]
  },
  {
   "cell_type": "markdown",
   "id": "4742fd05",
   "metadata": {},
   "source": [
    "### Type casting\n",
    "Type casting is the act of changing a variable from a larger type down to a smaller type. The format is:\n",
    "<br>`variable_name = (type)(value)` *(you only need the second set of parentheses if the value is an expression)*\n",
    "\n",
    "__USE WITH CAUTION__ as type casting can often result in a loss of data"
   ]
  },
  {
   "cell_type": "markdown",
   "id": "c084a02e",
   "metadata": {},
   "source": [
    "### Compiler auto-changing type\n",
    "In some cases the Java compiler will automatically change a variable to a larger type. This is called __promotion__. Promotions may be automatically done by the compiler if data would not be lost by doing so. Such promotions occur under the following conditions:\n",
    "- If you assign a smaller type (on the right of the `=`) to a larger type (on the left of the `=`). Example: \n",
    "    <br>`int job1 = 100;`\n",
    "    <br>`int job2 = 56;`\n",
    "    <br>`long job3 = job1 * job2;`\n",
    "- If you assign an int type to a float type, because there are no decimal places to lose\n",
    "\n",
    "The compiler makes some assumptions when evaluating an expression. Most operations result in an `int` or `long`.\n",
    "- `byte`, `char`, and `short` values are promoted to `int` before an operation is performed.\n",
    "- If either of type `long` the other is also promoted to `long` and the result will be `long`.\n",
    "- If an expression contains a `float` the entire expression is promoted to `float`\n",
    "- *literal* floating-point values are seen as `double`. This is why we need to put `F` or `f` at the end of a float value (doing so tells Java that it's a float). Example:\n",
    "    <br>`float myFloat = 31.5f;`\n",
    "    - You can also type cast to float instead of using the `F`/`f` assignment. Example:\n",
    "    <br>`float myFloat = (float) 31.5;`"
   ]
  },
  {
   "cell_type": "code",
   "execution_count": 31,
   "id": "3a3cac85",
   "metadata": {},
   "outputs": [
    {
     "ename": "incompatible types",
     "evalue": " possible lossy conversion from int to byte",
     "output_type": "error",
     "traceback": [
      "\u001b[1;31mincompatible types: possible lossy conversion from int to byte\u001b[0;0m",
      "\u001b[1;31m byte b3 = b1 + b2\u001b[0;0m",
      "\u001b[1;31m           ^      ^ \u001b[0;0m"
     ]
    }
   ],
   "source": [
    "byte b1 = 1, b2 = 2;\n",
    "byte b3 = b1 + b2; // will result in an error even though all are bytes because the b1 and b2 are promoted to int before the addition is performed"
   ]
  },
  {
   "cell_type": "markdown",
   "id": "3acc9360",
   "metadata": {},
   "source": [
    "### Temporary memory location\n",
    "When an equation is being assigned to a variable, before the assignment happens the equation is placed in a temporary memory location. This locations size is always equal to either an `int` or the largest type used in the expression. So, if you have a `long` to which you're assigning the result of an expression which is `int * int`, before the expression is assigned to the larger `long` size variable it is placed in a temporary memory of space `int`. This means that if the result of the expression is greater than what an `int` can hold your result will likely be incorrect due to loss of data (as the result will be truncated to fit an `int`).\n",
    "<br>`int first = 2_120_342;`\n",
    "<br>`int second = 2_325_860;`\n",
    "<br>`long = first + second;`\n",
    "\n",
    "To avoid such an occurence you can make sure that one of the variables in your expression is a `long`."
   ]
  },
  {
   "cell_type": "code",
   "execution_count": 32,
   "id": "79521bc1",
   "metadata": {},
   "outputs": [
    {
     "name": "stdout",
     "output_type": "stream",
     "text": [
      "Lossy calculation: -591337666\n",
      "Non-lossy calculation: 3703629630\n"
     ]
    },
    {
     "data": {
      "text/plain": [
       "null"
      ]
     },
     "execution_count": 32,
     "metadata": {},
     "output_type": "execute_result"
    }
   ],
   "source": [
    "int first = 55555; // int\n",
    "int second = 66666; // int\n",
    "long third = first * second; // temporarily stored in an int before being assigned to a long\n",
    "\n",
    "System.out.println(\"Lossy calculation: \" + third);\n",
    "\n",
    "int smaller = 55555; // int\n",
    "long larger = 66666; // long\n",
    "long largest = smaller * larger; // temprarily stored in the largest var of the equation (long) before being assigned to a long\n",
    "\n",
    "System.out.println(\"Non-lossy calculation: \" + largest);"
   ]
  },
  {
   "cell_type": "markdown",
   "id": "aa13fb3a",
   "metadata": {},
   "source": [
    "### Assigning the result of an expresssion to `long`\n",
    "If you declare a `long` and try to initialise it with an expression whose result may exceed the boundaries of an `int` you need to make sure to cast one of the values with an `L`/`l` (otherwise the calculation will lose data in the temporary `int` sized storage)."
   ]
  },
  {
   "cell_type": "code",
   "execution_count": 35,
   "id": "c384aaf4",
   "metadata": {},
   "outputs": [
    {
     "name": "stdout",
     "output_type": "stream",
     "text": [
      "-591337666\n",
      "3703629630\n"
     ]
    },
    {
     "data": {
      "text/plain": [
       "null"
      ]
     },
     "execution_count": 35,
     "metadata": {},
     "output_type": "execute_result"
    }
   ],
   "source": [
    "long myLong = 55555 * 66666; // incorrect value due to loss of data\n",
    "System.out.println(myLong);\n",
    "\n",
    "long myActualLong = 55555L * 66666;\n",
    "System.out.println(myActualLong);"
   ]
  },
  {
   "cell_type": "markdown",
   "id": "3abd8874",
   "metadata": {},
   "source": [
    "## Loss of magnitude vs loss of precision\n",
    "One intricacy of type conversion that's a little unintuitive is that __loss of magnitude__ (i.e. *this will not fit into that*) requires explicit casting (meaning you have to force the data and essentially confirm that you're ok with any loss of data) whereas __loss of precision__ (i.e. *this will fit into that but might not match exactly*) doesn't require casting.\n",
    "\n",
    "Java works on a \"widening path\" where `byte`<`short`<`int`<`long`<`float`<`double`. So conversion going from left-to-right (e.g. `long` to `float`) will not require casting whereas a conversion going from right-to-left (e.g. `double` to `long`) will."
   ]
  },
  {
   "cell_type": "markdown",
   "id": "4d1a1719",
   "metadata": {},
   "source": [
    "## Bitwise operators\n",
    "Bitwise operators are operators specifically for use with __long__, __int__, __short__, __char__, and __byte__ values. They cannot be used on __boolean__, __float__, __double__, or class types. They're used to test, set, and shift individual bits (hence the name bitwise) that make up a value. Bitwise operations are generally used in systems-level programming.\n",
    "\n",
    "Operator|Meaning\n",
    ":--|:--\n",
    "`&`|Bitwise AND\n",
    "`\\|`|Bitwise OR\n",
    "`^`|Bitwise exclusive OR\n",
    "`>>`|Shift right\n",
    "`>>>`|Unsigned shift right\n",
    "`<<`|Shift left\n",
    "`~`|One's complement (unary NOT)"
   ]
  },
  {
   "cell_type": "code",
   "execution_count": null,
   "id": "cfcfc060",
   "metadata": {},
   "outputs": [],
   "source": []
  }
 ],
 "metadata": {
  "kernelspec": {
   "display_name": "Java",
   "language": "java",
   "name": "java"
  },
  "language_info": {
   "codemirror_mode": "text/x-java",
   "file_extension": ".java",
   "mimetype": "",
   "name": "Java",
   "nbconverter_exporter": "",
   "version": "1.8.0_121"
  },
  "toc": {
   "base_numbering": 1,
   "nav_menu": {},
   "number_sections": false,
   "sideBar": false,
   "skip_h1_title": false,
   "title_cell": "Table of Contents",
   "title_sidebar": "Contents",
   "toc_cell": false,
   "toc_position": {},
   "toc_section_display": false,
   "toc_window_display": false
  }
 },
 "nbformat": 4,
 "nbformat_minor": 5
}
