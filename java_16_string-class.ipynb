{
 "cells": [
  {
   "cell_type": "markdown",
   "id": "06fb1724",
   "metadata": {},
   "source": [
    "# Java's String class\n",
    "One of the many classes provided by the Java class library and one you'll use frequently is the String class. This class provides the ability to store sequences of characters. In Java, as in many languages, Strings:\n",
    "- are immutable (i.e. cannot be changed, you can't insert at index or delete characters from the string etc)\n",
    "- can be concatenated using the plus (`+`) symbol"
   ]
  },
  {
   "cell_type": "markdown",
   "id": "7b1ca656",
   "metadata": {},
   "source": [
    "## Creating a String literal vs a String object\n",
    "Unlike most classes in Java you will more often create a string without ever using the `new` keyword.\n",
    "\n",
    "String literals exist in Java memory in a pool (the String Constant Pool) and if you try to create another variable which contains the same string, Java will look in the pool and see that it already has that string so it will make the new variable point to that same literal.\n",
    "\n",
    "On the other hand, when explicitly creating objects using the `new` keyword, Java doesn't care if there's already an object which looks like the one you're trying to create, it will still create a new one in memory.\n",
    "- `String myString = \"Hello World!\";` is a string <u>literal</u> (\"*Hello World!*\") which is created in the pool and it's reference/name is assigned to the string-type variable \"*myString*\"\n",
    "<br><br>\n",
    "- `String myStringObj = new String();\"` is a String <u>object</u> instantiated using the String class' constructor. Since the pool is only for Strings a new piece of memory needs to be used to hold this new object.\n",
    "\n",
    "Assigning strings as literals is more memory efficient than instantiating String objects."
   ]
  },
  {
   "cell_type": "markdown",
   "id": "873c410e",
   "metadata": {},
   "source": [
    "## Concatenating strings\n",
    "Since strings are immutable, when you concatenate two strings you're actually creating a new string in memory. So, if you assign the concatenated string to the same variable name that was used previously, the variable now points to this new string and the previous string is unassigned and inaccessible. That unassigned literal will be \"garbage collected\" (i.e. Java will delete it from memory at some point)."
   ]
  },
  {
   "cell_type": "code",
   "execution_count": 2,
   "id": "dd627cca",
   "metadata": {},
   "outputs": [
    {
     "name": "stdout",
     "output_type": "stream",
     "text": [
      "Hello World!\n"
     ]
    },
    {
     "data": {
      "text/plain": [
       "null"
      ]
     },
     "execution_count": 2,
     "metadata": {},
     "output_type": "execute_result"
    }
   ],
   "source": [
    "String myStr1 = \"Hello \";\n",
    "String myStr2 = \"World!\";\n",
    "myStr1 = myStr1+myStr2; // creates a new literal \"Hello World!\" and assigns it to myStr1\n",
    "System.out.println(myStr1); // \"Hello\" is now floating in Java's memory unassigned and will be automatically deleted"
   ]
  },
  {
   "cell_type": "markdown",
   "id": "2cd47bf5",
   "metadata": {},
   "source": [
    "## String methods\n",
    "As with most classes, String comes with many methods. Most of these methods will return a single value which can be a primitive or a reference to an object. In order to use the returned value from the method you will often need to assign it to a variable. However, you can also use a method as part of an expression.\n",
    "\n",
    "__NOTE__: the methods of the String class are `final` and thus cannot be overridden."
   ]
  },
  {
   "cell_type": "code",
   "execution_count": 8,
   "id": "71062769",
   "metadata": {},
   "outputs": [
    {
     "name": "stdout",
     "output_type": "stream",
     "text": [
      "bar: 3\n",
      "hello world!\n"
     ]
    },
    {
     "data": {
      "text/plain": [
       "null"
      ]
     },
     "execution_count": 8,
     "metadata": {},
     "output_type": "execute_result"
    }
   ],
   "source": [
    "String foo = \"bar\";\n",
    "int fooLength = foo.length();\n",
    "System.out.println(foo + \": \" + fooLength);\n",
    "\n",
    "String ho = \" HeLLO\"; // space before hello\n",
    "String wd = \"WORLd \"; // space after world\n",
    "String en = \" ! \"; // space before and after !\n",
    "String trimmedConcat = (ho.trim() + \" \" + wd.trim() + en.trim()).toLowerCase(); // a single expression which concatenantes the 3 strings and lowers the case\n",
    "System.out.println(trimmedConcat);"
   ]
  },
  {
   "cell_type": "markdown",
   "id": "d1e8ebaa",
   "metadata": {},
   "source": [
    "### Methods with arguments\n",
    "Some string methods require you to pass an argument when calling them."
   ]
  },
  {
   "cell_type": "code",
   "execution_count": 15,
   "id": "fb8d4b23",
   "metadata": {},
   "outputs": [
    {
     "name": "stdout",
     "output_type": "stream",
     "text": [
      "o World!\n",
      "true\n",
      "false\n"
     ]
    },
    {
     "data": {
      "text/plain": [
       "null"
      ]
     },
     "execution_count": 15,
     "metadata": {},
     "output_type": "execute_result"
    }
   ],
   "source": [
    "String fullString = \"Hello World!\";\n",
    "String partString = fullString.substring(4); // subString takes an index at which to start the substring\n",
    "System.out.println(partString);\n",
    "System.out.println(fullString.endsWith(\"ld!\")); // ends with takes a string or string-reference to check for\n",
    "System.out.println(fullString.equals(partString));  // equals takes a string or string-reference"
   ]
  },
  {
   "cell_type": "markdown",
   "id": "708cb331",
   "metadata": {},
   "source": [
    "## Useful methods\n",
    "Below are some useful/common String methods."
   ]
  },
  {
   "cell_type": "markdown",
   "id": "ea615011",
   "metadata": {},
   "source": [
    "### `charAt()`\n",
    "Returns the character located at the index passed to it."
   ]
  },
  {
   "cell_type": "code",
   "execution_count": 19,
   "id": "2da65b06",
   "metadata": {},
   "outputs": [
    {
     "name": "stdout",
     "output_type": "stream",
     "text": [
      "A\n"
     ]
    },
    {
     "data": {
      "text/plain": [
       "null"
      ]
     },
     "execution_count": 19,
     "metadata": {},
     "output_type": "execute_result"
    }
   ],
   "source": [
    "char wall = \"All in all it's just another brick in the wall\".charAt(0);\n",
    "System.out.println(wall);"
   ]
  },
  {
   "cell_type": "markdown",
   "id": "542c0103",
   "metadata": {},
   "source": [
    "### `concat()`\n",
    "Appends the string passed to it, to the string it's called on."
   ]
  },
  {
   "cell_type": "code",
   "execution_count": 21,
   "id": "8ce83fa7",
   "metadata": {},
   "outputs": [
    {
     "name": "stdout",
     "output_type": "stream",
     "text": [
      "Hello World!\n"
     ]
    },
    {
     "data": {
      "text/plain": [
       "null"
      ]
     },
     "execution_count": 21,
     "metadata": {},
     "output_type": "execute_result"
    }
   ],
   "source": [
    "String s1 = \"Hello \";\n",
    "String s2 = \"World!\";\n",
    "System.out.println(s1.concat(s2));"
   ]
  },
  {
   "cell_type": "markdown",
   "id": "1a090945",
   "metadata": {},
   "source": [
    "### `equals()` and `equalsIgnoreCase()`\n",
    "Both return a boolean value depending on whether the string passed to it is the same as the string it's called on. `equalsIgnoreCase` will ignore whether the letters are different cases."
   ]
  },
  {
   "cell_type": "code",
   "execution_count": 22,
   "id": "e5075a7d",
   "metadata": {},
   "outputs": [
    {
     "name": "stdout",
     "output_type": "stream",
     "text": [
      "false\n",
      "true\n"
     ]
    },
    {
     "data": {
      "text/plain": [
       "null"
      ]
     },
     "execution_count": 22,
     "metadata": {},
     "output_type": "execute_result"
    }
   ],
   "source": [
    "String foo1 = \"FOO\";\n",
    "String foo2 = \"foo\";\n",
    "System.out.println(foo1.equals(foo2));\n",
    "System.out.println(foo1.equalsIgnoreCase(foo2));"
   ]
  },
  {
   "cell_type": "markdown",
   "id": "96c6bff6",
   "metadata": {},
   "source": [
    "### `length()`\n",
    "Returns an int representing the length of the string it's called on."
   ]
  },
  {
   "cell_type": "code",
   "execution_count": 23,
   "id": "68cfc092",
   "metadata": {},
   "outputs": [
    {
     "name": "stdout",
     "output_type": "stream",
     "text": [
      "The string is 3 characters long.\n"
     ]
    },
    {
     "data": {
      "text/plain": [
       "null"
      ]
     },
     "execution_count": 23,
     "metadata": {},
     "output_type": "execute_result"
    }
   ],
   "source": [
    "String bar = \"foo\";\n",
    "System.out.println(\"The string is \" + bar.length() + \" characters long.\");"
   ]
  },
  {
   "cell_type": "markdown",
   "id": "4ef41334",
   "metadata": {},
   "source": [
    "### `replace()`\n",
    "Takes two arguments, all occurrences of the first argument will be replaced with the second argument in a new version of the string that this method is called on."
   ]
  },
  {
   "cell_type": "code",
   "execution_count": 26,
   "id": "7d14f3a5",
   "metadata": {},
   "outputs": [
    {
     "name": "stdout",
     "output_type": "stream",
     "text": [
      "A kiss is just a kiss\n",
      "A sneeze is just a sneeze\n"
     ]
    },
    {
     "data": {
      "text/plain": [
       "null"
      ]
     },
     "execution_count": 26,
     "metadata": {},
     "output_type": "execute_result"
    }
   ],
   "source": [
    "String mustRemember = \"A kiss is just a kiss\";\n",
    "System.out.println(mustRemember);\n",
    "mustRemember = mustRemember.replace(\"kiss\",\"sneeze\"); // must be assigned explicitly since strings are immutable (the orig can't be changed)\n",
    "System.out.println(mustRemember);"
   ]
  },
  {
   "cell_type": "markdown",
   "id": "17b436eb",
   "metadata": {},
   "source": [
    "### `toLowerCase()`\n",
    "Returns a new String with lowercase letters."
   ]
  },
  {
   "cell_type": "code",
   "execution_count": 29,
   "id": "9f9c0a1d",
   "metadata": {},
   "outputs": [
    {
     "name": "stdout",
     "output_type": "stream",
     "text": [
      "is this a dagger i see before me?\n"
     ]
    },
    {
     "data": {
      "text/plain": [
       "null"
      ]
     },
     "execution_count": 29,
     "metadata": {},
     "output_type": "execute_result"
    }
   ],
   "source": [
    "String mcb = \"IS THIS A DAGGER I SEE BEFORE ME?\";\n",
    "mcb = mcb.toLowerCase();\n",
    "System.out.println(mcb);"
   ]
  },
  {
   "cell_type": "markdown",
   "id": "c3667471",
   "metadata": {},
   "source": [
    "### `toUpperCase()`\n",
    "Returns a new String with uppercase letters."
   ]
  },
  {
   "cell_type": "code",
   "execution_count": 30,
   "id": "d7dcfc9f",
   "metadata": {},
   "outputs": [
    {
     "name": "stdout",
     "output_type": "stream",
     "text": [
      "SUFFER THE SLINGS AND ARROWS\n"
     ]
    },
    {
     "data": {
      "text/plain": [
       "null"
      ]
     },
     "execution_count": 30,
     "metadata": {},
     "output_type": "execute_result"
    }
   ],
   "source": [
    "String nobler = \"suffer the slings and arrows\";\n",
    "nobler = nobler.toUpperCase();\n",
    "System.out.println(nobler);"
   ]
  },
  {
   "cell_type": "markdown",
   "id": "03e641cb",
   "metadata": {},
   "source": [
    "### `trim()`\n",
    "Removes leading and trailing whitespace characters."
   ]
  },
  {
   "cell_type": "code",
   "execution_count": 31,
   "id": "2f97a30c",
   "metadata": {},
   "outputs": [
    {
     "name": "stdout",
     "output_type": "stream",
     "text": [
      "poor Yorrick\n"
     ]
    },
    {
     "data": {
      "text/plain": [
       "null"
      ]
     },
     "execution_count": 31,
     "metadata": {},
     "output_type": "execute_result"
    }
   ],
   "source": [
    "String wspace = \"                    poor Yorrick                           \";\n",
    "wspace = wspace.trim();\n",
    "System.out.println(wspace);"
   ]
  },
  {
   "cell_type": "markdown",
   "id": "4a59da99",
   "metadata": {},
   "source": [
    "### `substring()`\n",
    "Returns a new string which is a substring of the string it was called on. You can pass either a single argument (start index, the index to start the substring) or two arguments (start index and end index)."
   ]
  },
  {
   "cell_type": "code",
   "execution_count": 37,
   "id": "378f171e",
   "metadata": {},
   "outputs": [
    {
     "name": "stdout",
     "output_type": "stream",
     "text": [
      "a horse is a horse of course of course.\n"
     ]
    },
    {
     "data": {
      "text/plain": [
       "null"
      ]
     },
     "execution_count": 37,
     "metadata": {},
     "output_type": "execute_result"
    }
   ],
   "source": [
    "String richie = \"My kingdom for a horse\";\n",
    "String rsub = richie.substring(15);\n",
    "String mrEd = rsub + \" is \" + rsub + \" of course of course.\";\n",
    "System.out.println(mrEd);"
   ]
  },
  {
   "cell_type": "markdown",
   "id": "1832e93e",
   "metadata": {},
   "source": [
    "### `toString()`\n",
    "Returns a string representation of an object. This method is actually inherited from Java's Object class and is commonly overridden when creating objects. Its default value isn't the most useful so you will generally want to override with a more useful version"
   ]
  },
  {
   "cell_type": "code",
   "execution_count": 41,
   "id": "2fab19fb",
   "metadata": {},
   "outputs": [
    {
     "data": {
      "text/plain": [
       "test.beaker.EHorizon"
      ]
     },
     "execution_count": 41,
     "metadata": {},
     "output_type": "execute_result"
    }
   ],
   "source": [
    "package test.beaker;\n",
    "\n",
    "public class EHorizon {\n",
    "    public String dest = \"Where we're going you won't need eyes\";\n",
    "    public boolean crewDead = true;\n",
    "}"
   ]
  },
  {
   "cell_type": "code",
   "execution_count": 43,
   "id": "89d14a2e",
   "metadata": {},
   "outputs": [
    {
     "name": "stdout",
     "output_type": "stream",
     "text": [
      "test.beaker.EHorizon@11f82ddf\n"
     ]
    },
    {
     "data": {
      "text/plain": [
       "null"
      ]
     },
     "execution_count": 43,
     "metadata": {},
     "output_type": "execute_result"
    }
   ],
   "source": [
    "package test.beaker;\n",
    "\n",
    "EHorizon evnt = new EHorizon();\n",
    "\n",
    "System.out.println(evnt.toString()); // rather uninformative default output"
   ]
  },
  {
   "cell_type": "markdown",
   "id": "43124fd1",
   "metadata": {},
   "source": [
    "### `compareTo()` and `compareToIgnoreCase()`\n",
    "`compareTo` and `compareToIgnoreCase` will compare the string passed to and the string they're called on \"lexicographically\" using their unicode values."
   ]
  },
  {
   "cell_type": "code",
   "execution_count": 47,
   "id": "bbc3f2e1",
   "metadata": {},
   "outputs": [
    {
     "name": "stdout",
     "output_type": "stream",
     "text": [
      "32\n",
      "-32\n",
      "32\n",
      "0\n"
     ]
    },
    {
     "data": {
      "text/plain": [
       "null"
      ]
     },
     "execution_count": 47,
     "metadata": {},
     "output_type": "execute_result"
    }
   ],
   "source": [
    "String a1 = \"a\";\n",
    "String a2 = \"A\";\n",
    "System.out.println(a1.compareTo(a2)); // returns 32 because \"a\" has a unicode value 97 of whereas \"A\"'s is 65. so \"a\" is 32 more than \"A\".\n",
    "System.out.println(a2.compareTo(a1)); // reversing the order will return -32\n",
    "System.out.println(97-65);\n",
    "System.out.println(a1.compareToIgnoreCase(a2)); // ignoreCase version "
   ]
  },
  {
   "cell_type": "markdown",
   "id": "bab190c9",
   "metadata": {},
   "source": [
    "If comparing multiple characters, the value will be tested character-by-character from left to right. This means that even if one string is significantly longer (and thus should technically have a higher value) Java will stop as soon as one string has a greater value."
   ]
  },
  {
   "cell_type": "code",
   "execution_count": 50,
   "id": "7a9cb009",
   "metadata": {},
   "outputs": [
    {
     "name": "stdout",
     "output_type": "stream",
     "text": [
      "-32\n"
     ]
    },
    {
     "data": {
      "text/plain": [
       "null"
      ]
     },
     "execution_count": 50,
     "metadata": {},
     "output_type": "execute_result"
    }
   ],
   "source": [
    "String longString = \"aBcdEFGhijkLMNOpqrsTUVWxyz\";\n",
    "String shortString = \"ab\";\n",
    "System.out.println(longString.compareTo(shortString)); // reports that longString is 32 less than shortString because \"B\" is 32 less than \"b\""
   ]
  },
  {
   "cell_type": "markdown",
   "id": "eee2b417",
   "metadata": {},
   "source": [
    "### `getChars()`\n",
    "Copies chars from a string to an array."
   ]
  },
  {
   "cell_type": "code",
   "execution_count": 55,
   "id": "2cc35bc3",
   "metadata": {},
   "outputs": [
    {
     "name": "stdout",
     "output_type": "stream",
     "text": [
      "Hell\n"
     ]
    },
    {
     "data": {
      "text/plain": [
       "null"
      ]
     },
     "execution_count": 55,
     "metadata": {},
     "output_type": "execute_result"
    }
   ],
   "source": [
    "char [] charArray = new char[4]; // create and instantiate a char array with a length of 4\n",
    "String myString = \"Hello\"; // create a string to copy the chars from\n",
    "myString.getChars(0,4,charArray, 0); // call getChars method passing start-index, end-index, destination-array, index of destination-array to place the chars\n",
    "System.out.println(charArray);"
   ]
  },
  {
   "cell_type": "markdown",
   "id": "0bc3c4f9",
   "metadata": {},
   "source": [
    "### `indexOf()`\n",
    "Returns the index of the first occurence of the passed substring or `-1` if no match is found."
   ]
  },
  {
   "cell_type": "code",
   "execution_count": 57,
   "id": "0d661738",
   "metadata": {},
   "outputs": [
    {
     "name": "stdout",
     "output_type": "stream",
     "text": [
      "11\n",
      "-1\n"
     ]
    },
    {
     "data": {
      "text/plain": [
       "null"
      ]
     },
     "execution_count": 57,
     "metadata": {},
     "output_type": "execute_result"
    }
   ],
   "source": [
    "String whoIsIt = \"it's-a mee Mario!\";\n",
    "int whereIsHe = whoIsIt.indexOf(\"Mario\");\n",
    "int whereIsLuigi = whoIsIt.indexOf(\"Luigi\");\n",
    "System.out.println(whereIsHe);\n",
    "System.out.println(whereIsLuigi);"
   ]
  },
  {
   "cell_type": "markdown",
   "id": "e0eadc6d",
   "metadata": {},
   "source": [
    "### `lastIndexOf()`\n",
    "Returns the index of the last occurence (i.e. searches in reverse)."
   ]
  },
  {
   "cell_type": "code",
   "execution_count": 58,
   "id": "1ff23d29",
   "metadata": {},
   "outputs": [
    {
     "name": "stdout",
     "output_type": "stream",
     "text": [
      "27\n"
     ]
    },
    {
     "data": {
      "text/plain": [
       "null"
      ]
     },
     "execution_count": 58,
     "metadata": {},
     "output_type": "execute_result"
    }
   ],
   "source": [
    "String oldPoem = \"up the airy mountains down the rushy glen\";\n",
    "int findThe = oldPoem.lastIndexOf(\"the\");\n",
    "System.out.println(findThe);"
   ]
  },
  {
   "cell_type": "markdown",
   "id": "70a30380",
   "metadata": {},
   "source": [
    "### `printf()`\n",
    "While not strictly a String method, it's worth discussing `printf()` given how it functions and how frequently you'll use it with strings. This method allows you to use a formatted string where you specify the places in a string in which you want to insert variables and then pass the variables in the order they should be inserted.\n",
    "<br>\n",
    "<br>`System.out.printf(\"String in which to insert variables\", variable1, variable2);`\n",
    "\n",
    "#### Format specifiers\n",
    "Format specifiers are placeholders that tell Java __A.)__ where you want to insert a variable and __B.)__ what sort of variable to expect.\n",
    "- `%s`: string placeholder\n",
    "- `%c`: char placeholder\n",
    "- `%f`: float/double placeholder (place `.<number>` between `%` and `f` to specify how many decimal places)\n",
    "- `%d`: digit/int placeholder\n",
    "- `%b`: boolean placeholder\n",
    "- `%n`: new-line character (same function as `\\n`)"
   ]
  },
  {
   "cell_type": "code",
   "execution_count": 64,
   "id": "9c158956",
   "metadata": {},
   "outputs": [
    {
     "name": "stdout",
     "output_type": "stream",
     "text": [
      "This sentence contains 4 variables."
     ]
    },
    {
     "data": {
      "text/plain": [
       "null"
      ]
     },
     "execution_count": 64,
     "metadata": {},
     "output_type": "execute_result"
    }
   ],
   "source": [
    "String svar1 = \"variable\";\n",
    "String svar2 = \"sentence\";\n",
    "String svar3 = \"This\";\n",
    "int svar4 = 4;\n",
    "System.out.printf(\"%s %s contains %d %ss.\", svar3, svar2, svar4, svar1); // NOTE: the variables must be passed in the order they are to be inserted"
   ]
  },
  {
   "cell_type": "code",
   "execution_count": 63,
   "id": "77855dbf",
   "metadata": {},
   "outputs": [
    {
     "name": "stdout",
     "output_type": "stream",
     "text": [
      "dinghy\n",
      "dinghy\n"
     ]
    },
    {
     "data": {
      "text/plain": [
       "null"
      ]
     },
     "execution_count": 63,
     "metadata": {},
     "output_type": "execute_result"
    }
   ],
   "source": [
    "String s1 = \"dinghyrubber\";\n",
    "String s2 = \"dinghy\";\n",
    "System.out.println(s2);\n",
    "s2.concat(s1);\n",
    "System.out.println(s2);"
   ]
  },
  {
   "cell_type": "code",
   "execution_count": null,
   "id": "79ba5797",
   "metadata": {},
   "outputs": [],
   "source": []
  }
 ],
 "metadata": {
  "kernelspec": {
   "display_name": "Java",
   "language": "java",
   "name": "java"
  },
  "language_info": {
   "codemirror_mode": "text/x-java",
   "file_extension": ".java",
   "mimetype": "",
   "name": "Java",
   "nbconverter_exporter": "",
   "version": "1.8.0_121"
  },
  "toc": {
   "base_numbering": 1,
   "nav_menu": {},
   "number_sections": false,
   "sideBar": false,
   "skip_h1_title": false,
   "title_cell": "Table of Contents",
   "title_sidebar": "Contents",
   "toc_cell": false,
   "toc_position": {},
   "toc_section_display": false,
   "toc_window_display": false
  }
 },
 "nbformat": 4,
 "nbformat_minor": 5
}
