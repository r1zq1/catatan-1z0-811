{
 "cells": [
  {
   "cell_type": "markdown",
   "id": "c7f98068",
   "metadata": {},
   "source": [
    "# Importing Java Packages"
   ]
  },
  {
   "cell_type": "markdown",
   "id": "1c51a12e",
   "metadata": {},
   "source": [
    "## What are Packages?\n",
    "A package is a collection of `classes` and `interfaces`. In Java all classes must be stored within a package. Any classes which you've used so far and *didn't* need to import are those stored in the __default package__."
   ]
  },
  {
   "cell_type": "markdown",
   "id": "5d06aa02",
   "metadata": {},
   "source": [
    "## The `java.lang` Package\n",
    "The fundamental classes & interfaces of the Java language are stored in the `java.lang` package which is automatically/implicitly imported.\n",
    "\n",
    "One notable occupant is the `Object` class, the ultilmate parent class in Java from which all other classes are derived. The `String` and `Math` classes are two other such occupants."
   ]
  },
  {
   "cell_type": "markdown",
   "id": "0119f20f",
   "metadata": {},
   "source": [
    "## Importing Packages\n",
    "There are two main ways to import packages in Java:"
   ]
  },
  {
   "cell_type": "markdown",
   "id": "8dc377f9",
   "metadata": {},
   "source": [
    "### Using the wildcard operator\n",
    "If you want to import many classes from the same package, you use the __wildcard__ operator (`*`):\n",
    "<br>`import java.util.*;`\n",
    "\n",
    "This will make all clases from within that package available."
   ]
  },
  {
   "cell_type": "markdown",
   "id": "a9a58627",
   "metadata": {},
   "source": [
    "### Using the fully qualified name\n",
    "If you only want to import one specific class you can use it's fully qualified name to import it:\n",
    "<br>`import java.util.ArrayList;`"
   ]
  },
  {
   "cell_type": "markdown",
   "id": "a50810d9",
   "metadata": {},
   "source": [
    "## Subpackages\n",
    "A package stored within another package is known as a __subpackage__. \n",
    "\n",
    "To import a specific class from a subpackage using its fully qualified name, you would use this format: `import <package_name>.<subpackage_name>.<class_name>;`.\n",
    "\n",
    "Importing all classes from a subpackage can be done like so: `import <package_name>.<subpackage_name>.*;`"
   ]
  },
  {
   "cell_type": "code",
   "execution_count": null,
   "id": "2ba8e612",
   "metadata": {},
   "outputs": [],
   "source": []
  }
 ],
 "metadata": {
  "kernelspec": {
   "display_name": "Java",
   "language": "java",
   "name": "java"
  },
  "language_info": {
   "codemirror_mode": "text/x-java",
   "file_extension": ".java",
   "mimetype": "",
   "name": "Java",
   "nbconverter_exporter": "",
   "version": "1.8.0_121"
  },
  "toc": {
   "base_numbering": 1,
   "nav_menu": {},
   "number_sections": false,
   "sideBar": false,
   "skip_h1_title": false,
   "title_cell": "Table of Contents",
   "title_sidebar": "Contents",
   "toc_cell": false,
   "toc_position": {},
   "toc_section_display": false,
   "toc_window_display": false
  }
 },
 "nbformat": 4,
 "nbformat_minor": 5
}
