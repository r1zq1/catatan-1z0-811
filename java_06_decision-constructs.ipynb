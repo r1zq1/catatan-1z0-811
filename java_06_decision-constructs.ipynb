{
 "cells": [
  {
   "cell_type": "markdown",
   "id": "62ec552e",
   "metadata": {},
   "source": [
    "# Decision constructs"
   ]
  },
  {
   "cell_type": "markdown",
   "id": "c19605cd",
   "metadata": {},
   "source": [
    "## If statement\n",
    "An `if` statement executes some code *if* a certain condition is met e.g. *if var1 == 3, print it* or *if var2 is not equal to \"cheese\" don't print it*. The syntax for an if statement in Java is:\n",
    "<br>\n",
    "<br>\n",
    "`if (bool expression) {\n",
    "    code block\n",
    "    }`"
   ]
  },
  {
   "cell_type": "code",
   "execution_count": 4,
   "id": "b891b148",
   "metadata": {},
   "outputs": [
    {
     "name": "stdout",
     "output_type": "stream",
     "text": [
      "bar\n"
     ]
    },
    {
     "data": {
      "text/plain": [
       "null"
      ]
     },
     "execution_count": 4,
     "metadata": {},
     "output_type": "execute_result"
    }
   ],
   "source": [
    "String foo = \"bar\";\n",
    "if (foo == \"bar\") {\n",
    "    System.out.println(foo);\n",
    "}\n",
    "\n",
    "if (foo == \"cheese\") {\n",
    "    System.out.println(\"Where's my cheese?\");\n",
    "}"
   ]
  },
  {
   "cell_type": "markdown",
   "id": "c4131628",
   "metadata": {},
   "source": [
    "## If/Else\n",
    "An if statement can be extended to include an `else` block which will only be executed if the `if` block isn't. The syntax is:\n",
    "<br>\n",
    "<br>\n",
    "`if (bool expression) {\n",
    "    code block\n",
    "} // end if\n",
    "else {\n",
    "    code block\n",
    "} // end else`"
   ]
  },
  {
   "cell_type": "code",
   "execution_count": 5,
   "id": "802f3fdf",
   "metadata": {},
   "outputs": [
    {
     "name": "stdout",
     "output_type": "stream",
     "text": [
      "The crime has been solved!\n"
     ]
    },
    {
     "data": {
      "text/plain": [
       "null"
      ]
     },
     "execution_count": 5,
     "metadata": {},
     "output_type": "execute_result"
    }
   ],
   "source": [
    "String detective1 = \"Sherlock\";\n",
    "String detective2 = \"Watson\";\n",
    "\n",
    "if (detective1 == \"Sherlock\" && detective2 == \"Watson\") {\n",
    "    System.out.println(\"The crime has been solved!\");\n",
    "} // end if\n",
    "else {\n",
    "    System.out.println(\"Ugh, not Lestrade.\");\n",
    "} // end else"
   ]
  },
  {
   "cell_type": "markdown",
   "id": "0c91af93",
   "metadata": {},
   "source": [
    "## If/Else If\n",
    "You can further extend the functionality of an `if` statement by using an `if`/`else if` which allows you to perform multiple checks for different code blocks e.g. *if var1 is 1 or 2 print \"Freddy's coming for you\", else if var2 is 3 or 4 print \"better lock your door\", else if var 3 is 5 or 6 print \"get a crucifix\"* and so on. The syntax is:\n",
    "<br>\n",
    "<br>\n",
    "`if (bool expr) {\n",
    "    code block\n",
    "} // end if\n",
    "else if (bool expr) {\n",
    "    code block\n",
    "} // end else if\n",
    "else {\n",
    "    clode block\n",
    "} // end else`"
   ]
  },
  {
   "cell_type": "code",
   "execution_count": 6,
   "id": "b31c4f93",
   "metadata": {},
   "outputs": [
    {
     "name": "stdout",
     "output_type": "stream",
     "text": [
      "Gonna stay up late\n"
     ]
    },
    {
     "data": {
      "text/plain": [
       "null"
      ]
     },
     "execution_count": 6,
     "metadata": {},
     "output_type": "execute_result"
    }
   ],
   "source": [
    "int scarySong = 8;\n",
    "\n",
    "if (scarySong == 1 || scarySong == 2) {\n",
    "    System.out.println(\"Freddy's comin' for you\");\n",
    "} // end if\n",
    "else if (scarySong == 3 || scarySong == 4) {\n",
    "    System.out.println(\"Better lock your door\");\n",
    "} // end else-if 1\n",
    "else if (scarySong == 5 || scarySong == 6) {\n",
    "    System.out.println(\"Get a crucifix\");\n",
    "} // end else-if 2\n",
    "else if (scarySong == 7 || scarySong == 8) {\n",
    "    System.out.println(\"Gonna stay up late\");\n",
    "} // end else-if 3\n",
    "else {\n",
    "    System.out.println(\"Never sleep again!\");\n",
    "} // end else"
   ]
  },
  {
   "cell_type": "markdown",
   "id": "50cb265c",
   "metadata": {},
   "source": [
    "## Switch statement\n",
    "Chaining multiple `if`/`else if` can eventually become unwieldy. To simplify this somewhat you can use a `switch` construct instead. The syntax is:\n",
    "<br>\n",
    "<br>\n",
    "`switch (variable_to_test) {\n",
    "    case literal_value:\n",
    "        code block\n",
    "        break;\n",
    "    case literal_value:\n",
    "        code block\n",
    "        break;\n",
    "    default:\n",
    "        code block\n",
    "} // end switch`\n",
    "\n",
    "The variable being tested in a switch construct can only be of types `String`, `char`, `byte`, `short`, or `int`. The combination of a `case` keyword and a `literal_value` is referred to as a __case label__. The `[break;]` statement is an optional way to escape execution at a defined point. If you do not include any breaks then all code after a matching `case` will be executed until the end of the construct (this is called __fall-through__)."
   ]
  },
  {
   "cell_type": "code",
   "execution_count": 7,
   "id": "50e53cc4",
   "metadata": {},
   "outputs": [
    {
     "name": "stdout",
     "output_type": "stream",
     "text": [
      "A big fat hen\n"
     ]
    },
    {
     "data": {
      "text/plain": [
       "null"
      ]
     },
     "execution_count": 7,
     "metadata": {},
     "output_type": "execute_result"
    }
   ],
   "source": [
    "int nonScarySong = 9;\n",
    "// Switch example 1\n",
    "switch (nonScarySong) {\n",
    "    case 1:\n",
    "    case 2:\n",
    "        System.out.println(\"Buckle my shoe\");\n",
    "        break;\n",
    "    case 3:\n",
    "    case 4:\n",
    "        System.out.println(\"Knock at the door\");\n",
    "        break;\n",
    "    case 5:\n",
    "    case 6:\n",
    "        System.out.println(\"Pick up sticks\");\n",
    "        break;\n",
    "    case 7:\n",
    "    case 8:\n",
    "        System.out.println(\"Lay them straight\");\n",
    "        break;\n",
    "    default:\n",
    "        System.out.println(\"A big fat hen\");\n",
    "} // end switch"
   ]
  },
  {
   "cell_type": "markdown",
   "id": "bfb6b564",
   "metadata": {},
   "source": [
    "## Using the ternery conditional operator as an `if`/`else`\n",
    "The __ternery operator__ (`?:`) is used as a succinct if/else construct. The syntax is:\n",
    "<br>\n",
    "<br>`condition ? if_true_do_this : if_false_do_this`"
   ]
  },
  {
   "cell_type": "code",
   "execution_count": 22,
   "id": "2198726d",
   "metadata": {},
   "outputs": [
    {
     "name": "stdout",
     "output_type": "stream",
     "text": [
      "Solved!\n"
     ]
    },
    {
     "data": {
      "text/plain": [
       "null"
      ]
     },
     "execution_count": 22,
     "metadata": {},
     "output_type": "execute_result"
    }
   ],
   "source": [
    "String detective1 = \"Holmes\";\n",
    "String detective2 = \"LeStrade\";\n",
    "String status = (detective1==\"Holmes\")? \"Solved!\": \"Pending...\";\n",
    "\n",
    "System.out.println(status);"
   ]
  },
  {
   "cell_type": "code",
   "execution_count": null,
   "id": "a3400f5e",
   "metadata": {},
   "outputs": [],
   "source": []
  }
 ],
 "metadata": {
  "kernelspec": {
   "display_name": "Java",
   "language": "java",
   "name": "java"
  },
  "language_info": {
   "codemirror_mode": "text/x-java",
   "file_extension": ".java",
   "mimetype": "",
   "name": "Java",
   "nbconverter_exporter": "",
   "version": "1.8.0_121"
  },
  "toc": {
   "base_numbering": 1,
   "nav_menu": {},
   "number_sections": false,
   "sideBar": false,
   "skip_h1_title": false,
   "title_cell": "Table of Contents",
   "title_sidebar": "Contents",
   "toc_cell": false,
   "toc_position": {},
   "toc_section_display": false,
   "toc_window_display": false
  }
 },
 "nbformat": 4,
 "nbformat_minor": 5
}
