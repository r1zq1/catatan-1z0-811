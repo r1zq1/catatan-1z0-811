{
 "cells": [
  {
   "cell_type": "markdown",
   "id": "9826628b",
   "metadata": {},
   "source": [
    "# Exceptions and Error Handling in Java\n",
    "Exceptions are pre-defined error messages that most languages include. When executing complex code which is likely to encounter errors it's beneficial to have a way of handling such errors. In particular you want to:\n",
    "1. Obtain info about why the error occurred\n",
    "2. Supply the user with a useful message"
   ]
  },
  {
   "cell_type": "markdown",
   "id": "cb329d40",
   "metadata": {},
   "source": [
    "When an exception occurs we say it has been \"*thrown*\" and in Java the throwing of an exception creates an object which can be passed to a __catch__ block (that's a piece of code designed to be run if a specified error is thrown, it allows you more control over execution). In Java there are three main types of objects which can be *thrown* and all are derived from a superclass `Throwable`:\n",
    "- `Error`: these are typically external, unchecked errors and are automatically thrown to the calling method\n",
    "- `RuntimeException`: normally caused by programming mistakes (typos, missing syntax etc), these are also unchecked and automatically thrown to the calling method\n",
    "- `Exception`: these errors must be checked which means the exception must be explicitly thrown to the calling method or caught by a `try`/`catch` block\n",
    "\n",
    "A throwable is the only object type which can be used as an argument in a `catch` clause and the only object type that can be \"throw\" to the calling method."
   ]
  },
  {
   "cell_type": "markdown",
   "id": "e51ffefb",
   "metadata": {},
   "source": [
    "## The call stack\n",
    "The \"call stack\" is a sequence of methods each triggered by the previous method. For example, lets say you have a `main` method which calls a `sayHello` method. The `sayHello` method calls an `preferredGreeting` method in turn calls an `obtainName` method and so on. This sequence from origin point to endpoint is the __call stack__. Each method call returns its result to the method that called it. So `obtainName` passes its return back to `preferredGreeting` which returns to `sayHello` etc.\n",
    "\n",
    "If an exception is not __caught__ it will be passed up the call stack in much the same way that a successful execution's result would be albeit with an exception object. If an exception *is* caught it will be thrown to the applicable catch block rather than running back up the call stack."
   ]
  },
  {
   "cell_type": "markdown",
   "id": "73b8ddd8",
   "metadata": {},
   "source": [
    "## Where should exceptions be handled?\n",
    "It's good practice to handle exceptions in the method in which they occur since the calling method may not be eqipped to do so. Since exceptions can't be ignored they need to be either handled within the method that threw it or elsewhere in the call stack (otherwise the program will stop)."
   ]
  },
  {
   "cell_type": "markdown",
   "id": "814162b7",
   "metadata": {},
   "source": [
    "## How to handle an exception\n",
    "The handling of exceptions is done using a `try`/`catch`. The structure looks similar to an `if`/`else`. The idea is that you encase the code which you think is most likely to encounter errors within a `try` block and then in the `catch` block you tell Java what to do if an error occurs.\n",
    "<br>\n",
    "<br>`public void myMethod() {`\n",
    "<br>&nbsp;&nbsp;&nbsp;&nbsp;__`try {`__\n",
    "<br>&nbsp;&nbsp;&nbsp;&nbsp;&nbsp;&nbsp;&nbsp;&nbsp;`..do something...`\n",
    "<br>&nbsp;&nbsp;&nbsp;&nbsp;`}`\n",
    "<br>&nbsp;&nbsp;&nbsp;&nbsp;__`catch (Exception e) {`__\n",
    "<br>&nbsp;&nbsp;&nbsp;&nbsp;&nbsp;&nbsp;&nbsp;&nbsp;`..do something w/ e...`\n",
    "<br>&nbsp;&nbsp;&nbsp;&nbsp;`}`\n",
    "\n",
    "The following are considered best practices:\n",
    "- catch the specific exception thrown rather than a general superclass like `Exception` or `Throwable`\n",
    "- examine the exception to determine the cause\n",
    "- it's  not necessary to catch *every* exception"
   ]
  },
  {
   "cell_type": "code",
   "execution_count": 6,
   "id": "3bae0104",
   "metadata": {},
   "outputs": [
    {
     "data": {
      "text/plain": [
       "test.beaker.ExChecker"
      ]
     },
     "execution_count": 6,
     "metadata": {},
     "output_type": "execute_result"
    }
   ],
   "source": [
    "package test.beaker;\n",
    "\n",
    "public class ExChecker {\n",
    "    public void sayHello() {\n",
    "        try {\n",
    "            getGreeting();\n",
    "        }\n",
    "        catch (Exception e) { // exception is the most general error and should generally not be used like this\n",
    "            System.out.println(\"We got an error: \" + e);\n",
    "        } // catch\n",
    "    } // sayHello\n",
    "    \n",
    "    public void getGreeting() throws Exception { // adding \"throws Exception\" here ensures that it will be thrown to the place that calls it\n",
    "        throw new Exception(); // you can explicitly tell Java to throw an exception, useful for testing & debugging\n",
    "    }\n",
    "} // class"
   ]
  },
  {
   "cell_type": "code",
   "execution_count": 7,
   "id": "54fd0549",
   "metadata": {},
   "outputs": [
    {
     "name": "stdout",
     "output_type": "stream",
     "text": [
      "We got an error: java.lang.Exception\n"
     ]
    },
    {
     "data": {
      "text/plain": [
       "null"
      ]
     },
     "execution_count": 7,
     "metadata": {},
     "output_type": "execute_result"
    }
   ],
   "source": [
    "package test.beaker;\n",
    "\n",
    "ExChecker tester = new ExChecker();\n",
    "tester.sayHello();"
   ]
  },
  {
   "cell_type": "markdown",
   "id": "aa9a49d1",
   "metadata": {},
   "source": [
    "It's advisable to look up any class you intend to use in the [Java API Documentation](https://docs.oracle.com/javase/7/docs/api/) to determine what exceptions given class may throw. For example, the `File` class contains a `createNewFile()` method which can throw two different exceptions:\n",
    "- `IOException`: A checked exception which is thrown if an I/O (input/output) error occurs.\n",
    "- `SecurityException`: A runtime exception relating to write access."
   ]
  },
  {
   "cell_type": "markdown",
   "id": "28d629d9",
   "metadata": {},
   "source": [
    "## Chaining `catch` blocks\n",
    "In the event that a method can throw multiple exceptions and you want include a catch for each, you can chain catch blocks. If an exception is thrown and an applicable `catch` is present only the applicable catch block will execute."
   ]
  },
  {
   "cell_type": "code",
   "execution_count": 36,
   "id": "efa2880a",
   "metadata": {},
   "outputs": [
    {
     "data": {
      "text/plain": [
       "test.beaker.MultiEx"
      ]
     },
     "execution_count": 36,
     "metadata": {},
     "output_type": "execute_result"
    }
   ],
   "source": [
    "package test.beaker;\n",
    "\n",
    "import java.io.*;\n",
    "\n",
    "public class MultiEx {\n",
    "    public void callEx() {\n",
    "        try {\n",
    "            definedEx();\n",
    "        }\n",
    "        catch (FileNotFoundException e) {\n",
    "            System.out.println(e);\n",
    "        }\n",
    "        catch (ArrayIndexOutOfBoundsException e) {\n",
    "            System.out.println(e);\n",
    "        }\n",
    "        catch (Exception e) {\n",
    "            System.out.println(e);\n",
    "        } // try-catch\n",
    "    } // callEx\n",
    "    \n",
    "    public void definedEx() throws FileNotFoundException, ArrayIndexOutOfBoundsException { /* since we're handling the exception in the calling method and not this method\n",
    "                                                                                            we need to tell Java that we expect this method to throw one an exception*/\n",
    "        throw new FileNotFoundException();\n",
    "    }\n",
    "    \n",
    "} // class"
   ]
  },
  {
   "cell_type": "code",
   "execution_count": 21,
   "id": "5b873527",
   "metadata": {},
   "outputs": [
    {
     "name": "stdout",
     "output_type": "stream",
     "text": [
      "java.io.FileNotFoundException\n"
     ]
    },
    {
     "data": {
      "text/plain": [
       "null"
      ]
     },
     "execution_count": 21,
     "metadata": {},
     "output_type": "execute_result"
    }
   ],
   "source": [
    "package test.beaker;\n",
    "\n",
    "MultiEx test = new MultiEx();\n",
    "test.callEx();"
   ]
  },
  {
   "cell_type": "markdown",
   "id": "66ce348a",
   "metadata": {},
   "source": [
    "## What happens after an exception is handled?\n",
    "If you successfully catch & handle an exception, execution of the code resumes after the `catch` block (assuming that the caught exception wasn't critical to program execution). There may be times that you explicitly *don't* want execution to resume after an exception has been caught, in which case you can terminate the program within the `catch` block using:\n",
    "<br>\n",
    "<br>`System.exit(1);`"
   ]
  },
  {
   "cell_type": "markdown",
   "id": "8a2e65ac",
   "metadata": {},
   "source": [
    "## Defining your own exceptions\n",
    "Since exceptions are classes and we've seen you can *extend* classes to create your own which inherit from their parent, you can create custom exceptions in the same way. Lets say we have a `Phone` class for which we want to need define some exceptions for specific functions:"
   ]
  },
  {
   "cell_type": "code",
   "execution_count": 26,
   "id": "54584c3d",
   "metadata": {},
   "outputs": [
    {
     "data": {
      "text/plain": [
       "test.beaker.NoSignalException"
      ]
     },
     "execution_count": 26,
     "metadata": {},
     "output_type": "execute_result"
    }
   ],
   "source": [
    "package test.beaker;\n",
    "\n",
    "// define our custom exception\n",
    "public class NoSignalException extends Exception {\n",
    "    public NoSignalException() {\n",
    "    }\n",
    "    public NoSignalException(String msg) {\n",
    "        super(msg);\n",
    "    }\n",
    "}"
   ]
  },
  {
   "cell_type": "code",
   "execution_count": 33,
   "id": "b42247f5",
   "metadata": {},
   "outputs": [
    {
     "data": {
      "text/plain": [
       "test.beaker.Phone"
      ]
     },
     "execution_count": 33,
     "metadata": {},
     "output_type": "execute_result"
    }
   ],
   "source": [
    "package test.beaker;\n",
    "\n",
    "// define a phone class to make use of the custom exception\n",
    "public class Phone {\n",
    "    public int signalBars;\n",
    "    \n",
    "    public Phone() {\n",
    "        this.signalBars = 15;\n",
    "    } // constructor\n",
    "    \n",
    "    public void makeCall() throws NoSignalException { // since we're not catching the exception we need to declare it in the method signature\n",
    "        if (this.signalBars > 25) {\n",
    "            System.out.println(\"Making call...\");\n",
    "        } else {\n",
    "            throw new NoSignalException(\"Signal of \" + this.signalBars + \"% is too weak to make call.\"); // if signalBars is low throw exception\n",
    "        } // if-else\n",
    "    } // makeCall\n",
    "}"
   ]
  },
  {
   "cell_type": "code",
   "execution_count": 34,
   "id": "fd933a4e",
   "metadata": {},
   "outputs": [
    {
     "ename": "ERROR",
     "evalue": " test.beaker.NoSignalException",
     "output_type": "error",
     "traceback": [
      "\u001b[1;31mERROR: test.beaker.NoSignalException: Signal of 15% is too weak to make call.\u001b[0;0m"
     ]
    }
   ],
   "source": [
    "package test.beaker;\n",
    "\n",
    "// trigger our exception by instantiating an object and calling the method we defined\n",
    "Phone mobile = new Phone();\n",
    "mobile.makeCall();"
   ]
  },
  {
   "cell_type": "markdown",
   "id": "7a7427ba",
   "metadata": {},
   "source": [
    "## Exception class hierarchy\n",
    "As mentioned above, all exceptions come from a parent class `Throwable`. There are two main groups of exceptions within this tree:\n",
    "- Unchecked exceptions\n",
    "- Checked exceptions\n",
    "\n",
    "Unchecked exceptions are don't necessarily require a try/catch block. You can choose to handle them but the compiler won't force you to do so. Ideally if we are careful in writing code we won't incur any of these. Exceptions that inherit from the `Error` class are also classified as *unchecked* and represent a critical error which the program normally can't ignore/recover from.\n",
    "\n",
    "Checked exceptions are checked at compile time by the compiler and are often often the result of external resources such as databases or files not being available. If a method can throw a checked exception it must either handle the exception with a try/catch or declare the exception as part of the __method signature__ otherwise the program will not compile. Example of declaring exception in a method signature: `public void myMethod() throws Exception {}`"
   ]
  },
  {
   "cell_type": "markdown",
   "id": "d381887d",
   "metadata": {},
   "source": [
    "Exception|Subclass of|Category\n",
    ":--|:--|:--\n",
    "`Throwable`|`Object`|-\n",
    "`Error`|`Throwable`|Unchecked\n",
    "`Exception`|`Throwable`|Checked\n",
    "`LinkageError`|`Error`|Unchecked\n",
    "`VirtualMachineError`|`Error`|Unchecked\n",
    "`AWTerror`|`Error`|Unchecked\n",
    "`AWTException`|`Exception`|Checked\n",
    "`IOException`|`Exception`|Checked\n",
    "`RuntimeException`|`Exception`|Unchecked\n",
    "`ArithmeticException`|`RuntimeException`|Unchecked\n",
    "`NullPointerException`|`RuntimeException`|Unchecked\n",
    "`ArrayIndexOutOfBoundException`|`RuntimeException`|Unchecked\n",
    "`IllegalArgumentException`|`RuntimeException`|Unchecked\n",
    "`InterruptedIOException`|`IOException`|Checked\n",
    "`EOFException`|`IOException`|Checked\n",
    "`FileNotFoundException`|`IOException`|Checked"
   ]
  },
  {
   "cell_type": "markdown",
   "id": "11e3a2cb",
   "metadata": {},
   "source": [
    "## The `finally` block\n",
    "In the event that you want some code to run regardless of whether an exception was thrown or caught, you can use a `finally` block which is placed after the last `catch` block.\n",
    "<br>`try {`\n",
    "<br>&nbsp;&nbsp;&nbsp;`...try code...`\n",
    "<br>`} catch {`\n",
    "<br>&nbsp;&nbsp;&nbsp;`...catch code...`\n",
    "<br>__`} finally {`__\n",
    "<br>&nbsp;&nbsp;&nbsp;`...finally code...`\n",
    "<br>`}`"
   ]
  },
  {
   "cell_type": "code",
   "execution_count": 1,
   "id": "47d38839",
   "metadata": {},
   "outputs": [
    {
     "data": {
      "text/plain": [
       "test.beaker.EThrower"
      ]
     },
     "execution_count": 1,
     "metadata": {},
     "output_type": "execute_result"
    }
   ],
   "source": [
    "package test.beaker;\n",
    "\n",
    "public class EThrower {\n",
    "    public void throwEx() throws Exception {\n",
    "        throw new Exception();\n",
    "    } // throwEx\n",
    "} // class"
   ]
  },
  {
   "cell_type": "code",
   "execution_count": 3,
   "id": "b9204924",
   "metadata": {},
   "outputs": [
    {
     "name": "stdout",
     "output_type": "stream",
     "text": [
      "I'll print if there IS an exception\n",
      "I'll print either way\n"
     ]
    },
    {
     "data": {
      "text/plain": [
       "null"
      ]
     },
     "execution_count": 3,
     "metadata": {},
     "output_type": "execute_result"
    }
   ],
   "source": [
    "package test.beaker;\n",
    "\n",
    "EThrower et = new EThrower();\n",
    "try {\n",
    "    et.throwEx();\n",
    "    System.out.println(\"I'll print if there ISN'T exception\");\n",
    "}\n",
    "catch(Exception e) {\n",
    "    System.out.println(\"I'll print if there IS an exception\");\n",
    "}\n",
    "finally {\n",
    "    System.out.println(\"I'll print either way\");\n",
    "}"
   ]
  },
  {
   "cell_type": "code",
   "execution_count": null,
   "id": "d3780425",
   "metadata": {},
   "outputs": [],
   "source": []
  }
 ],
 "metadata": {
  "kernelspec": {
   "display_name": "Java",
   "language": "java",
   "name": "java"
  },
  "language_info": {
   "codemirror_mode": "text/x-java",
   "file_extension": ".java",
   "mimetype": "",
   "name": "Java",
   "nbconverter_exporter": "",
   "version": "1.8.0_121"
  },
  "toc": {
   "base_numbering": 1,
   "nav_menu": {},
   "number_sections": false,
   "sideBar": false,
   "skip_h1_title": false,
   "title_cell": "Table of Contents",
   "title_sidebar": "Contents",
   "toc_cell": false,
   "toc_position": {},
   "toc_section_display": false,
   "toc_window_display": false
  }
 },
 "nbformat": 4,
 "nbformat_minor": 5
}
