{
 "cells": [
  {
   "cell_type": "markdown",
   "id": "79fa2215",
   "metadata": {},
   "source": [
    "# Constructors"
   ]
  },
  {
   "cell_type": "markdown",
   "id": "f10bddb4",
   "metadata": {},
   "source": [
    "## What is a constructor?\n",
    "A constructor is a method for instantiating objects. We've seen this before when using the `new` keyword to instantiate an object:\n",
    "<br>`Car ford = new Car(\"blue\");`\n",
    "\n",
    "In the above example we tell Java that we're calling a constructor method by using the `new` keyword and telling it what constructor by calling the class name with parentheses. The word \"blue\" within the parentheses is an argument being passed to the constructor. In order to do this the constructor would need to be capable of accepting arguments. In this scenario we can imagine that the `Car()` constructor has been written to accept a *colour* parameter with which to set the instance colour of the object it creates."
   ]
  },
  {
   "cell_type": "markdown",
   "id": "6953e977",
   "metadata": {},
   "source": [
    "## Specifying a constructor\n",
    "Java includes a default constructor in any class but we can explicitly define a constructor ourselves by calling the class name (with parentheses) within the class definition. You can combine this with use of the `this` keyword to set properties on any instances that will be created.\n",
    "\n",
    "Lets create a book class:"
   ]
  },
  {
   "cell_type": "code",
   "execution_count": 2,
   "id": "b9370534",
   "metadata": {},
   "outputs": [
    {
     "data": {
      "text/plain": [
       "test.beaker.Book"
      ]
     },
     "execution_count": 2,
     "metadata": {},
     "output_type": "execute_result"
    }
   ],
   "source": [
    "package test.beaker;\n",
    "\n",
    "public class Book {\n",
    "    // create instance variables\n",
    "    private String title;\n",
    "    private String author;\n",
    "    private int numPages;\n",
    "    private String language;\n",
    "    private float price;\n",
    "    private boolean inPrint;\n",
    "    private String releaseDate;\n",
    "    private String genre;\n",
    "    \n",
    "    // create constructor method\n",
    "    public Book(String title, String author, int numPages, String language, float price, boolean inPrint, String releaseDate, String genre) {\n",
    "        this.title = title;\n",
    "        this.author = author;\n",
    "        this.numPages = numPages;\n",
    "        this.language = language;\n",
    "        this.price = price;\n",
    "        this.inPrint = inPrint;\n",
    "        this.releaseDate = releaseDate;\n",
    "        this.genre = genre;\n",
    "    } // END constructor\n",
    "    \n",
    "    // getter methods\n",
    "    public String getTitle() {\n",
    "        return this.title;\n",
    "    } // END getTitle\n",
    "    \n",
    "    public String getAuthor() {\n",
    "        return this.author;\n",
    "    } // END getAuthor\n",
    "    \n",
    "    public int getNumPages() {\n",
    "        return this.numPages;\n",
    "    } // END getNumPages\n",
    "    \n",
    "    public String getLanguage() {\n",
    "        return this.language;\n",
    "    } // END getLanguage\n",
    "    \n",
    "    public float getPrice() {\n",
    "        return this.price;\n",
    "    } // END getPrice\n",
    "    \n",
    "    public boolean getInPrint() {\n",
    "        return this.inPrint;\n",
    "    } // END getInPrint\n",
    "    \n",
    "    public String getReleaseDate() {\n",
    "        return this.releaseDate;\n",
    "    } // END getReleaseDate\n",
    "    \n",
    "    public String getGenre() {\n",
    "        return this.genre;\n",
    "    } // END getGenre\n",
    "    \n",
    "    // setter methods\n",
    "    public void setTitle(String title) {\n",
    "        this.title = title;\n",
    "    } // END setTitle\n",
    "    \n",
    "    public void setAuthor(String fullname) {\n",
    "        this.author = fullname;\n",
    "    } // END setAuthor\n",
    "    \n",
    "    public void setNumPages(int num) {\n",
    "        this.numPages = num;\n",
    "    } // END setNumPages\n",
    "    \n",
    "    public void setLanguage(String lang) {\n",
    "        this.language = lang;\n",
    "    } // END setLanguage\n",
    "    \n",
    "    public void setPrice(float price) {\n",
    "        this.price = price;\n",
    "    } // END setPrice\n",
    "    \n",
    "    public void setInPrint(boolean inPrint) {\n",
    "        this.inPrint = inPrint;\n",
    "    } // END setInPrint\n",
    "    \n",
    "    public void setReleaseDate(String date) {\n",
    "        this.releaseDate = date;\n",
    "    } // END setReleaseDate\n",
    "    \n",
    "    public void setGenre(String genre) {\n",
    "        this.genre = genre;\n",
    "    } // END setGenre\n",
    "    \n",
    "    public String toString() {\n",
    "        return \"Title: \" + this.title\n",
    "            + \"\\nAuthor: \" + this.author\n",
    "            + \"\\nNo. of Pages: \" + this.numPages\n",
    "            + \"\\nLanguage: \" + this.language\n",
    "            + \"\\nPrice: \" + this.price\n",
    "            + \"\\nIs in Print: \" + this.inPrint\n",
    "            + \"\\nRelease Date: \" + this.releaseDate\n",
    "            + \"\\nGenre: \" + this.genre;\n",
    "    } // END toString\n",
    "    \n",
    "} // END book"
   ]
  },
  {
   "cell_type": "markdown",
   "id": "08e09e94",
   "metadata": {},
   "source": [
    "Now lets instantiate some books:"
   ]
  },
  {
   "cell_type": "code",
   "execution_count": 3,
   "id": "5638f9f3",
   "metadata": {},
   "outputs": [
    {
     "name": "stdout",
     "output_type": "stream",
     "text": [
      "Title: Boys Life\n",
      "Author: Rober R McCammon\n",
      "No. of Pages: 581\n",
      "Language: English\n",
      "Price: 10.99\n",
      "Is in Print: true\n",
      "Release Date: Mar 23rd 1991\n",
      "Genre: Mystery\n"
     ]
    },
    {
     "data": {
      "text/plain": [
       "null"
      ]
     },
     "execution_count": 3,
     "metadata": {},
     "output_type": "execute_result"
    }
   ],
   "source": [
    "package test.beaker;\n",
    "\n",
    "Book boysLife = new Book(\"Boys Life\",\"Rober R McCammon\",581,\"English\",10.99f,true,\"Mar 23rd 1991\",\"Mystery\");\n",
    "System.out.println(boysLife.toString());"
   ]
  },
  {
   "cell_type": "markdown",
   "id": "da6ebc6f",
   "metadata": {},
   "source": [
    "If you've explictly created a constructor which expects arguments, then trying to use it without passing any will cause an error:"
   ]
  },
  {
   "cell_type": "code",
   "execution_count": 5,
   "id": "3159dbf6",
   "metadata": {},
   "outputs": [
    {
     "ename": "constructor Book in class test.beaker.Book cannot be applied to given types;",
     "evalue": "constructor Book in class test.beaker.Book cannot be applied to given types;",
     "output_type": "error",
     "traceback": [
      "\u001b[1;31mconstructor Book in class test.beaker.Book cannot be applied to given types;\u001b[0;0m",
      "\u001b[1;31m  required: java.lang.String,java.lang.String,int,java.lang.String,float,boolean,java.lang.String,java.lang.String\u001b[0;0m",
      "\u001b[1;31m  found: no arguments\u001b[0;0m",
      "\u001b[1;31m  reason: actual and formal argument lists differ in length\u001b[0;0m",
      "\u001b[1;31m Book twilight = new Book()\u001b[0;0m",
      "\u001b[1;31m                 ^         ^ \u001b[0;0m"
     ]
    }
   ],
   "source": [
    "package test.beaker;\n",
    "\n",
    "Book twilight = new Book();"
   ]
  },
  {
   "cell_type": "markdown",
   "id": "452c3abb",
   "metadata": {},
   "source": [
    "## Implicit constructor calls\n",
    "When an object is created from a class, that class' constructor is invoked along with the constructor of every superclass above it in the chain/hierarchy. If you don't specify a constructor in your class Java will invoke the default constructor without any arguments.\n",
    "\n",
    "### Important concepts\n",
    "1. The first line of a constructor must be either a call to a `super` constructor or a call to an __overloaded__ constructor in the current class using the `this` keyword\n",
    "2. You cannot include *both* a call to the `super` constructor AND a call to an overloaded `this` constructor.\n",
    "3. If a class has no defined parent, then its parent is the Java `Object` class and the `Object` constructor is called"
   ]
  },
  {
   "cell_type": "code",
   "execution_count": 8,
   "id": "a9bc90f5",
   "metadata": {},
   "outputs": [
    {
     "data": {
      "text/plain": [
       "test.beaker.Comic"
      ]
     },
     "execution_count": 8,
     "metadata": {},
     "output_type": "execute_result"
    }
   ],
   "source": [
    "package test.beaker;\n",
    "\n",
    "public class Comic extends Book {\n",
    "    private String publisher;\n",
    "    private String hero;\n",
    "    \n",
    "    // constructor\n",
    "    public Comic(String title, String author, int numPages, String lang, float price, boolean inPrint, String releaseDate, String genre, String publisher, String hero) {\n",
    "        super(title, author, numPages, lang, price, inPrint, releaseDate, genre);\n",
    "        this.publisher = publisher;\n",
    "        this.hero = hero;\n",
    "    } \n",
    "    \n",
    "    public String toString() {\n",
    "        return super.toString() \n",
    "            + \"\\nPublisher: \" + this.publisher \n",
    "            + \"\\nHero: \" + this.hero;\n",
    "    }\n",
    "    \n",
    "} // END comic"
   ]
  },
  {
   "cell_type": "code",
   "execution_count": 11,
   "id": "f4fe0a60",
   "metadata": {},
   "outputs": [
    {
     "name": "stdout",
     "output_type": "stream",
     "text": [
      "Title: Hush\n",
      "Author: Jeff Loeb, Jim Lee\n",
      "No. of Pages: 200\n",
      "Language: English\n",
      "Price: 21.99\n",
      "Is in Print: true\n",
      "Release Date: Spring 2002\n",
      "Genre: Superhero\n",
      "Publisher: DC\n",
      "Hero: Batman\n"
     ]
    },
    {
     "data": {
      "text/plain": [
       "null"
      ]
     },
     "execution_count": 11,
     "metadata": {},
     "output_type": "execute_result"
    }
   ],
   "source": [
    "package test.beaker;\n",
    "\n",
    "Comic batmanHush = new Comic(\"Hush\", \"Jeff Loeb, Jim Lee\", 200, \"English\", 21.99f, true, \"Spring 2002\", \"Superhero\", \"DC\", \"Batman\");\n",
    "\n",
    "System.out.println(batmanHush.toString());"
   ]
  },
  {
   "cell_type": "code",
   "execution_count": null,
   "id": "c9e8245b",
   "metadata": {},
   "outputs": [],
   "source": []
  }
 ],
 "metadata": {
  "kernelspec": {
   "display_name": "Java",
   "language": "java",
   "name": "java"
  },
  "language_info": {
   "codemirror_mode": "text/x-java",
   "file_extension": ".java",
   "mimetype": "",
   "name": "Java",
   "nbconverter_exporter": "",
   "version": "1.8.0_121"
  },
  "toc": {
   "base_numbering": 1,
   "nav_menu": {},
   "number_sections": false,
   "sideBar": false,
   "skip_h1_title": false,
   "title_cell": "Table of Contents",
   "title_sidebar": "Contents",
   "toc_cell": false,
   "toc_position": {},
   "toc_section_display": false,
   "toc_window_display": false
  }
 },
 "nbformat": 4,
 "nbformat_minor": 5
}
