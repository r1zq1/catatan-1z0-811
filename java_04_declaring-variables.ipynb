{
 "cells": [
  {
   "cell_type": "markdown",
   "id": "4523044f",
   "metadata": {},
   "source": [
    "# Declaring Primitive Variables\n",
    "## What are \"Primitive\" variables?\n",
    "Primitive variables are non-object variables that are held in a specific amount of memory dedicated to your program.;"
   ]
  },
  {
   "cell_type": "markdown",
   "id": "d8aa26c3",
   "metadata": {},
   "source": [
    "## Types of variables in Java\n",
    "The main types of variables in Java are:\n",
    "\n",
    "Name|Description\n",
    ":--|:--\n",
    "`String`|A sequence of characters encased in double quotes\n",
    "`char`|A single character encased in single quotes\n",
    "`float`|A decimal (32 bits, `1.4e^-45` to `3.4e^38`) must include `f` or `F` at the end of the number\n",
    "`double`|A large decimal (64 bits, `5e^324` to `1.8e^308`)\n",
    "`int`|An integer (32 bits, `-2,147,483,648` to `2,147,483,647`)\n",
    "`boolean`|true or false\n",
    "`byte`|Very small integer (8 bits, `-128` to `127`)\n",
    "`short`|Relatively small integer (16 bits, `-32,768` to `32,767`)\n",
    "`long`|Very large numbers (64 bits, `-2^63` to `2^63-1`) must includ an `L` or `l` at the end of the number\n"
   ]
  },
  {
   "cell_type": "code",
   "execution_count": 32,
   "id": "f8ec4f27",
   "metadata": {},
   "outputs": [
    {
     "name": "stdout",
     "output_type": "stream",
     "text": [
      "My name is Dracula\n",
      "I am 32600 years old.\n",
      "I am 5.11 ft\n",
      "I have drunk 2147483648 litres of blood\n",
      "My cloak is 42.45 inches long\n"
     ]
    },
    {
     "data": {
      "text/plain": [
       "null"
      ]
     },
     "execution_count": 32,
     "metadata": {},
     "output_type": "execute_result"
    }
   ],
   "source": [
    "String myName = \"Dracula\";\n",
    "int myKills = 2146333123;\n",
    "float myHeight = 5.11f; // must end with F or f\n",
    "boolean amAlive = true;\n",
    "char myInitial = 'V';\n",
    "byte myFangs = 2;\n",
    "short myAge = 32600;\n",
    "long bloodDrunk = 2147483648L; // must end with L or l\n",
    "double cloakLength = 42.45;\n",
    "\n",
    "\n",
    "System.out.println(\"My name is \"+myName);\n",
    "System.out.println(\"I am \"+myAge+\" years old.\");\n",
    "System.out.println(\"I am \"+myHeight+\" ft\");\n",
    "System.out.println(\"I have drunk \"+bloodDrunk+\" litres of blood\");\n",
    "System.out.println(\"My cloak is \"+cloakLength+\" inches long\");"
   ]
  },
  {
   "cell_type": "markdown",
   "id": "78f5133b",
   "metadata": {},
   "source": [
    "## Declaring a constant\n",
    "If you have a variable which should keep the same value throughout the life of a program you can make it a constant using the keyword `final`.\n",
    "\n",
    "__NOTE__: convention is to declare constants in BLOCKCAPS."
   ]
  },
  {
   "cell_type": "code",
   "execution_count": 36,
   "id": "2606ce01",
   "metadata": {},
   "outputs": [
    {
     "data": {
      "text/plain": [
       "null"
      ]
     },
     "execution_count": 36,
     "metadata": {},
     "output_type": "execute_result"
    }
   ],
   "source": [
    "final String FORBIDDEN_KNOWLEDGE = \"lament configuration\";"
   ]
  },
  {
   "cell_type": "markdown",
   "id": "ec38b949",
   "metadata": {},
   "source": [
    "## Increment and Decrement\n",
    "As in many languages Java has a shorthand for incrementing and decrementing by `1`:\n",
    "- `++` increments (increases) the value by 1\n",
    "- `--` decrements (decreases) the value by 1\n",
    "\n",
    "The placement of the increment/decrement is important as Java includes the concept of *pre*-decrement/increment and *post*-decrement/increment. If you're performing multiple operations at the same time and you place the `++`/`--` *before* the variable to be incremented/decremented then Java will perform the increment/decrement before any other operations. \n",
    "\n",
    "Example:"
   ]
  },
  {
   "cell_type": "code",
   "execution_count": 37,
   "id": "5be4d4d2",
   "metadata": {},
   "outputs": [
    {
     "name": "stdout",
     "output_type": "stream",
     "text": [
      "7\n",
      "8\n"
     ]
    },
    {
     "data": {
      "text/plain": [
       "null"
      ]
     },
     "execution_count": 37,
     "metadata": {},
     "output_type": "execute_result"
    }
   ],
   "source": [
    "int myInt = 7; // initialise myInt with value of 7\n",
    "System.out.println(myInt++); // print and THEN increment by 1\n",
    "System.out.println(myInt); // just print (so we can see that it was in fact incremented)"
   ]
  },
  {
   "cell_type": "markdown",
   "id": "4d1c23b3",
   "metadata": {},
   "source": [
    "## Strings are object references NOT primitives\n",
    "In Java strings are object references and as such comparing them has some intricacies. For example if I have two strings declared like this:\n",
    "<br>`public String name1 = \"Sideshow Bob\";`\n",
    "<br>`public String name2 = \"Sideshow Bob\";`\n",
    "\n",
    "Both of those variables are pointing to a single object in memory.\n",
    "\n",
    "If you want to force Java to create two separate string objects with the same value you can do so as follows:\n",
    "<br>`public String name1 = new String(\"Sideshow Bob\");`\n",
    "<br>`public String name2 = new String(\"Sideshow Bob\");`\n",
    "\n",
    "However, this means that if you compare the strings using `==`, Java will tell you they're not the same even though they have identical content. Since when comparing strings we rarely intend to compare the space in memory and actually want to compare the content of the string you can use some string methods provided by Java."
   ]
  },
  {
   "cell_type": "code",
   "execution_count": 7,
   "id": "f967751f",
   "metadata": {},
   "outputs": [
    {
     "name": "stdout",
     "output_type": "stream",
     "text": [
      "false\n"
     ]
    },
    {
     "data": {
      "text/plain": [
       "null"
      ]
     },
     "execution_count": 7,
     "metadata": {},
     "output_type": "execute_result"
    }
   ],
   "source": [
    "String sideshow1 = new String(\"Bob\");\n",
    "String sideshow2 = new String(\"Bob\");\n",
    "\n",
    "System.out.println(sideshow1 == sideshow2);"
   ]
  },
  {
   "cell_type": "markdown",
   "id": "5dd056ed",
   "metadata": {},
   "source": [
    "### String.equals()\n",
    "The first method we can use to compare strings is the equals method. The syntax is:\n",
    "<br>`string1.equals(string2);`"
   ]
  },
  {
   "cell_type": "code",
   "execution_count": 9,
   "id": "92d0af41",
   "metadata": {},
   "outputs": [
    {
     "name": "stdout",
     "output_type": "stream",
     "text": [
      "true\n",
      "false\n"
     ]
    },
    {
     "data": {
      "text/plain": [
       "null"
      ]
     },
     "execution_count": 9,
     "metadata": {},
     "output_type": "execute_result"
    }
   ],
   "source": [
    "String sideshow1 = new String(\"Bob\");\n",
    "String sideshow2 = new String(\"Bob\");\n",
    "\n",
    "System.out.println(sideshow1.equals(sideshow2));\n",
    "System.out.println(\"Luke Perry\".equals(\"Bob\"));"
   ]
  },
  {
   "cell_type": "markdown",
   "id": "54380791",
   "metadata": {},
   "source": [
    "### String.equalsIgnoreCase()\n",
    "The second method is `.equalsIgnoreCase()` and the syntax is:\n",
    "<br>`string1.equalsIgnoreCase(string2);`"
   ]
  },
  {
   "cell_type": "code",
   "execution_count": 10,
   "id": "5233bd1f",
   "metadata": {},
   "outputs": [
    {
     "name": "stdout",
     "output_type": "stream",
     "text": [
      "false\n",
      "true\n"
     ]
    },
    {
     "data": {
      "text/plain": [
       "null"
      ]
     },
     "execution_count": 10,
     "metadata": {},
     "output_type": "execute_result"
    }
   ],
   "source": [
    "String sideshow1 = new String(\"Bob\");\n",
    "String sideshow2 = new String(\"bob\");\n",
    "\n",
    "System.out.println(sideshow1.equals(sideshow2));\n",
    "System.out.println(sideshow1.equalsIgnoreCase(sideshow2));"
   ]
  },
  {
   "cell_type": "code",
   "execution_count": null,
   "id": "05ece1a9",
   "metadata": {},
   "outputs": [],
   "source": []
  }
 ],
 "metadata": {
  "kernelspec": {
   "display_name": "Java",
   "language": "java",
   "name": "java"
  },
  "language_info": {
   "codemirror_mode": "text/x-java",
   "file_extension": ".java",
   "mimetype": "",
   "name": "Java",
   "nbconverter_exporter": "",
   "version": "1.8.0_121"
  },
  "toc": {
   "base_numbering": 1,
   "nav_menu": {},
   "number_sections": false,
   "sideBar": false,
   "skip_h1_title": false,
   "title_cell": "Table of Contents",
   "title_sidebar": "Contents",
   "toc_cell": false,
   "toc_position": {},
   "toc_section_display": false,
   "toc_window_display": false
  }
 },
 "nbformat": 4,
 "nbformat_minor": 5
}
