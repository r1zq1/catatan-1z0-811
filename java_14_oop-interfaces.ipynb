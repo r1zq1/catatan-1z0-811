{
 "cells": [
  {
   "cell_type": "markdown",
   "id": "7762c428",
   "metadata": {},
   "source": [
    "# Interfaces"
   ]
  },
  {
   "cell_type": "markdown",
   "id": "16385f61",
   "metadata": {},
   "source": [
    "## What is an interface?\n",
    "An interface is essentially an outline of a class with only abstract/default behaviours/methods. Think of it like a blueprint for a blueprint. \n",
    "\n",
    "Lets imagine I want various buildings created on my land and I intend to leave the details of what constitutes each building to whichever team is assigned to build it. I could create a rough structure of what a basic building is:\n",
    "- Each building must have a roof\n",
    "- Each building must have at least one entrance\n",
    "- Each building must have at least four windows\n",
    "\n",
    "Now that I have my outline, I create three different teams:\n",
    "1. a *home* team to create a building to live in\n",
    "2. a *shop* team to create a building for the sale of goods\n",
    "3. a *storage* team to create a building for storage\n",
    "\n",
    "I give each of these teams my very basic blueprint from which they will create their own detailed blueprints which meet the requirements of my original but add more features."
   ]
  },
  {
   "cell_type": "markdown",
   "id": "340ea1f6",
   "metadata": {},
   "source": [
    "## Creating an interface\n",
    "Lets create a simple interface as outlined above. Note how the methods declared have no curly braces."
   ]
  },
  {
   "cell_type": "code",
   "execution_count": 3,
   "id": "abfbd131",
   "metadata": {},
   "outputs": [
    {
     "data": {
      "text/plain": [
       "test.beaker.Building"
      ]
     },
     "execution_count": 3,
     "metadata": {},
     "output_type": "execute_result"
    }
   ],
   "source": [
    "package test.beaker;\n",
    "\n",
    "// create my interface\n",
    "public interface Building {\n",
    "    public boolean hasWindows = true;\n",
    "    \n",
    "    public void enter();\n",
    "    \n",
    "    public void exit();\n",
    "} // END interface"
   ]
  },
  {
   "cell_type": "markdown",
   "id": "bf11ca44",
   "metadata": {},
   "source": [
    "## Implementing classes from an interface\n",
    "Now lets use that interface to __implement__ some classes using the `implement` keyword."
   ]
  },
  {
   "cell_type": "code",
   "execution_count": 6,
   "id": "f1c9de2e",
   "metadata": {},
   "outputs": [
    {
     "data": {
      "text/plain": [
       "test.beaker.Home"
      ]
     },
     "execution_count": 6,
     "metadata": {},
     "output_type": "execute_result"
    }
   ],
   "source": [
    "package test.beaker;\n",
    "\n",
    "public class Home implements Building {\n",
    "    public int numWindows = 8;\n",
    "    \n",
    "    public void enter() {\n",
    "        System.out.println(\"Enter through the hall door.\");\n",
    "    } // END enter\n",
    "    \n",
    "    public void exit() {\n",
    "        System.out.println(\"Exit through back door.\");\n",
    "    } // END exit\n",
    "} // END home"
   ]
  },
  {
   "cell_type": "code",
   "execution_count": 9,
   "id": "59411791",
   "metadata": {},
   "outputs": [
    {
     "data": {
      "text/plain": [
       "test.beaker.Shop"
      ]
     },
     "execution_count": 9,
     "metadata": {},
     "output_type": "execute_result"
    }
   ],
   "source": [
    "package test.beaker;\n",
    "\n",
    "public class Shop implements Building {\n",
    "    public int numWindows = 6;\n",
    "    \n",
    "    public void enter() {\n",
    "        System.out.println(\"Enter through front door.\");\n",
    "    } // END enter\n",
    "    \n",
    "    public void exit() {\n",
    "        System.out.println(\"Exit through rear cargo door. Exit through side fire door in emergencies.\");\n",
    "    } // END exit\n",
    "} // END shop"
   ]
  },
  {
   "cell_type": "code",
   "execution_count": 11,
   "id": "0b64ffb6",
   "metadata": {},
   "outputs": [
    {
     "data": {
      "text/plain": [
       "test.beaker.StorageShed"
      ]
     },
     "execution_count": 11,
     "metadata": {},
     "output_type": "execute_result"
    }
   ],
   "source": [
    "package test.beaker;\n",
    "\n",
    "public class StorageShed implements Building {\n",
    "    public int numWindows = 4;\n",
    "    \n",
    "    public void enter() {\n",
    "        System.out.println(\"Enter through front double doors\");\n",
    "    } // END enter\n",
    "    \n",
    "    public void exit() {\n",
    "        System.out.println(\"Exit through front double doors, rear fire escape, or side entry.\");\n",
    "    } // END exit\n",
    "} // END storageshed"
   ]
  },
  {
   "cell_type": "code",
   "execution_count": 12,
   "id": "e8a0ab9a",
   "metadata": {},
   "outputs": [
    {
     "name": "stdout",
     "output_type": "stream",
     "text": [
      "Enter through the hall door.\n",
      "Exit through back door.\n",
      "Enter through front door.\n",
      "Exit through rear cargo door. Exit through side fire door in emergencies.\n",
      "Enter through front double doors\n",
      "Exit through front double doors, rear fire escape, or side entry.\n"
     ]
    },
    {
     "data": {
      "text/plain": [
       "null"
      ]
     },
     "execution_count": 12,
     "metadata": {},
     "output_type": "execute_result"
    }
   ],
   "source": [
    "package test.beaker;\n",
    "\n",
    "Home myHouse = new Home();\n",
    "Shop myShop = new Shop();\n",
    "StorageShed myShed = new StorageShed();\n",
    "\n",
    "myHouse.enter();\n",
    "myHouse.exit();\n",
    "\n",
    "myShop.enter();\n",
    "myShop.exit();\n",
    "\n",
    "myShed.enter();\n",
    "myShed.exit();"
   ]
  },
  {
   "cell_type": "code",
   "execution_count": null,
   "id": "672c7867",
   "metadata": {},
   "outputs": [],
   "source": []
  }
 ],
 "metadata": {
  "kernelspec": {
   "display_name": "Java",
   "language": "java",
   "name": "java"
  },
  "language_info": {
   "codemirror_mode": "text/x-java",
   "file_extension": ".java",
   "mimetype": "",
   "name": "Java",
   "nbconverter_exporter": "",
   "version": "1.8.0_121"
  },
  "toc": {
   "base_numbering": 1,
   "nav_menu": {},
   "number_sections": false,
   "sideBar": false,
   "skip_h1_title": false,
   "title_cell": "Table of Contents",
   "title_sidebar": "Contents",
   "toc_cell": false,
   "toc_position": {},
   "toc_section_display": false,
   "toc_window_display": false
  }
 },
 "nbformat": 4,
 "nbformat_minor": 5
}
