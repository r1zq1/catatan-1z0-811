{
 "cells": [
  {
   "cell_type": "markdown",
   "id": "43954fc1",
   "metadata": {},
   "source": [
    "# The `Scanner` class"
   ]
  },
  {
   "cell_type": "markdown",
   "id": "b348ed60",
   "metadata": {},
   "source": [
    "## What is a scanner?\n",
    "`Scanner` is a class located in the `java.util` package which allows us to read data in (for example from the keyboard or from a file)."
   ]
  },
  {
   "cell_type": "markdown",
   "id": "167b4a6b",
   "metadata": {},
   "source": [
    "## Getting user input\n",
    "As with most Java classes you need to instantiate an object in order to use scanners and pass the constructor some info. For example if we want to get user input from the keyboard we need to pass `System.in` which tells Java to read from the standard input device (the keyboard)."
   ]
  },
  {
   "cell_type": "code",
   "execution_count": 1,
   "id": "885dfe3d",
   "metadata": {},
   "outputs": [
    {
     "name": "stdout",
     "output_type": "stream",
     "text": [
      "Enter your favourite word: Blob\n",
      "\n",
      "Your favourite word is \"Blob\".\n"
     ]
    },
    {
     "data": {
      "text/plain": [
       "null"
      ]
     },
     "execution_count": 1,
     "metadata": {},
     "output_type": "execute_result"
    }
   ],
   "source": [
    "import java.util.Scanner;\n",
    "\n",
    "Scanner keyboardInput = new Scanner(System.in);\n",
    "\n",
    "System.out.print(\"Enter your favourite word: \");\n",
    "String userFavWord = keyboardInput.nextLine();\n",
    "System.out.printf(\"%nYour favourite word is \\\"%s\\\".%n\", userFavWord);"
   ]
  },
  {
   "cell_type": "markdown",
   "id": "2cecdf49",
   "metadata": {},
   "source": [
    "## What methods are available in the `Scanner` class?\n",
    "The following methods is a short list of *some* methods included in the Scanner class.\n",
    "\n",
    "Method|Description\n",
    ":--|:--\n",
    "`nextByte()`|Reads an integer of type `byte`\n",
    "`nextShort()`|Reads an integer of type `short`\n",
    "`nextInt()`|Reads an integer of type `int`\n",
    "`nextLong()`|Reads an integer of type `long`\n",
    "`nextFloat()`|Reads a number of type `float`\n",
    "`nextDouble()`|Reads a number of type `double`\n",
    "`next()`|Reads a string which ends before a whitespace character\n",
    "`nextLine()`|Reads a string which ends when `<Enter>`/`<Return>` is typed"
   ]
  },
  {
   "cell_type": "code",
   "execution_count": null,
   "id": "cc337044",
   "metadata": {},
   "outputs": [
    {
     "name": "stdout",
     "output_type": "stream",
     "text": [
      "Pick a number between -128 and 127: 120\n",
      "Your byte input was: 120"
     ]
    },
    {
     "data": {
      "text/plain": [
       "null"
      ]
     },
     "execution_count": 1,
     "metadata": {},
     "output_type": "execute_result"
    }
   ],
   "source": [
    "import java.util.Scanner;\n",
    "\n",
    "Scanner keyboardInput = new Scanner(System.in);\n",
    "\n",
    "System.out.print(\"Pick a number between -128 and 127: \");\n",
    "byte byteInput = keyboardInput.nextByte();\n",
    "System.out.printf(\"Your byte input was: %d\",byteInput);"
   ]
  },
  {
   "cell_type": "code",
   "execution_count": null,
   "id": "d02097ba",
   "metadata": {},
   "outputs": [
    {
     "name": "stdout",
     "output_type": "stream",
     "text": [
      "Enter a decimal: 3.456\n",
      "Your decimal was: 3.456000\n"
     ]
    },
    {
     "data": {
      "text/plain": [
       "null"
      ]
     },
     "execution_count": 2,
     "metadata": {},
     "output_type": "execute_result"
    }
   ],
   "source": [
    "import java.util.Scanner;\n",
    "\n",
    "Scanner keyboardInput = new Scanner(System.in);\n",
    "\n",
    "System.out.print(\"Enter a decimal: \");\n",
    "float floatIn = keyboardInput.nextFloat();\n",
    "System.out.printf(\"Your decimal was: %.2f%n\",floatIn);"
   ]
  },
  {
   "cell_type": "code",
   "execution_count": 5,
   "id": "aff3b29f",
   "metadata": {},
   "outputs": [
    {
     "name": "stdout",
     "output_type": "stream",
     "text": [
      "Type something: Bah Weep Grana\n",
      "You typed: Bah"
     ]
    },
    {
     "data": {
      "text/plain": [
       "null"
      ]
     },
     "execution_count": 5,
     "metadata": {},
     "output_type": "execute_result"
    }
   ],
   "source": [
    "import java.util.Scanner;\n",
    "\n",
    "Scanner keyboardInput = new Scanner(System.in);\n",
    "\n",
    "System.out.print(\"Type something: \");\n",
    "String smthIn = keyboardInput.next();\n",
    "System.out.printf(\"You typed: %s\", smthIn);"
   ]
  },
  {
   "cell_type": "code",
   "execution_count": 1,
   "id": "b3a51ceb",
   "metadata": {},
   "outputs": [
    {
     "name": "stdout",
     "output_type": "stream",
     "text": [
      "Please enter a number between 1 and 5: 7\n",
      "Please enter a number between 1 and 5: 4\n",
      "You chose 4\n"
     ]
    },
    {
     "data": {
      "text/plain": [
       "null"
      ]
     },
     "execution_count": 1,
     "metadata": {},
     "output_type": "execute_result"
    }
   ],
   "source": [
    "import java.util.Scanner;\n",
    "\n",
    "Scanner numInput = new Scanner(System.in);\n",
    "\n",
    "int theNum;\n",
    "\n",
    "do {\n",
    "    System.out.print(\"Please enter a number between 1 and 5: \");\n",
    "    theNum = numInput.nextInt();\n",
    "} while (theNum != 1\n",
    "         && theNum != 2\n",
    "         && theNum != 3\n",
    "         && theNum != 4\n",
    "         && theNum != 5);\n",
    "numInput.close();\n",
    "System.out.println(\"You chose \" + theNum);"
   ]
  },
  {
   "cell_type": "code",
   "execution_count": null,
   "id": "22afafbd",
   "metadata": {},
   "outputs": [],
   "source": []
  }
 ],
 "metadata": {
  "kernelspec": {
   "display_name": "Java",
   "language": "java",
   "name": "java"
  },
  "language_info": {
   "codemirror_mode": "text/x-java",
   "file_extension": ".java",
   "mimetype": "",
   "name": "Java",
   "nbconverter_exporter": "",
   "version": "1.8.0_121"
  },
  "toc": {
   "base_numbering": 1,
   "nav_menu": {},
   "number_sections": false,
   "sideBar": false,
   "skip_h1_title": false,
   "title_cell": "Table of Contents",
   "title_sidebar": "Contents",
   "toc_cell": false,
   "toc_position": {},
   "toc_section_display": false,
   "toc_window_display": false
  }
 },
 "nbformat": 4,
 "nbformat_minor": 5
}
