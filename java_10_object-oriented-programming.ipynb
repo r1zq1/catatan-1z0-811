{
 "cells": [
  {
   "cell_type": "markdown",
   "id": "769f4163",
   "metadata": {},
   "source": [
    "# Object Oriented Programming (OOP)\n",
    "## What is OOP\n",
    "Object Oriented Programming is focused on the creation and interaction of *objects*. Some of the benefits of OOP are:\n",
    "- Modularity\n",
    "- The ability to hide information from the use (known as __information hiding__)\n",
    "- Code re-use\n",
    "- Improved debugging & testing\n",
    "\n",
    "\n",
    "The basis of OOP are *classes* and *objects*. __Classes__ are essentially the blueprints for *objects*. __Objects__ in turn are collections of __attributes__ and __operations__ which are defined by the object's parent *Class*. *Attributes* usually contain a value representing the state of the attribute. *Operations* are actions carried out by the object and often make use of an attribute. For example, lets say we want to create a `clock` object. To do this we should consider the attributes and operations that make up a clock.\n",
    "\n",
    "- Clock\n",
    "    - Attributes\n",
    "        - __second__=0-59\n",
    "        - __minute__=0-59\n",
    "        - __hour__=0-23\n",
    "        - __second_hand__=second\n",
    "        - __minute_hand__=minute\n",
    "        - __hour_hand__=hour\n",
    "    - Operations\n",
    "        - __update_seconds__: every 1 seconds add `1` to `second` attribute\n",
    "        - __update_minutes__: every 60 seconds add `1` to `minute` attribute\n",
    "        - __update_hours__: every 60 minutes add `1` to `hour` attribute\n",
    "        - __move_second_hand__: move second_hand clockwise 1 notch every time `update_seconds` changes\n",
    "        - __move_minute_hand__: move minute_hand clockwise 1 notch every time `update_minutes` changes\n",
    "        - __move_hour_hand__: move hour_hand clockwise 1 notch every 60 minutes."
   ]
  },
  {
   "cell_type": "markdown",
   "id": "37d3cce1",
   "metadata": {},
   "source": [
    "### Key Concepts\n",
    "- Abstraction: creating classes that are very general/abstract which can in turn be the basis for more specific/concrete classes & objects.\n",
    "- Polymorphism: the idea that child classes can modify behaviours inherited from their parent/super class(es).\n",
    "- Inheritance: the passing of attributes and operations from parent/super-class to child/sub-class.\n",
    "- Encapsulation: the ability to hide certain data from users."
   ]
  },
  {
   "cell_type": "markdown",
   "id": "1d892087",
   "metadata": {},
   "source": [
    "### Creating an object variable\n",
    "When it comes to objects, variables hold a pointer to the object's location in memory unlike with primitive types where the variable holds the primitive itself.\n",
    "\n",
    "Consider the following examples, imagine we have a Shoe class:\n",
    "<br>\n",
    "<br>`int a = 5;` *this is a primitive variable*\n",
    "<br>\n",
    "<br>`Shoe runner;` *we declare the variable to of \"Shoe\" type*\n",
    "<br>`runner = new Shoe();` *we instantiate a new Shoe object and assign it to the runner variable*\n",
    "<br>\n",
    "<br>`Shoe dress = new Shoe();` *here we declare and instantiate on the same line*"
   ]
  },
  {
   "cell_type": "code",
   "execution_count": 1,
   "id": "2d152ab6",
   "metadata": {},
   "outputs": [
    {
     "data": {
      "text/plain": [
       "test.beaker.Shoe"
      ]
     },
     "execution_count": 1,
     "metadata": {},
     "output_type": "execute_result"
    }
   ],
   "source": [
    "package test.beaker;\n",
    "\n",
    "public class Shoe {\n",
    "    public String shoeType;\n",
    "    public String shoeColour;\n",
    "    public int shoeSize;\n",
    "    public String name;\n",
    "    \n",
    "    public void wear(String shoeType, String name) {\n",
    "        if (shoeType == \"laced\") {\n",
    "            System.out.println(\"Tie \" + name + \" laces.\");\n",
    "        } else if  (shoeType == \"slip-on\") {\n",
    "            System.out.println(\"Pull on \" + name + \"s.\");\n",
    "        } // END if\n",
    "    } // END wear\n",
    "} // END class"
   ]
  },
  {
   "cell_type": "code",
   "execution_count": 2,
   "id": "d4596b4f",
   "metadata": {},
   "outputs": [
    {
     "name": "stdout",
     "output_type": "stream",
     "text": [
      "Tie high top laces.\n",
      "Pull on cloud-steppers.\n"
     ]
    },
    {
     "data": {
      "text/plain": [
       "null"
      ]
     },
     "execution_count": 2,
     "metadata": {},
     "output_type": "execute_result"
    }
   ],
   "source": [
    "package test.beaker;\n",
    "\n",
    "Shoe runner = new Shoe();\n",
    "\n",
    "runner.shoeType = \"laced\";\n",
    "runner.name = \"high top\";\n",
    "runner.shoeColour = \"white\";\n",
    "runner.shoeSize = 9;\n",
    "runner.wear(runner.shoeType, runner.name);\n",
    "\n",
    "Shoe slipper = new Shoe();\n",
    "\n",
    "slipper.shoeType = \"slip-on\";\n",
    "slipper.name = \"cloud-stepper\";\n",
    "slipper.shoeColour = \"blue\";\n",
    "slipper.shoeSize = 11;\n",
    "slipper.wear(slipper.shoeType, slipper.name);"
   ]
  },
  {
   "cell_type": "markdown",
   "id": "409bcfa2",
   "metadata": {},
   "source": [
    "## Object methods\n",
    "Methods are the operations/actions that an object can perform (often these actions are performed on the objects own attributes). A method can also be referred to as a function or procedure. A method may:\n",
    "- Accept input (optional)\n",
    "- Do some processing\n",
    "- Return a value (optional)\n",
    "\n",
    "Ideally methods should perform one specific task. Methods are constructed using the following syntax:\n",
    "<br>`access_modifier return_type method_name (parameters) { code_block and option_return}`"
   ]
  },
  {
   "cell_type": "code",
   "execution_count": 9,
   "id": "1bc5cad0",
   "metadata": {},
   "outputs": [
    {
     "data": {
      "text/plain": [
       "test.beaker.Dog"
      ]
     },
     "execution_count": 9,
     "metadata": {},
     "output_type": "execute_result"
    }
   ],
   "source": [
    "package test.beaker;\n",
    "\n",
    "public class Dog {\n",
    "    public String barkSound;\n",
    "    public String furColour;\n",
    "    public String earType;\n",
    "    public String name;\n",
    "    \n",
    "    // this is a METHOD\n",
    "    public void bark(String barkSound){\n",
    "        System.out.println(barkSound + \"! \" + barkSound + \"!\");\n",
    "    } // END bark\n",
    "    \n",
    "    public int legs(){\n",
    "        return 4;\n",
    "    } // END legs\n",
    "    \n",
    "} // END dog"
   ]
  },
  {
   "cell_type": "code",
   "execution_count": 14,
   "id": "23aa6940",
   "metadata": {},
   "outputs": [
    {
     "name": "stdout",
     "output_type": "stream",
     "text": [
      "Woof! Woof!\n",
      "Jessie has 4 legs\n"
     ]
    },
    {
     "data": {
      "text/plain": [
       "null"
      ]
     },
     "execution_count": 14,
     "metadata": {},
     "output_type": "execute_result"
    }
   ],
   "source": [
    "package test.beaker;\n",
    "\n",
    "Dog jessie = new Dog();\n",
    "jessie.barkSound = \"Woof\";\n",
    "jessie.furColour = \"White with black patches\";\n",
    "jessie.earType = \"pointy\";\n",
    "jessie.bark(jessie.barkSound);\n",
    "jessie.name = \"Jessie\";\n",
    "System.out.println(jessie.name + \" has \" + jessie.legs() + \" legs\");"
   ]
  },
  {
   "cell_type": "markdown",
   "id": "96e42959",
   "metadata": {},
   "source": [
    "### Modifiers  (with help from [stackabuse](https://stackabuse.com/non-access-modifiers-in-java) and [javatpoint](https://www.javatpoint.com/access-modifiers))\n",
    "Modifiers are keywords that Java provides to allow you to finely tune your variabe/class. \n",
    "\n",
    "#### Access modifiers\n",
    "Access modifiers tell Java what the scope of a method/class/constructor is.\n",
    "\n",
    "Modifier|Meaning|Available within Class|Available within package|Available outside package (via subclass)|Available outside package\n",
    ":--|:--|:--|:--|:--|:--\n",
    "`private`|Available within class|Y|N|N|N\n",
    "`default`|Available within package|Y|Y|N|N\n",
    "`protected`|Available within package and outside package *__IF__ a child class is created*.|Y|Y|Y|N\n",
    "`public`|Available everywhere|Y|Y|Y|Y\n",
    "\n",
    "#### Non-access modifiers\n",
    "Non-access modifiers control various things such including scope, inheritance, polymorphism and more.\n",
    "\n",
    "Modifier|Meaning\n",
    ":--|:--\n",
    "`static`|Belongs to the class and not to objects of the class (e.g. you don't need to instantiate an object to access)\n",
    "`final`|Defines a constant, i.e. the values cannot be changed\n",
    "`abstract`|Applied to a method means the method should be implemented in a subclass, applied to a class means the class contains abstract methods\n",
    "`synchronized`|Controls thread access to a block/method\n",
    "`volatile`|The variable's value is always read from the main memory, not from a specific thread's memory\n",
    "`transient`|Skipped when serializing an object"
   ]
  },
  {
   "cell_type": "markdown",
   "id": "837a54c1",
   "metadata": {},
   "source": [
    "### Return types\n",
    "The return type of a function/method needs to be declared when creating it. This tells Java what to expect the function/method to return (if anything) when it's run.\n",
    "\n",
    "Return Type|Meaning\n",
    ":--|:--\n",
    "`void`|No value will be returned\n",
    "`byte`|A byte primitive value will be returned\n",
    "`char`|A char primitive value will be returned\n",
    "`short`|A short primitive value will be returned\n",
    "`int`|An int primitive value will be returned\n",
    "`Cat`|Return an object reference of type `Cat`"
   ]
  },
  {
   "cell_type": "markdown",
   "id": "d74a8fd1",
   "metadata": {},
   "source": [
    "### Passing arguments to methods\n",
    "When passing arguments to a method the type of variable being passed effects how it is passed. \n",
    "\n",
    "#### Passing primitives\n",
    "Primitives are __passed by value__, meaning that a copy of the value within the variable is passed. Thus any changes to that value do not effect the original."
   ]
  },
  {
   "cell_type": "code",
   "execution_count": 19,
   "id": "ca7cf696",
   "metadata": {},
   "outputs": [
    {
     "data": {
      "text/plain": [
       "test.beaker.CountClass"
      ]
     },
     "execution_count": 19,
     "metadata": {},
     "output_type": "execute_result"
    }
   ],
   "source": [
    "package test.beaker;\n",
    "\n",
    "public class CountClass {\n",
    "    \n",
    "    public void firstMethod() {\n",
    "        int x = 25;\n",
    "        secondMethod(x); // call secondMethod on the value of x\n",
    "        System.out.println(\"The value of X is \" + x);\n",
    "    } // END firstMethod\n",
    "    \n",
    "    public void secondMethod(int x) {\n",
    "        x = 50; // this sets the value of a new local version of x NOT the original x defined within firstMethod\n",
    "    } // END secondMethod\n",
    "} // END CountClass"
   ]
  },
  {
   "cell_type": "code",
   "execution_count": 20,
   "id": "b2a0cc2c",
   "metadata": {},
   "outputs": [
    {
     "name": "stdout",
     "output_type": "stream",
     "text": [
      "The value of X is 25\n"
     ]
    },
    {
     "data": {
      "text/plain": [
       "null"
      ]
     },
     "execution_count": 20,
     "metadata": {},
     "output_type": "execute_result"
    }
   ],
   "source": [
    "package test.beaker;\n",
    "\n",
    "CountClass newObject = new CountClass();\n",
    "\n",
    "newObject.firstMethod();"
   ]
  },
  {
   "cell_type": "markdown",
   "id": "ade178e9",
   "metadata": {},
   "source": [
    "#### Passing object references\n",
    "Since object variables store a reference to the object's location in memory and not the object itself, when the value is copied it's still pointing to the same memory location. This means that any changes made using that reference will change the object itself. So, using the same format as the above primitive version:"
   ]
  },
  {
   "cell_type": "code",
   "execution_count": 45,
   "id": "c99e7d57",
   "metadata": {},
   "outputs": [
    {
     "data": {
      "text/plain": [
       "test.beaker.Mug"
      ]
     },
     "execution_count": 45,
     "metadata": {},
     "output_type": "execute_result"
    }
   ],
   "source": [
    "package test.beaker;\n",
    "\n",
    "public class Mug {\n",
    "    public boolean handle;\n",
    "    public String colour;\n",
    "    public String material;\n",
    "    public String contents;\n",
    "    \n",
    "    public boolean isFull(Mug cup){ // isFull method is passed the pointer/reference to the location in memory where the Mug object instance is stored\n",
    "        if (cup.contents != null) {\n",
    "            return true;\n",
    "        } else {\n",
    "            return false;\n",
    "        } // END if\n",
    "    } // END isFull\n",
    "    \n",
    "    public void drink(Mug cup) { // drink method acts upon the same pointer/reference thus changing the object itself\n",
    "        if (cup.isFull(cup)) {\n",
    "            System.out.println(\"Gulp gulp gulp\");\n",
    "            cup.contents = null;\n",
    "        }\n",
    "    } // END drink\n",
    "}"
   ]
  },
  {
   "cell_type": "code",
   "execution_count": 46,
   "id": "8bcc9342",
   "metadata": {},
   "outputs": [
    {
     "name": "stdout",
     "output_type": "stream",
     "text": [
      "Got coffee? true\n",
      "Gulp gulp gulp\n",
      "Got coffee? false\n"
     ]
    },
    {
     "data": {
      "text/plain": [
       "null"
      ]
     },
     "execution_count": 46,
     "metadata": {},
     "output_type": "execute_result"
    }
   ],
   "source": [
    "package test.beaker;\n",
    "\n",
    "Mug coffeeCup = new Mug();\n",
    "\n",
    "coffeeCup.handle = true;\n",
    "coffeeCup.colour = \"black\";\n",
    "coffeeCup.material = \"porcelain\";\n",
    "coffeeCup.contents = \"coffee\";\n",
    "\n",
    "System.out.println(\"Got coffee? \" + coffeeCup.isFull(coffeeCup)); // cup is full\n",
    "coffeeCup.drink(coffeeCup); // call drink method\n",
    "System.out.println(\"Got coffee? \" + coffeeCup.isFull(coffeeCup)); // cup is now empty"
   ]
  },
  {
   "cell_type": "markdown",
   "id": "985db02a",
   "metadata": {},
   "source": [
    "### Method overloading\n",
    "__Overloading__ is when we have multiple methods with the same name but accepting different parameters (and optionally different `return` types). One example of overloading can be seen in the `java.lang.Math` class. Consider the following methods:\n",
    "\n",
    "Type|Method name & description\n",
    ":--|:--\n",
    "`double`|`max(double a, double b)` returns the greater of two `double` values\n",
    "`float`|`max(float a, float b)` returns the greater of two `float` values\n",
    "`int`|`max(int a, int b)` returns the greater of two `int` values\n",
    "`long`|`max(long a, long b)` returns the greater of two `long` values"
   ]
  },
  {
   "cell_type": "markdown",
   "id": "d6d629d4",
   "metadata": {},
   "source": [
    "## Static methods & variables vs Instance methods & variables\n",
    "A __static__ member of a class is shared by all instances created from the class and doesn't belong to any one object instance. They can be accessed by all objects instantiated from the class but belong to the Class itself (hence sometimes referred to as *Class variables/methods*). *static* methods/variables <u>cannot</u> access *instance* variables/methods.\n",
    "\n",
    "An __instance__ member of a class only exists within any objects instantiated from the class and it's value may be different in every instance. *instance* methods/variables <u>can</u> access *static* methods/variables."
   ]
  },
  {
   "cell_type": "markdown",
   "id": "2ea01c37",
   "metadata": {},
   "source": [
    "## Object Oriented Analysis (OOA)\n",
    "Is the process of analysing a problem from an OOP perspective."
   ]
  },
  {
   "cell_type": "markdown",
   "id": "bd034b28",
   "metadata": {},
   "source": [
    "## Problem Domain\n",
    "Since *Java* is an object-oriented programming language one of the main duties/goals of a Java programmer is to develops solutions to solve a particular problem/need. The *scope* of the problem you want to address is called the __problem domain__. Most projects start by defining a *problem domain*. This involves gather requirements and writing a *statement of scope* which briefly outlines what you, the developer, want to achieve.\n",
    "\n",
    "For example, a scope statement for a project to create an ecommerce system might be: \"*create a system allowing the online ordering of products with integrated payment processing*\""
   ]
  },
  {
   "cell_type": "markdown",
   "id": "3f153776",
   "metadata": {},
   "source": [
    "## Objects within a problem domain\n",
    "To validate objects in a problem domain you need to first identify the properties of all the objects:\n",
    "- objects can be __physical__ or __conceptual__\n",
    "    - A customer account is an example of a __conceptual__ object as it doesn't have a physical presence\n",
    "    - A car is an example of a __physical__ object\n",
    "- objects have __attributes__\n",
    "    - Attributes are charactistics such as the size, name, shape, value that represent the state of an object\n",
    "    - The value of all of an objects attributes is often referred to as the object's __current state__\n",
    "- objects have __operations__\n",
    "    - Operations are things an object can do such as changing an attributes value or displaying a particular message.\n",
    "    - Operations *usually* affenct an objects attributes.\n",
    "    - The operations an object performs are often referred to as its *behaviour*\n",
    "    \n",
    "Object names are often nouns such as *account* or *shirt*. Object attributes are often nouns also such as *size* or *colour* but in the context of its value, the attribute is an adjective of the noun describing the object.\n",
    "\n",
    "Object operations are usually verbs or noun-verb combinations, such as *print receipt* or *increase value*.\n",
    "\n",
    "When judging whether or not to recognise an object we need to assess its relevence to the *problem domain*. To determine this you should asses:\n",
    "- Whether the object exists withing the boundaries of the problem domain\n",
    "- Whether the object is required for the solution to be complete\n",
    "- Whether the object is required for the interaction between the user and the solution."
   ]
  },
  {
   "cell_type": "markdown",
   "id": "3a155844",
   "metadata": {},
   "source": [
    "## Booleans\n",
    "A boolean is an attribute with only two states: true or false, on or off etc."
   ]
  },
  {
   "cell_type": "markdown",
   "id": "7d3261f9",
   "metadata": {},
   "source": [
    "## Attributes as references to other objects\n",
    "It's not uncommmon for an object attribute to contain a reference to another object. Consider a *customer* object which has an *order number* attribute referring to the customer's most recent *order* which is itself an object. That *order* object might contain a *product id* which referse to a separate *product* object and so on."
   ]
  },
  {
   "cell_type": "markdown",
   "id": "900ee1b3",
   "metadata": {},
   "source": [
    "## Classes\n",
    "A __class__ in OOP is essentially a blueprint or template (or recipt) for an object. All objects of that class may be referred to as *instances*. A class is the way you define an object. For example, we might have a __car__ class which is used to instantiate various different car objects. "
   ]
  },
  {
   "cell_type": "markdown",
   "id": "789403ed",
   "metadata": {},
   "source": [
    "## Variables and Methods\n",
    "In Java (and many other languages) an objects *attributes* are represented by `variables` and its *operations* are represented by `methods`.\n",
    "- Variables: the Java language mechanism for holding data\n",
    "- Methods: the Java programming language mechanism for perorming operations"
   ]
  },
  {
   "cell_type": "markdown",
   "id": "2dc5f74c",
   "metadata": {},
   "source": [
    "## Modeling classes\n",
    "The first phase of the design stage consists of __modeling__; visually organizing a program and its classes. Each class in a design should be modeled as a closed box with the class name at the top followed by a list of its variables (including a range of possible values) and a list of methods.\n",
    "<br>`+-------------+\n",
    "|ClassName    |\n",
    "+-------------+\n",
    "|size:0-10    |\n",
    "|color: Blue  |\n",
    "+-------------+\n",
    "|changeColor()|\n",
    "+-------------+\n",
    "`\n",
    "\n",
    "Convention in Java is for attribute and method names to be written in *camelCase*.\n",
    "\n",
    "*Unified Modeling Language* (UML) is a tool to aid in the modeling process.\n",
    "\n",
    "Modeling classes are similar to modeling database structures. Your object data can be stored in a Java Database Connectivity (JDBC) API. The JDBC API allows you to read and write records by using Structured Query Language (SQL)."
   ]
  }
 ],
 "metadata": {
  "kernelspec": {
   "display_name": "Java",
   "language": "java",
   "name": "java"
  },
  "language_info": {
   "codemirror_mode": "text/x-java",
   "file_extension": ".java",
   "mimetype": "",
   "name": "Java",
   "nbconverter_exporter": "",
   "version": "1.8.0_121"
  },
  "toc": {
   "base_numbering": 1,
   "nav_menu": {},
   "number_sections": false,
   "sideBar": false,
   "skip_h1_title": false,
   "title_cell": "Table of Contents",
   "title_sidebar": "Contents",
   "toc_cell": false,
   "toc_position": {},
   "toc_section_display": false,
   "toc_window_display": false
  }
 },
 "nbformat": 4,
 "nbformat_minor": 5
}
