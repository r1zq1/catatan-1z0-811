{
 "cells": [
  {
   "cell_type": "markdown",
   "id": "e6f8d2b5",
   "metadata": {},
   "source": [
    "# Java's `Math` Class"
   ]
  },
  {
   "cell_type": "markdown",
   "id": "95fbcd8c",
   "metadata": {},
   "source": [
    "## What is the `Math` class\n",
    "The `Math` class provides commonly used mathematical functions and is defined in the `java.lang` package."
   ]
  },
  {
   "cell_type": "markdown",
   "id": "d055d463",
   "metadata": {},
   "source": [
    "## Importing the `Math` class\n",
    "Since `Math` is in the `java.lang` package it's already implicity imported in every new class file."
   ]
  },
  {
   "cell_type": "markdown",
   "id": "ca500bb1",
   "metadata": {},
   "source": [
    "## Using `Math`\n",
    "Many of the methods in the `Math` class are declared as `static` which means we can use them with a class reference (`<class_name>.<method_name>`) and don't need to instantiate an object first. Since the `Math` class is implicitly imported we can make use of its methods by simply calling them with `Math.<method>`."
   ]
  },
  {
   "cell_type": "code",
   "execution_count": 8,
   "id": "728fb64c",
   "metadata": {},
   "outputs": [
    {
     "name": "stdout",
     "output_type": "stream",
     "text": [
      "7\n",
      "3.141592653589793\n",
      "62.0\n",
      "61.0\n"
     ]
    },
    {
     "data": {
      "text/plain": [
       "null"
      ]
     },
     "execution_count": 8,
     "metadata": {},
     "output_type": "execute_result"
    }
   ],
   "source": [
    "System.out.println(Math.abs(-7)); // return absolute value\n",
    "System.out.println(Math.PI); // Pi\n",
    "System.out.println(Math.ceil(61.41));\n",
    "System.out.println(Math.floor(61.41));"
   ]
  },
  {
   "cell_type": "markdown",
   "id": "844dc492",
   "metadata": {},
   "source": [
    "## Useful methods\n",
    "Below are some commonly used `Math` methods."
   ]
  },
  {
   "cell_type": "markdown",
   "id": "c1ae6217",
   "metadata": {},
   "source": [
    "### `ceil(double x)`\n",
    "Takes a `double` and returns the smallest double value that is greater than or equal to the argument"
   ]
  },
  {
   "cell_type": "code",
   "execution_count": 9,
   "id": "aaf599c5",
   "metadata": {},
   "outputs": [
    {
     "name": "stdout",
     "output_type": "stream",
     "text": [
      "5.0\n"
     ]
    },
    {
     "data": {
      "text/plain": [
       "null"
      ]
     },
     "execution_count": 9,
     "metadata": {},
     "output_type": "execute_result"
    }
   ],
   "source": [
    "System.out.println(Math.ceil(4.3));"
   ]
  },
  {
   "cell_type": "markdown",
   "id": "26a8ed01",
   "metadata": {},
   "source": [
    "### `floor(double x)`\n",
    "Takes a `double` and returns the largest double value that is less than or equal to the argument"
   ]
  },
  {
   "cell_type": "code",
   "execution_count": 10,
   "id": "73fe41d6",
   "metadata": {},
   "outputs": [
    {
     "name": "stdout",
     "output_type": "stream",
     "text": [
      "4.0\n"
     ]
    },
    {
     "data": {
      "text/plain": [
       "null"
      ]
     },
     "execution_count": 10,
     "metadata": {},
     "output_type": "execute_result"
    }
   ],
   "source": [
    "System.out.println(Math.floor(4.8));"
   ]
  },
  {
   "cell_type": "markdown",
   "id": "1cdb4818",
   "metadata": {},
   "source": [
    "### `max(x, y)`\n",
    "Takes two `int`/`long`/`float`/`double` and returns the greater."
   ]
  },
  {
   "cell_type": "code",
   "execution_count": 20,
   "id": "28da46e3",
   "metadata": {},
   "outputs": [
    {
     "name": "stdout",
     "output_type": "stream",
     "text": [
      "365\n",
      "215956423\n",
      "22.9\n",
      "3215.7\n"
     ]
    },
    {
     "data": {
      "text/plain": [
       "null"
      ]
     },
     "execution_count": 20,
     "metadata": {},
     "output_type": "execute_result"
    }
   ],
   "source": [
    "System.out.println(Math.max(224, 365)); // int\n",
    "System.out.println(Math.max(81565435l, 215956423l)); // long\n",
    "System.out.println(Math.max(21.4f, 22.9f)); // float\n",
    "System.out.println(Math.max(2755.7d, 3215.7d)); // double"
   ]
  },
  {
   "cell_type": "markdown",
   "id": "c0329dc9",
   "metadata": {},
   "source": [
    "### `min(x, y)`\n",
    "Takes two `int`/`long`/`float`/`double` and returns the lesser."
   ]
  },
  {
   "cell_type": "code",
   "execution_count": 21,
   "id": "f7ffb561",
   "metadata": {},
   "outputs": [
    {
     "name": "stdout",
     "output_type": "stream",
     "text": [
      "224\n",
      "81565435\n",
      "21.4\n",
      "2755.7\n"
     ]
    },
    {
     "data": {
      "text/plain": [
       "null"
      ]
     },
     "execution_count": 21,
     "metadata": {},
     "output_type": "execute_result"
    }
   ],
   "source": [
    "System.out.println(Math.min(224, 365)); // int\n",
    "System.out.println(Math.min(81565435l, 215956423l)); // long\n",
    "System.out.println(Math.min(21.4f, 22.9f)); // float\n",
    "System.out.println(Math.min(2755.7d, 3215.7d)); // double"
   ]
  },
  {
   "cell_type": "markdown",
   "id": "9640bdec",
   "metadata": {},
   "source": [
    "## `pow(x, y)`\n",
    "Returns the value of the first argument raised to the power of the second argument."
   ]
  },
  {
   "cell_type": "code",
   "execution_count": 24,
   "id": "417ee801",
   "metadata": {},
   "outputs": [
    {
     "name": "stdout",
     "output_type": "stream",
     "text": [
      "2.9079779498268256E23\n"
     ]
    },
    {
     "data": {
      "text/plain": [
       "null"
      ]
     },
     "execution_count": 24,
     "metadata": {},
     "output_type": "execute_result"
    }
   ],
   "source": [
    "System.out.println(Math.pow(24, 17));"
   ]
  },
  {
   "cell_type": "markdown",
   "id": "f54f9954",
   "metadata": {},
   "source": [
    "### `random()`\n",
    "Returns a double value between `0.0` and `1.0`."
   ]
  },
  {
   "cell_type": "code",
   "execution_count": 25,
   "id": "f3742724",
   "metadata": {},
   "outputs": [
    {
     "name": "stdout",
     "output_type": "stream",
     "text": [
      "0.6190658639655292\n"
     ]
    },
    {
     "data": {
      "text/plain": [
       "null"
      ]
     },
     "execution_count": 25,
     "metadata": {},
     "output_type": "execute_result"
    }
   ],
   "source": [
    "System.out.println(Math.random());"
   ]
  },
  {
   "cell_type": "markdown",
   "id": "658d5bff",
   "metadata": {},
   "source": [
    "### `sqrt()`\n",
    "Returns the rounded positive square root of a double value"
   ]
  },
  {
   "cell_type": "code",
   "execution_count": 26,
   "id": "2ed38c9a",
   "metadata": {},
   "outputs": [
    {
     "name": "stdout",
     "output_type": "stream",
     "text": [
      "8.0\n"
     ]
    },
    {
     "data": {
      "text/plain": [
       "null"
      ]
     },
     "execution_count": 26,
     "metadata": {},
     "output_type": "execute_result"
    }
   ],
   "source": [
    "System.out.println(Math.sqrt(64));"
   ]
  },
  {
   "cell_type": "code",
   "execution_count": null,
   "id": "09eec865",
   "metadata": {},
   "outputs": [],
   "source": []
  }
 ],
 "metadata": {
  "kernelspec": {
   "display_name": "Java",
   "language": "java",
   "name": "java"
  },
  "language_info": {
   "codemirror_mode": "text/x-java",
   "file_extension": ".java",
   "mimetype": "",
   "name": "Java",
   "nbconverter_exporter": "",
   "version": "1.8.0_121"
  },
  "toc": {
   "base_numbering": 1,
   "nav_menu": {},
   "number_sections": false,
   "sideBar": false,
   "skip_h1_title": false,
   "title_cell": "Table of Contents",
   "title_sidebar": "Contents",
   "toc_cell": false,
   "toc_position": {},
   "toc_section_display": false,
   "toc_window_display": false
  }
 },
 "nbformat": 4,
 "nbformat_minor": 5
}
