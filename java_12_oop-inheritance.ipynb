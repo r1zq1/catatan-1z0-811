{
 "cells": [
  {
   "cell_type": "markdown",
   "id": "d1d5d677",
   "metadata": {},
   "source": [
    "# Inheritance in Object Oriented Programming\n",
    "## What is inheritance?\n",
    "Inheritance is the passing of attributes & actions from a parent __superclass__ to a child __subclass__. To do this you would create a subclass *from* a superclass. So, there would be a way for you to base the creation of a new class on an existing class."
   ]
  },
  {
   "cell_type": "markdown",
   "id": "7ee2499f",
   "metadata": {},
   "source": [
    "## Deciding whether or not to create a subclass\n",
    "\n",
    "It's not always appropriate to create a child class. To help you decide consider whether the relationship can be described with \"*is a*\" or \"*has a*\":\n",
    "- A `truck` __is a__ `vehicle` *a super/sub-class relationship makes sense*\n",
    "- A `vehicle` __has a__ `truck` *a method or property relationship does not make sense*\n",
    "- A `stethoscope` __is a__ `doctor` *a super/sub-class relationship does not make sense*\n",
    "- A `doctor` __has a__ `stethoscope` *a method of property relationship makes sense*"
   ]
  },
  {
   "cell_type": "markdown",
   "id": "008eebb1",
   "metadata": {},
   "source": [
    "## What are the benefits of inheritance?\n",
    "The benefits include:\n",
    "- Subclasses can inherit the methods and data from their superclass\n",
    "- Subclasses can still create *new* methods\n",
    "- Or they can __override__ existing methods\n",
    "    <br>&nbsp;NOTE 1: overriding requires that the method still accept the same number and type of parameters passed to it (i.e. you can change what it does & how but not the input it accepts)\n",
    "    <br>&nbsp;NOTE 2: you cannot override a method marked as `final`"
   ]
  },
  {
   "cell_type": "markdown",
   "id": "bc5b7eeb",
   "metadata": {},
   "source": [
    "## Overriding vs Overloading\n",
    "Two different but similar sounding words to note are:\n",
    "- __overriding__: changing the functionality of an existing, inherited method\n",
    "- __overloading__: creating multiple methods with the same name that accept different arguments\n",
    "\n",
    "### Overriding\n",
    "Overriding a method is useful when you want to change the functionality of an existing method. Lets imagine you have a `Truck` subclass and a `Car` subclass both `extending` the `Vehicle` class. The `Vehicle` class provides a `horn()` method which we want to use but we'd like to change the sound. In our `Truck` subclass we __override__ the `horn()` method so it says *BEEP! BEEP!*. In our `Car` class we __override__ the `horn()` method so it says *meepmeep!*.\n",
    "\n",
    "### Overloading\n",
    "Overloading is useful if you want the same method to accept different arguments and output different results rather than defining multiple different methods. Lets imagine our `Truck` class has a `loadCargo()` method but we know our truck will be carrrying different types of cargo depending on the situation. We could define different methods like `loadColdCargo()`, `loadLiveCargo()`, `loadVolatileCargo()` and so on but it'd be a better user experience if we could have a single method. One way you could do so would be something like this:\n",
    "\n",
    "<br>`public void loadCargo() {`\n",
    "<br>&nbsp;&nbsp;`this.cargoType = \"standard\";`\n",
    "<br>&nbsp;&nbsp;`this.cargoLoaded = true;`\n",
    "<br>`}`\n",
    "<br>\n",
    "<br>`public void loadCargo(String live) {`\n",
    "<br>&nbsp;&nbsp;`this.cargoType = \"livestock\";`\n",
    "<br>&nbsp;&nbsp;`this.trailer = \"aired\";`\n",
    "<br>&nbsp;&nbsp;`this.cargoLoaded = true;`\n",
    "<br>`}`\n",
    "<br>\n",
    "<br>`public void loadCargo(boolean isVolatile) {`\n",
    "<br>&nbsp;&nbsp;`this.isVolatile = true;`\n",
    "<br>&nbsp;&nbsp;`this.trailer = \"re-enforced\";`\n",
    "<br>&nbsp;&nbsp;`this.cargoLoaded = true;`\n",
    "<br>`}`"
   ]
  },
  {
   "cell_type": "code",
   "execution_count": 8,
   "id": "e4688a04",
   "metadata": {},
   "outputs": [
    {
     "data": {
      "text/plain": [
       "test.beaker.Truck"
      ]
     },
     "execution_count": 8,
     "metadata": {},
     "output_type": "execute_result"
    }
   ],
   "source": [
    "package test.beaker;\n",
    "\n",
    "public class Truck {\n",
    "    private String cargoType;\n",
    "    private boolean cargoLoaded = false;\n",
    "    private String trailer;\n",
    "    private int numOfPens;\n",
    "    private boolean isVolatile = false;\n",
    "    \n",
    "    public void loadCargo() {\n",
    "        this.cargoType = \"perishables\";\n",
    "        this.trailer = \"refrigerated\";\n",
    "        this.cargoLoaded = true;\n",
    "        System.out.println(this.cargoType + \" loaded into \" + this.trailer + \" trailer.\");\n",
    "    } // END std loadCargo\n",
    "    \n",
    "    public void loadCargo(String animal, int numAnimals) {\n",
    "        this.cargoType = \"livestock\";\n",
    "        this.numOfPens = numAnimals;\n",
    "        this.trailer = \"aired\";\n",
    "        this.cargoLoaded = true;\n",
    "        System.out.println(this.numOfPens + \" \" + this.cargoType + \" loaded into \" + this.trailer + \" trailer.\");\n",
    "    } // END live loadCargo\n",
    "    \n",
    "    public void loadCargo(boolean isVolatile) {\n",
    "        this.isVolatile = isVolatile;\n",
    "        this.cargoType = \"fuel\";\n",
    "        this.trailer = \"re-enforced\";\n",
    "        this.cargoLoaded = true;\n",
    "        System.out.println(this.cargoType + \" loaded into \" + this.trailer + \" trailer.\");\n",
    "    } // END volatile loadCargo\n",
    "    \n",
    "} // END truck"
   ]
  },
  {
   "cell_type": "code",
   "execution_count": 9,
   "id": "4a2872d6",
   "metadata": {},
   "outputs": [
    {
     "name": "stdout",
     "output_type": "stream",
     "text": [
      "25 livestock loaded into aired trailer.\n",
      "fuel loaded into re-enforced trailer.\n",
      "perishables loaded into refrigerated trailer.\n"
     ]
    },
    {
     "data": {
      "text/plain": [
       "null"
      ]
     },
     "execution_count": 9,
     "metadata": {},
     "output_type": "execute_result"
    }
   ],
   "source": [
    "package test.beaker;\n",
    "\n",
    "Truck cowHaul = new Truck();\n",
    "cowHaul.loadCargo(\"Cows\",25);\n",
    "\n",
    "Truck fuelHaul = new Truck();\n",
    "fuelHaul.loadCargo(true);\n",
    "\n",
    "Truck foodHaul = new Truck();\n",
    "foodHaul.loadCargo();"
   ]
  },
  {
   "cell_type": "markdown",
   "id": "6335cf53",
   "metadata": {},
   "source": [
    "## Types of inheritance"
   ]
  },
  {
   "cell_type": "markdown",
   "id": "c29431dd",
   "metadata": {},
   "source": [
    "### Simple inheritance\n",
    "The most basic type of inheritance is a straight line from partent to child to grandchild and so on.\n",
    "<br>`Vehicle`\n",
    "<br>&nbsp;&nbsp;&nbsp;&nbsp;&nbsp;__v__\n",
    "<br>`Truck`\n",
    "<br>&nbsp;&nbsp;&nbsp;&nbsp;&nbsp;__v__\n",
    "<br>`Pick-up`"
   ]
  },
  {
   "cell_type": "markdown",
   "id": "08ad8f7a",
   "metadata": {},
   "source": [
    "### Hierarchical inheritance\n",
    "Think of a family tree, a shared root which then branches off to different sub parent/child relationships.\n",
    "<br>&nbsp;&nbsp;&nbsp;&nbsp;&nbsp;&nbsp;&nbsp;`Table`\n",
    "<br>&nbsp;&nbsp;&nbsp;__/__&nbsp;&nbsp;&nbsp;&nbsp;&nbsp;&nbsp;&nbsp;&nbsp;&nbsp;&nbsp;&nbsp;&nbsp;&nbsp;&nbsp;&nbsp;&nbsp;&nbsp;&nbsp;__\\\\__\n",
    "<br>`Home`&nbsp;&nbsp;&nbsp;`Office`"
   ]
  },
  {
   "cell_type": "markdown",
   "id": "48717948",
   "metadata": {},
   "source": [
    "## Implementing inheritance\n",
    "Two important keywords to note when implementing super/sub classes are:\n",
    "- `extends`: this tells Java that what you're creating is a subclass\n",
    "- `super`: this allows you to trigger the superclass' constructor from within your subclass"
   ]
  },
  {
   "cell_type": "markdown",
   "id": "e0ce774f",
   "metadata": {},
   "source": [
    "Create our superclass:"
   ]
  },
  {
   "cell_type": "code",
   "execution_count": 43,
   "id": "4c479af6",
   "metadata": {},
   "outputs": [
    {
     "data": {
      "text/plain": [
       "test.beaker.Vehicle"
      ]
     },
     "execution_count": 43,
     "metadata": {},
     "output_type": "execute_result"
    }
   ],
   "source": [
    "package test.beaker;\n",
    "\n",
    "// create our parent/superclass\n",
    "public class Vehicle {\n",
    "    public String name = \"Vehicle\";\n",
    "    \n",
    "    public String move() {\n",
    "        return \" is moving...\";\n",
    "    } // END move\n",
    "} // END vehicle"
   ]
  },
  {
   "cell_type": "markdown",
   "id": "5a06e0e6",
   "metadata": {},
   "source": [
    "Create our subclass by `extending` the superclass, overriding its `move` method:"
   ]
  },
  {
   "cell_type": "code",
   "execution_count": 58,
   "id": "cb59f73e",
   "metadata": {},
   "outputs": [
    {
     "data": {
      "text/plain": [
       "test.beaker.Truck"
      ]
     },
     "execution_count": 58,
     "metadata": {},
     "output_type": "execute_result"
    }
   ],
   "source": [
    "package test.beaker;\n",
    "\n",
    "public class Truck extends Vehicle { // note the EXTENDS word\n",
    "    public String name = \"Truck\";\n",
    "    \n",
    "    public String move() { // OVERRIDE the move method\n",
    "        return \" is driving...\";\n",
    "    } // END move\n",
    "    \n",
    "    public String originalMove() {\n",
    "        return super.move(); // use SUPER keyword to access superclass' version of the move method\n",
    "    }\n",
    "} // END truck"
   ]
  },
  {
   "cell_type": "markdown",
   "id": "471c01d4",
   "metadata": {},
   "source": [
    "Instantiate some objects and call methods:"
   ]
  },
  {
   "cell_type": "code",
   "execution_count": 59,
   "id": "14fe3b6c",
   "metadata": {},
   "outputs": [
    {
     "name": "stdout",
     "output_type": "stream",
     "text": [
      "Vehicle is moving...\n",
      "Truck is driving...\n",
      "Truck is moving...\n"
     ]
    },
    {
     "data": {
      "text/plain": [
       "null"
      ]
     },
     "execution_count": 59,
     "metadata": {},
     "output_type": "execute_result"
    }
   ],
   "source": [
    "package test.beaker;\n",
    "\n",
    "Vehicle ship = new Vehicle();\n",
    "Truck pickup = new Truck();\n",
    "\n",
    "System.out.println(ship.name + ship.move());\n",
    "System.out.println(pickup.name + pickup.move());\n",
    "System.out.println(pickup.name + pickup.originalMove());"
   ]
  },
  {
   "cell_type": "markdown",
   "id": "f9442c22",
   "metadata": {},
   "source": [
    "## Order of operations for inherited methods\n",
    "If you have multipls super & sub classes with shared methods how do you know which version of the method will be called? One simple way to determine this is by imagining the JVM (Java Virtual Machine) as a search light which gradually increases in size until it finds a matching method. Lets imagine we've tried to call a `reverse()` method from our `pickup` object:\n",
    "- Java will start with a small searchlight that only looks locally, near the place it was called (the `pickup` object)\n",
    "- If it doesn't see the method it will expand its searchlight to include the class which instantiated the `pickup` (`Truck`)\n",
    "- If it doesn't find a match in `Truck` it will expand the light again to include any parent/superclass of the `Truck` class"
   ]
  },
  {
   "cell_type": "code",
   "execution_count": null,
   "id": "5283917f",
   "metadata": {},
   "outputs": [],
   "source": []
  }
 ],
 "metadata": {
  "kernelspec": {
   "display_name": "Java",
   "language": "java",
   "name": "java"
  },
  "language_info": {
   "codemirror_mode": "text/x-java",
   "file_extension": ".java",
   "mimetype": "",
   "name": "Java",
   "nbconverter_exporter": "",
   "version": "1.8.0_121"
  },
  "toc": {
   "base_numbering": 1,
   "nav_menu": {},
   "number_sections": false,
   "sideBar": false,
   "skip_h1_title": false,
   "title_cell": "Table of Contents",
   "title_sidebar": "Contents",
   "toc_cell": false,
   "toc_position": {},
   "toc_section_display": false,
   "toc_window_display": false
  }
 },
 "nbformat": 4,
 "nbformat_minor": 5
}
