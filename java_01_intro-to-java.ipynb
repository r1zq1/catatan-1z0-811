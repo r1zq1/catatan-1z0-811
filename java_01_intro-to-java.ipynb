{
 "cells": [
  {
   "cell_type": "markdown",
   "id": "19375ae6",
   "metadata": {},
   "source": [
    "# Java SE Fundamentals\n",
    "## Introduction to Java\n",
    "The key concepts of Java programming are that it's:\n",
    "1. Object orientated\n",
    "2. Distributed\n",
    "3. Simple\n",
    "4. Multi-threaded\n",
    "5. Secure\n",
    "6. Platform independent"
   ]
  },
  {
   "cell_type": "markdown",
   "id": "c84f22a6",
   "metadata": {},
   "source": [
    "### 1. OOP: Object Orentated Programming\n",
    "The main characteristics of OOP are:\n",
    "- modularity: the code for an object can be written/maintained independently of the code for other objects. After it's created an object can easily be passed around inside the system.\n",
    "- information-hiding: interacting with an objects methods only, the details of it's internals are hidden.\n",
    "- code re-use: if an object already exists it can be used in your program\n",
    "- pluggability and debugging ease: if a particular object has problems you can remove it and replace with a different object"
   ]
  },
  {
   "cell_type": "markdown",
   "id": "878ae58b",
   "metadata": {},
   "source": [
    "### 2. Distributed\n",
    "Java is considered to be a *distributed* language because it provides support for distributed network technologies (__R__emote __M__ethod __I__nvocation, __U__niversal __R__esource __L__ocator). Additionally the dynamic class loading of Java allows code to be downloaded via the internet and executed."
   ]
  },
  {
   "cell_type": "markdown",
   "id": "f043dcaf",
   "metadata": {},
   "source": [
    "### 3. Simple\n",
    "Java is considered *simple* for a number of reasons including: \n",
    "- it's booleans can only have a `true` or `false` value as opposed to other languages where the booleans are represented by one and zero.\n",
    "- complex/obscure constructs such as pointers to memory locations (a feature of C and C++) have been removed. Instead Java only allows the manipulation of objects using object references."
   ]
  },
  {
   "cell_type": "markdown",
   "id": "a8f532f7",
   "metadata": {},
   "source": [
    "### 4. Multi-threaded\n",
    "Java supports *multi-threading* which allows several tasks to run concurrently, such as querying a database, performing long-running and complex calculations, and displaying a user interface. This allows Java to be resource efficient."
   ]
  },
  {
   "cell_type": "markdown",
   "id": "de179549",
   "metadata": {},
   "source": [
    "### 5. Secure\n",
    "Java is considered secure because the JRE (runtime environment) and JDK (development kit) use security measures to protect programs from attack such as:\n",
    "- prohibiting distributed programs from reading/writing to hard disk\n",
    "- verifying that all Java technology programs contain valid code\n",
    "- support for digital signatures which allows you to \"sign\" code for verification\n",
    "- prohibiting the manipulation of memory pointers"
   ]
  },
  {
   "cell_type": "markdown",
   "id": "328708bc",
   "metadata": {},
   "source": [
    "### 6. Platform independent\n",
    "Some languages such as C++ require different platform-specific compilers meaning that a Linux implementation is different from a Windows implementation which is different from a a Mac implementation. Java on the other hand compiles to platform-independent Java bytecode. After the bytecode is created it's interpreted by a bytecode interpreter (the __J__ava __V__irtual __M__achine). In addition to the JVM, Java also needs a collection of standard Java class libraries. The JVM and class libraries are bundled together in the __J__ava __R__untime __E__nvironment."
   ]
  },
  {
   "cell_type": "markdown",
   "id": "34ece201",
   "metadata": {},
   "source": [
    "## Java Technology Products\n",
    "*Java Technologies* like the __JVM__ are included in three different categories of products:\n",
    "- Java SE\n",
    "    - Server\n",
    "    - Desktop\n",
    "    - Embedded\n",
    "- Java ME\n",
    "    - Embedded\n",
    "    - TV\n",
    "    - Mobile\n",
    "- Java Card\n",
    "    - Card"
   ]
  },
  {
   "cell_type": "markdown",
   "id": "eb14c842",
   "metadata": {},
   "source": [
    "### Java SE\n",
    "The *Java Platform Standard Edition* is used to develop applets that run in web browsers and applications that run on server and desktop computers.\n",
    "- Java SE\n",
    "    - Web Browsers\n",
    "        - Applets\n",
    "    - Operating Systems\n",
    "        - Applications"
   ]
  },
  {
   "cell_type": "markdown",
   "id": "f109173f",
   "metadata": {},
   "source": [
    "### Java EE\n",
    "The *Java Platform Enterprise Edition* is used to create large enterprise server-side and client-side distributed applications. It's built on top of Java SE extending it."
   ]
  },
  {
   "cell_type": "markdown",
   "id": "b5aa6672",
   "metadata": {},
   "source": [
    "### Java ME\n",
    "\n",
    "The *Java Platform Micro Edition* is used to create applications for \"resource constrained\" devices such as mobile phones."
   ]
  },
  {
   "cell_type": "markdown",
   "id": "21d3a7bf",
   "metadata": {},
   "source": [
    "## Installing Java\n",
    "In order to develop Java applications you need to install the __J__ava __D__evelopment __K__it. Included in this installation are:\n",
    "- Java Runtime Environment (JRE)\n",
    "- Java Virtual Machine (JVM)\n",
    "- Java class libraries for the relevant platform\n",
    "- Java Technology compiler\n",
    "- Additional utilities such as Java Archive (JAR) creation tool, debugging tools, and example programs."
   ]
  },
  {
   "cell_type": "markdown",
   "id": "a3679deb",
   "metadata": {},
   "source": [
    "## Product Life Cycle\n",
    "The __Product Life Cycle__ (PLC) is an iterative process used to develop new products by solving problems. The stage of a PLC are:\n",
    "1. Analysis\n",
    "2. Design\n",
    "3. Development\n",
    "4. Testing\n",
    "5. Implementation\n",
    "6. Maintenance\n",
    "7. End-of-Life (EOL)"
   ]
  },
  {
   "cell_type": "markdown",
   "id": "b98a1282",
   "metadata": {},
   "source": [
    "### 1. Analysis\n",
    "Analysis is the process of investigating a problem you want to solve with your product. The breadth of the problem is referred to as the *scope* of the project. The better, more thorough your analysis of the problem the more suitable your design solution will be."
   ]
  },
  {
   "cell_type": "markdown",
   "id": "3849ac13",
   "metadata": {},
   "source": [
    "### 2. Design\n",
    "The design stage involves using the requirements gathered during the __analysis__ stage to create a blueprint for your project."
   ]
  },
  {
   "cell_type": "markdown",
   "id": "029c2e91",
   "metadata": {},
   "source": [
    "### 3. Development\n",
    "The development stage uses the blueprints from the __design__ stage to build components."
   ]
  },
  {
   "cell_type": "markdown",
   "id": "f9964542",
   "metadata": {},
   "source": [
    "### 4. Testing\n",
    "Testing is used to ensure that the product of the __development__ stage meets the requirements from the __analysis__ & __design__ stages. Testing is normally performed by a team who explicitly did not take part in the development process to ensure there is no bias."
   ]
  },
  {
   "cell_type": "markdown",
   "id": "e459afff",
   "metadata": {},
   "source": [
    "### 5. Implementation\n",
    "Implementation is the process of making the developed product available to end-users."
   ]
  },
  {
   "cell_type": "markdown",
   "id": "18f8dd0d",
   "metadata": {},
   "source": [
    "### 6.  Maintenance\n",
    "Maintenance consists of releasing new versions of the products which fix problems found during use."
   ]
  },
  {
   "cell_type": "markdown",
   "id": "eee18003",
   "metadata": {},
   "source": [
    "### 7. End-of-Life\n",
    "End-of-Life is the process of ensuring that all users are aware that a product is no longer being supported and a new version should be used."
   ]
  }
 ],
 "metadata": {
  "kernelspec": {
   "display_name": "Java",
   "language": "java",
   "name": "java"
  },
  "language_info": {
   "codemirror_mode": "text/x-java",
   "file_extension": ".java",
   "mimetype": "",
   "name": "Java",
   "nbconverter_exporter": "",
   "version": "1.8.0_121"
  },
  "toc": {
   "base_numbering": 1,
   "nav_menu": {},
   "number_sections": false,
   "sideBar": false,
   "skip_h1_title": false,
   "title_cell": "Table of Contents",
   "title_sidebar": "Contents",
   "toc_cell": false,
   "toc_position": {},
   "toc_section_display": false,
   "toc_window_display": false
  }
 },
 "nbformat": 4,
 "nbformat_minor": 5
}
