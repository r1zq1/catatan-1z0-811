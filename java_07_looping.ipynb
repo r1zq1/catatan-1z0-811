{
 "cells": [
  {
   "cell_type": "markdown",
   "id": "c829eabe",
   "metadata": {},
   "source": [
    "# Looping in Java\n",
    "Looping is a way to have code execute repeatedly as long as a specified condition is met. There are several looping constructs available in Java including:\n",
    "- A `while` loop: repeats *while* an expression is true\n",
    "    <br>e.g. \"*while x is 10 do this*\"\n",
    "- A `for` loop: repeats for a set number of times.\n",
    "    <br>e.g. \"*for x number do this*\"\n",
    "    - An __enhanced__ `for` loop will loop through the elements of an array\n",
    "- A `do/while` loop: executes *once* then continues *while* a condition is true.\n",
    "    <br>e.g. \"*do this, then repeat as long as x is true*\"\n",
    "    \n",
    "Construct|When to use\n",
    ":--|:--\n",
    "`while`|To loop indefinitely\n",
    "`for`|To loop a fixed number of times\n",
    "`for`+|To loop through an array\n",
    "`do/while`|To execute code at least once and loop indefinitely"
   ]
  },
  {
   "cell_type": "markdown",
   "id": "b86aa8ec",
   "metadata": {},
   "source": [
    "## While\n",
    "A while loop will only execute its code if and as long as a condition is true. The syntax is:\n",
    "<br>`while (boolean expression) {repeat this code}`\n",
    "\n",
    "Example:\n",
    "<br>\n",
    "<br>`boolean sunIsUp = false;`\n",
    "<br>`while (!sunIsUp) {` //*remember the ! here means __NOT__, so while NOT sunIsUp basically means while sunIsUp is false*\n",
    "    <br>&nbsp;&nbsp;&nbsp;&nbsp;`boolean vampireHunting = true;`\n",
    "    <br>&nbsp;&nbsp;&nbsp;&nbsp;`System.out.println(\"I love drinking blood!\");`\n",
    "    <br>`}`"
   ]
  },
  {
   "cell_type": "code",
   "execution_count": 6,
   "id": "5aba01cf",
   "metadata": {},
   "outputs": [
    {
     "name": "stdout",
     "output_type": "stream",
     "text": [
      "Can you hear me now? Hello?\n",
      "Can you hear me now? Hello?\n",
      "Can you hear me now? Hello?\n",
      "Can you hear me now? Hello?\n",
      "Dang battery\n"
     ]
    },
    {
     "data": {
      "text/plain": [
       "null"
      ]
     },
     "execution_count": 6,
     "metadata": {},
     "output_type": "execute_result"
    }
   ],
   "source": [
    "int batteryPercentage = 100;\n",
    "while (batteryPercentage>15) {\n",
    "    System.out.println(\"Can you hear me now? Hello?\");\n",
    "    batteryPercentage -= 25;\n",
    "}\n",
    "System.out.println(\"Dang battery\");"
   ]
  },
  {
   "cell_type": "markdown",
   "id": "4a83f09b",
   "metadata": {},
   "source": [
    "## For\n",
    "The standard `for` loop executes its code a set number of times. The syntax is:\n",
    "<br>`for (counter_variable; boolean_expression; counter_increment) {repeat this code}`\n",
    "\n",
    "Example:\n",
    "<br>\n",
    "<br>`for (int i = 5; i > 0; i--){`\n",
    "<br>&nbsp;&nbsp;&nbsp;&nbsp;`System.out.println(\"Countdown: \" + i);`\n",
    "<br>`}`\n"
   ]
  },
  {
   "cell_type": "code",
   "execution_count": 7,
   "id": "a0869a02",
   "metadata": {},
   "outputs": [
    {
     "name": "stdout",
     "output_type": "stream",
     "text": [
      "Where's the money Leboffski?\n",
      "Where's the money Leboffski?\n",
      "Where's the money Leboffski?\n"
     ]
    },
    {
     "data": {
      "text/plain": [
       "null"
      ]
     },
     "execution_count": 7,
     "metadata": {},
     "output_type": "execute_result"
    }
   ],
   "source": [
    "for (int i = 0; i < 3; i++) {\n",
    "    System.out.println(\"Where's the money Leboffski?\");\n",
    "}"
   ]
  },
  {
   "cell_type": "markdown",
   "id": "8f728d7f",
   "metadata": {},
   "source": [
    "## Enhanced For\n",
    "An __enhanced__ `for` loop is used for looping through arrays. The syntax is:\n",
    "<br>`for (<type> variable_name: array_to_loop) {repeat this code}`\n",
    "\n",
    "Example:\n",
    "<br>\n",
    "<br>`for (String name: favFilms) {`\n",
    "<br>&nbsp;&nbsp;&nbsp;&nbsp;`System.out.println(name);`\n",
    "<br>`}`"
   ]
  },
  {
   "cell_type": "code",
   "execution_count": 10,
   "id": "9e32207f",
   "metadata": {},
   "outputs": [
    {
     "name": "stdout",
     "output_type": "stream",
     "text": [
      "John is a Beatle\n",
      "Paul is a Beatle\n",
      "George is a Beatle\n",
      "Ringo is a Beatle\n"
     ]
    },
    {
     "data": {
      "text/plain": [
       "null"
      ]
     },
     "execution_count": 10,
     "metadata": {},
     "output_type": "execute_result"
    }
   ],
   "source": [
    "String beatles[] = {\"John\", \"Paul\", \"George\", \"Ringo\"};\n",
    "\n",
    "for (String name: beatles) {\n",
    "    System.out.println(name + \" is a Beatle\");\n",
    "}"
   ]
  },
  {
   "cell_type": "markdown",
   "id": "158b6943",
   "metadata": {},
   "source": [
    "However, you can accomplish the same thing with a standard `for` loop in combination with the arrays `.length` property:"
   ]
  },
  {
   "cell_type": "code",
   "execution_count": 11,
   "id": "f8adbb4d",
   "metadata": {},
   "outputs": [
    {
     "name": "stdout",
     "output_type": "stream",
     "text": [
      "John is a Beatle\n",
      "Paul is a Beatle\n",
      "George is a Beatle\n",
      "Ringo is a Beatle\n"
     ]
    },
    {
     "data": {
      "text/plain": [
       "null"
      ]
     },
     "execution_count": 11,
     "metadata": {},
     "output_type": "execute_result"
    }
   ],
   "source": [
    "String beatles[] = {\"John\", \"Paul\", \"George\", \"Ringo\"};\n",
    "\n",
    "for (int i = 0; i < beatles.length; i++) {\n",
    "    System.out.println(beatles[i] + \" is a Beatle\");\n",
    "}"
   ]
  },
  {
   "cell_type": "markdown",
   "id": "d395052f",
   "metadata": {},
   "source": [
    "## Do/While\n",
    "A `do/while` loop will execute its code once regardless of any condition, then for each repeat it will only execute if the condition is met. The syntax is:\n",
    "<br>`do {repeat this code} while (expression)`\n",
    "\n",
    "Example:\n",
    "<br>`do {`\n",
    "<br>&nbsp;&nbsp;&nbsp;&nbsp;`System.out.println(\"I am the walrus.\");`\n",
    "<br>`} while (isJohnLennon);`"
   ]
  },
  {
   "cell_type": "code",
   "execution_count": 14,
   "id": "f9efc6ce",
   "metadata": {},
   "outputs": [
    {
     "name": "stdout",
     "output_type": "stream",
     "text": [
      "I am the walrus\n"
     ]
    },
    {
     "data": {
      "text/plain": [
       "null"
      ]
     },
     "execution_count": 14,
     "metadata": {},
     "output_type": "execute_result"
    }
   ],
   "source": [
    "boolean isJohnLennon = false;\n",
    "do {\n",
    "    System.out.println(\"I am the walrus\"); // will execute AT LEAST once\n",
    "} while (isJohnLennon); // semi-colon is MANDATORY"
   ]
  },
  {
   "cell_type": "markdown",
   "id": "6e2d0ce9",
   "metadata": {},
   "source": [
    "## Breaking a loop\n",
    "There are two keywords you can use to interrupt a loop:\n",
    "- `break`: which will cause the code to exit the loop\n",
    "- `continue`: will cause the loop to skip the current iteration and continue"
   ]
  },
  {
   "cell_type": "code",
   "execution_count": 16,
   "id": "e8883674",
   "metadata": {},
   "outputs": [
    {
     "name": "stdout",
     "output_type": "stream",
     "text": [
      "John\n",
      "Paul\n",
      "George\n"
     ]
    },
    {
     "data": {
      "text/plain": [
       "null"
      ]
     },
     "execution_count": 16,
     "metadata": {},
     "output_type": "execute_result"
    }
   ],
   "source": [
    "String beatleList [] = {\"John\", \"Paul\", \"Pete\", \"George\", \"Mick Jagger\", \"Ringo\"};\n",
    "\n",
    "for (String name: beatleList) {\n",
    "    if (name == \"Pete\") { // skip Pete\n",
    "        continue;\n",
    "    }\n",
    "    if (name == \"Mick Jagger\") { // stop if Mick appears\n",
    "        break;\n",
    "    }\n",
    "    System.out.println(name);\n",
    "}"
   ]
  }
 ],
 "metadata": {
  "kernelspec": {
   "display_name": "Java",
   "language": "java",
   "name": "java"
  },
  "language_info": {
   "codemirror_mode": "text/x-java",
   "file_extension": ".java",
   "mimetype": "",
   "name": "Java",
   "nbconverter_exporter": "",
   "version": "1.8.0_121"
  },
  "toc": {
   "base_numbering": 1,
   "nav_menu": {},
   "number_sections": false,
   "sideBar": false,
   "skip_h1_title": false,
   "title_cell": "Table of Contents",
   "title_sidebar": "Contents",
   "toc_cell": false,
   "toc_position": {},
   "toc_section_display": false,
   "toc_window_display": false
  }
 },
 "nbformat": 4,
 "nbformat_minor": 5
}
