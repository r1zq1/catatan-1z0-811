{
 "cells": [
  {
   "cell_type": "markdown",
   "id": "f6541182",
   "metadata": {},
   "source": [
    "# Java's ArrayList\n",
    "Java offers another way to store lists of related data called an `ArrayList`. It can store only objects (not primitives) and has a set of useful methods for manage its contents such as `add()`, `get()`, `indexOf()`, and more. Additionally you don't need to specify a size when you instantiate an ArrayList; as you add elements it will grow as needed."
   ]
  },
  {
   "cell_type": "markdown",
   "id": "be1e5347",
   "metadata": {},
   "source": [
    "## Using the `ArrayList` class\n",
    "`ArrayList` exists in the `java.util` package. To use an `ArrayList` in your program you can either fully qualify it on each use:\n",
    "<br>__`java.util.ArrayList`__ `myNewList;`\n",
    "\n",
    "Or use an import statement at the top of your program so you can refer to it more succinctly throughout:\n",
    "<br>__`import java.util.ArrayList;`__\n",
    "<br>`public class ArrayListOne {`\n",
    "<br>&nbsp;&nbsp;&nbsp;&nbsp;`public static void main(String [] args){`\n",
    "<br>&nbsp;&nbsp;&nbsp;&nbsp;&nbsp;&nbsp;&nbsp;&nbsp;__`ArrayList myNewArray;`__\n",
    "<br>&nbsp;&nbsp;&nbsp;&nbsp;`}`\n",
    "<br>`}`"
   ]
  },
  {
   "cell_type": "markdown",
   "id": "25cf08ee",
   "metadata": {},
   "source": [
    "## Declaring & Instantiating\n",
    "Declaring and instantiating ArrayLists is the same as any other object."
   ]
  },
  {
   "cell_type": "code",
   "execution_count": 8,
   "id": "bdcb9eb9",
   "metadata": {},
   "outputs": [
    {
     "data": {
      "text/plain": [
       "null"
      ]
     },
     "execution_count": 8,
     "metadata": {},
     "output_type": "execute_result"
    }
   ],
   "source": [
    "// fully qualified\n",
    "java.util.ArrayList myAList; // declaring variable myAList as an ArrayList\n",
    "myAList = new java.util.ArrayList(); // populating the declared variable with a new instance of the ArrayList class"
   ]
  },
  {
   "cell_type": "code",
   "execution_count": 9,
   "id": "a41f4f2e",
   "metadata": {},
   "outputs": [
    {
     "data": {
      "text/plain": [
       "null"
      ]
     },
     "execution_count": 9,
     "metadata": {},
     "output_type": "execute_result"
    }
   ],
   "source": [
    "// imported version\n",
    "import java.util.ArrayList;\n",
    "\n",
    "ArrayList newArrList; // declaring variable newArrList as an ArrayList type\n",
    "newArrList = new ArrayList(); // populating the variable with a newly instantiated ArrayList object"
   ]
  },
  {
   "cell_type": "markdown",
   "id": "5f0a7ccb",
   "metadata": {},
   "source": [
    "## Populating an ArrayList\n",
    "There are several methods you can use to add, remove, and adjust ArrayList data."
   ]
  },
  {
   "cell_type": "markdown",
   "id": "f3daf5a0",
   "metadata": {},
   "source": [
    "### The `add()` method"
   ]
  },
  {
   "cell_type": "code",
   "execution_count": 48,
   "id": "6113e9a6",
   "metadata": {},
   "outputs": [
    {
     "name": "stdout",
     "output_type": "stream",
     "text": [
      "[Wyld Stallyns, Gwar]\n",
      "[Slowburn, Wyld Stallyns, Gwar]\n"
     ]
    },
    {
     "data": {
      "text/plain": [
       "null"
      ]
     },
     "execution_count": 48,
     "metadata": {},
     "output_type": "execute_result"
    }
   ],
   "source": [
    "import java.util.ArrayList;\n",
    "\n",
    "ArrayList coolBandNames;\n",
    "coolBandNames = new ArrayList();\n",
    "\n",
    "coolBandNames.add(\"Wyld Stallyns\");\n",
    "coolBandNames.add(\"Gwar\");\n",
    "\n",
    "System.out.println(coolBandNames);\n",
    "\n",
    "coolBandNames.add(0, \"Slowburn\"); // pass an index as first arg to insert at that position\n",
    "\n",
    "System.out.println(coolBandNames);"
   ]
  },
  {
   "cell_type": "markdown",
   "id": "101db5cd",
   "metadata": {},
   "source": [
    "### The `remove()` method"
   ]
  },
  {
   "cell_type": "code",
   "execution_count": 17,
   "id": "7022826d",
   "metadata": {},
   "outputs": [
    {
     "name": "stdout",
     "output_type": "stream",
     "text": [
      "[Hal, Lois, Francis, Reece, Malcolm, Dewey]\n",
      "[Lois, Reece, Malcolm, Dewey]\n"
     ]
    },
    {
     "data": {
      "text/plain": [
       "null"
      ]
     },
     "execution_count": 17,
     "metadata": {},
     "output_type": "execute_result"
    }
   ],
   "source": [
    "java.util.ArrayList malInTheMiddle;\n",
    "malInTheMiddle = new java.util.ArrayList();\n",
    "\n",
    "malInTheMiddle.add(\"Hal\");\n",
    "malInTheMiddle.add(\"Lois\");\n",
    "malInTheMiddle.add(\"Francis\");\n",
    "malInTheMiddle.add(\"Reece\");\n",
    "malInTheMiddle.add(\"Malcolm\");\n",
    "malInTheMiddle.add(\"Dewey\");\n",
    "\n",
    "System.out.println(malInTheMiddle);\n",
    "\n",
    "malInTheMiddle.remove(\"Francis\"); // removes the named element\n",
    "malInTheMiddle.remove(0); // removes the element at index 0\n",
    "\n",
    "System.out.println(malInTheMiddle);"
   ]
  },
  {
   "cell_type": "markdown",
   "id": "96a7c12c",
   "metadata": {},
   "source": [
    "### The `size()` method"
   ]
  },
  {
   "cell_type": "code",
   "execution_count": 15,
   "id": "4a7c4465",
   "metadata": {},
   "outputs": [
    {
     "name": "stdout",
     "output_type": "stream",
     "text": [
      "2\n"
     ]
    },
    {
     "data": {
      "text/plain": [
       "null"
      ]
     },
     "execution_count": 15,
     "metadata": {},
     "output_type": "execute_result"
    }
   ],
   "source": [
    "import java.util.ArrayList;\n",
    "\n",
    "ArrayList littlePiggies;\n",
    "littlePiggies = new ArrayList();\n",
    "\n",
    "littlePiggies.add(\"Market\");\n",
    "littlePiggies.add(\"Home\");\n",
    "\n",
    "System.out.println(littlePiggies.size());"
   ]
  },
  {
   "cell_type": "markdown",
   "id": "c3032002",
   "metadata": {},
   "source": [
    "### The `get()` method"
   ]
  },
  {
   "cell_type": "code",
   "execution_count": 42,
   "id": "f9a19305",
   "metadata": {},
   "outputs": [
    {
     "name": "stdout",
     "output_type": "stream",
     "text": [
      "Dexter\n",
      "Kolo\n",
      "Shipsy\n",
      "Harvey\n",
      "Jessie\n",
      "Tiny\n"
     ]
    },
    {
     "data": {
      "text/plain": [
       "null"
      ]
     },
     "execution_count": 42,
     "metadata": {},
     "output_type": "execute_result"
    }
   ],
   "source": [
    "java.util.ArrayList<String> pets = new java.util.ArrayList<String>();\n",
    "\n",
    "pets.add(\"Dexter\");\n",
    "pets.add(\"Kolo\");\n",
    "pets.add(\"Shipsy\");\n",
    "pets.add(\"Harvey\");\n",
    "pets.add(\"Jessie\");\n",
    "pets.add(\"Tiny\");\n",
    "\n",
    "for (int i = 0; i < pets.size(); i++) {\n",
    "    System.out.println(pets.get(i));\n",
    "}"
   ]
  },
  {
   "cell_type": "markdown",
   "id": "38526a49",
   "metadata": {},
   "source": [
    "### The `contains()` method"
   ]
  },
  {
   "cell_type": "code",
   "execution_count": 45,
   "id": "c56cc55b",
   "metadata": {},
   "outputs": [
    {
     "name": "stdout",
     "output_type": "stream",
     "text": [
      "Lex Luthor!\n"
     ]
    },
    {
     "data": {
      "text/plain": [
       "null"
      ]
     },
     "execution_count": 45,
     "metadata": {},
     "output_type": "execute_result"
    }
   ],
   "source": [
    "import java.util.ArrayList;\n",
    "\n",
    "ArrayList<String> enemies = new ArrayList<String>();\n",
    "\n",
    "enemies.add(\"Superman\");\n",
    "enemies.add(\"Don in accounts payable\");\n",
    "enemies.add(\"Frank the barber\");\n",
    "\n",
    "if (enemies.contains(\"Superman\")) {\n",
    "    System.out.println(\"Lex Luthor!\");\n",
    "}"
   ]
  },
  {
   "cell_type": "markdown",
   "id": "cd0bcb2b",
   "metadata": {},
   "source": [
    "## Primitives in an ArrayList\n",
    "As mentioned, you can't store primitives in an ArrayList:\n",
    "<br>`ArrayList grades;`\n",
    "<br>`grades = new ArrayList();`\n",
    "<br>`grades.add(75);` __this won't work__\n",
    "\n",
    "However, you could do this:\n",
    "<br>`grades.add(new Integer(75));`"
   ]
  },
  {
   "cell_type": "markdown",
   "id": "c94e5035",
   "metadata": {},
   "source": [
    "## Declaring object types\n",
    "You can specify the type of objects an ArrayList contains by using angled brackets. This is referred to as *generics*."
   ]
  },
  {
   "cell_type": "code",
   "execution_count": 18,
   "id": "f5b1346d",
   "metadata": {},
   "outputs": [
    {
     "data": {
      "text/plain": [
       "null"
      ]
     },
     "execution_count": 18,
     "metadata": {},
     "output_type": "execute_result"
    }
   ],
   "source": [
    "import java.util.ArrayList;\n",
    "\n",
    "ArrayList <String> counties = new ArrayList();\n",
    "counties.add(\"Dublin\");\n",
    "counties.add(\"Cork\");\n",
    "counties.add(\"Monaghan\");"
   ]
  },
  {
   "cell_type": "markdown",
   "id": "7da6b9bf",
   "metadata": {},
   "source": [
    "## Calling methods on elements\n",
    "As well as calling methods on an ArrayList itself, you can call methods on the elements within.\n",
    "\n",
    "__NOTE__: in order to prevent an \"unsafe or unchecked operations\" warning when calling methods on elements you should declare the type (generic) during declaration/instantiation."
   ]
  },
  {
   "cell_type": "code",
   "execution_count": 39,
   "id": "e1fa5780",
   "metadata": {},
   "outputs": [
    {
     "name": "stdout",
     "output_type": "stream",
     "text": [
      "14\n"
     ]
    },
    {
     "data": {
      "text/plain": [
       "null"
      ]
     },
     "execution_count": 39,
     "metadata": {},
     "output_type": "execute_result"
    }
   ],
   "source": [
    "java.util.ArrayList<String> cereals = new java.util.ArrayList<String>();\n",
    "\n",
    "cereals.add(\"Corn Flakes\");\n",
    "cereals.add(\"Eggos\");\n",
    "cereals.add(\"Golden Grahams\");\n",
    "\n",
    "System.out.println(cereals.get(2).length()); // prints the length of the element at index 2 (Golden Grahams)"
   ]
  },
  {
   "cell_type": "markdown",
   "id": "d207f6b9",
   "metadata": {},
   "source": [
    "## Using an iterator\n",
    "To loop through an ArrayList's contents you can use a for loop but there's another option offered by Java. An __iterator__. Iterators act like a cursor in that when created the cursor is placed at the start of the ArrayList and as you loop through the cursor will be moved along."
   ]
  },
  {
   "cell_type": "code",
   "execution_count": 52,
   "id": "c4632bee",
   "metadata": {},
   "outputs": [
    {
     "name": "stdout",
     "output_type": "stream",
     "text": [
      "Spider-Man\n",
      "Captain America\n",
      "Punisher\n",
      "Ghost Rider\n"
     ]
    },
    {
     "data": {
      "text/plain": [
       "null"
      ]
     },
     "execution_count": 52,
     "metadata": {},
     "output_type": "execute_result"
    }
   ],
   "source": [
    "import java.util.ArrayList;\n",
    "import java.util.Iterator;\n",
    "\n",
    "ArrayList<String> comicChar = new java.util.ArrayList<>();\n",
    "\n",
    "comicChar.add(\"Spider-Man\");\n",
    "comicChar.add(\"Captain America\");\n",
    "comicChar.add(\"Punisher\");\n",
    "comicChar.add(\"Ghost Rider\");\n",
    "\n",
    "Iterator it = comicChar.iterator(); // create an iterator\n",
    "while (it.hasNext()) { // use the hasNext method to determine if there's still items inside\n",
    "    System.out.println(it.next()); // use the next method to get the next item\n",
    "}"
   ]
  },
  {
   "cell_type": "code",
   "execution_count": null,
   "id": "06ffbd6f",
   "metadata": {},
   "outputs": [],
   "source": []
  }
 ],
 "metadata": {
  "kernelspec": {
   "display_name": "Java",
   "language": "java",
   "name": "java"
  },
  "language_info": {
   "codemirror_mode": "text/x-java",
   "file_extension": ".java",
   "mimetype": "",
   "name": "Java",
   "nbconverter_exporter": "",
   "version": "1.8.0_121"
  },
  "toc": {
   "base_numbering": 1,
   "nav_menu": {},
   "number_sections": false,
   "sideBar": false,
   "skip_h1_title": false,
   "title_cell": "Table of Contents",
   "title_sidebar": "Contents",
   "toc_cell": false,
   "toc_position": {},
   "toc_section_display": false,
   "toc_window_display": false
  }
 },
 "nbformat": 4,
 "nbformat_minor": 5
}
