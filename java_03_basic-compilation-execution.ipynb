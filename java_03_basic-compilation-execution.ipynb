{
 "cells": [
  {
   "cell_type": "markdown",
   "id": "92309e35",
   "metadata": {},
   "source": [
    "# Compiling and executing Java files\n",
    "## Testing created classes\n",
    "Most classes you create cannot be tested (or executed) by themselves. In order to do so you need to execute another class to create an object instance of the class you want to test. You can use a *test* or *main* class to test each of your classes.\n",
    "\n",
    "Each test class should be clearly named so that you (or any other developer) can easily tell what class the test is for. The test class name should be the name of the class its testing followed by the word \"Test\". For example if you have a class named `Car`, its test class should be named `CarTest`.\n",
    "\n",
    "Test classes in Java have two tasks to perform:\n",
    "1. to provide a starting point (called the __main method__) for your program\n",
    "2. creating an object instance of your class"
   ]
  },
  {
   "cell_type": "markdown",
   "id": "27813556",
   "metadata": {},
   "source": [
    "## The `main` method\n",
    "The __main method__ is a special method that the JVM recognizes as the start point for every Java program which runs from the command line or a prompt. Thus any class that you need to run from CLI or prompt must have a main method.\n",
    "\n",
    "The syntax for the main method is very similar to the previously discussed method syntax. However, there are two *required* modifiers: `public` and `static`. Since the main method returns no values it has a return type of `void`. The name/identifer of the main method is `main`. The main method accepts zero or more objects of type `String`: `(String args[])`. This syntax allows you to type in values on the command line which will be used by your program while its running.\n",
    "\n",
    "Combining the above gives us a syntax like this:\n",
    "<br><br>`public static void main (String args[])`"
   ]
  },
  {
   "cell_type": "markdown",
   "id": "c9aded98",
   "metadata": {},
   "source": [
    "## Compiling\n",
    "The process of compilation converts the class files you write into bytecode that can be executed by the JVM. As noted previously, if your Java source files contains a public class, the source file must be named `[ClassName].java`. So, if we have a public `Car` class in its own file, and a test class for `Car` in its own file we should have two files:\n",
    "- `Car.java`\n",
    "- `CarTest.java`\n",
    "\n",
    "To compile these files you would first navigate to the directory that contains them, then execute:\n",
    "<br>`javac [filename]`\n",
    "\n",
    "So, continuing the `Car` example we would expect to run two commands:\n",
    "<br><br>>`javac Car.java`\n",
    "<br>>`javac CarTest.java`\n",
    "\n",
    "\n",
    "If compilation executes successfully and without errors, you can expect to see a `[ClassName].class` file for each compilation. For `Car` we'd have:\n",
    "<br>`Car.class` and `CarTest.class`\n",
    "\n",
    "If you compile a class which references other objects, any classes for those objects which haven't yet been compiled will also be executed. So, if we'd compiled `CarTest.java` which references `Car.java` we should have both `.class` files."
   ]
  },
  {
   "cell_type": "markdown",
   "id": "56200e5a",
   "metadata": {},
   "source": [
    "## Executing compiled files\n",
    "To execute the files you've compiled in the JVM you would run the command:\n",
    "<br>`java [classname]`"
   ]
  },
  {
   "cell_type": "markdown",
   "id": "51a142bd",
   "metadata": {},
   "source": [
    "## Hello World! aka putting it all together\n",
    "Lets put the preceding info to practice by creating a simple \"Hello World\".\n",
    "\n",
    "First, we need to create a class in your editor of choice:"
   ]
  },
  {
   "cell_type": "code",
   "execution_count": null,
   "id": "14bfb604",
   "metadata": {},
   "outputs": [],
   "source": [
    "/* inside HelloWorld.java file */\n",
    "\n",
    "public class HelloWorld {\n",
    "    public String message=\"Hello World!\";\n",
    "    // method to print message\n",
    "    public void printMessage() {\n",
    "        System.out.println(message);\n",
    "    } // end of printMessage method\n",
    "}"
   ]
  },
  {
   "cell_type": "markdown",
   "id": "f23e4124",
   "metadata": {},
   "source": [
    "Then we need to create a test class for our HelloWorld class:"
   ]
  },
  {
   "cell_type": "code",
   "execution_count": null,
   "id": "21b705a8",
   "metadata": {},
   "outputs": [],
   "source": [
    "/* inside HelloWorldTest.java file */\n",
    "\n",
    "public class HelloWorldTest {\n",
    "    public static void main (String args[]) { // declare the main method\n",
    "        HelloWorld testHelloWorld = new HelloWorld(); // instantiate an object\n",
    "        testHelloWorld.printMessage(); // call the object's printMessage method\n",
    "    } // end of main method\n",
    "}"
   ]
  },
  {
   "cell_type": "markdown",
   "id": "ee03007e",
   "metadata": {},
   "source": [
    "Now that we have our two files, we just need to navigate to the directory where they're saved and open a terminal, then execute the following:\n",
    "<br><br>>`javac HelloWorld.java`\n",
    "<br>>`javac HelloWorldTest.java`\n",
    "\n",
    "At this point you should have two new `.class` files named `HelloWorld.class` and `HelloWorldTest.class`. To execute our code run the following in terminal:\n",
    "<br><br>>`java HelloWorldTest`\n",
    "\n",
    "You should see \"Hello World!\" printed in the terminal."
   ]
  },
  {
   "cell_type": "markdown",
   "id": "46dc7df4",
   "metadata": {},
   "source": [
    "## Lets do that here in the notebook\n",
    "Lets use some of BeakerX's cool functionality to run that here in the notebook:"
   ]
  },
  {
   "cell_type": "code",
   "execution_count": 39,
   "id": "a4985bcc",
   "metadata": {},
   "outputs": [
    {
     "data": {
      "text/plain": [
       "test.beaker.HelloWorld"
      ]
     },
     "execution_count": 39,
     "metadata": {},
     "output_type": "execute_result"
    }
   ],
   "source": [
    "package test.beaker;\n",
    "\n",
    "// define the class\n",
    "public class HelloWorld {\n",
    "    public String message=\"Hello World!\";\n",
    "    // method to print message\n",
    "    public void printMessage() {\n",
    "        System.out.println(message);\n",
    "    } // end of printMessage method\n",
    "}"
   ]
  },
  {
   "cell_type": "code",
   "execution_count": 40,
   "id": "ec3bf054",
   "metadata": {},
   "outputs": [
    {
     "name": "stdout",
     "output_type": "stream",
     "text": [
      "Hello World!\n"
     ]
    },
    {
     "data": {
      "text/plain": [
       "null"
      ]
     },
     "execution_count": 40,
     "metadata": {},
     "output_type": "execute_result"
    }
   ],
   "source": [
    "package test.beaker;\n",
    "\n",
    "// instantiate an object and call the printMessage method\n",
    "HelloWorld tsthw = new HelloWorld();\n",
    "tsthw.printMessage();"
   ]
  },
  {
   "cell_type": "code",
   "execution_count": null,
   "id": "2635a916",
   "metadata": {},
   "outputs": [],
   "source": []
  }
 ],
 "metadata": {
  "kernelspec": {
   "display_name": "Java",
   "language": "java",
   "name": "java"
  },
  "language_info": {
   "codemirror_mode": "text/x-java",
   "file_extension": ".java",
   "mimetype": "",
   "name": "Java",
   "nbconverter_exporter": "",
   "version": "1.8.0_121"
  },
  "toc": {
   "base_numbering": 1,
   "nav_menu": {},
   "number_sections": false,
   "sideBar": false,
   "skip_h1_title": false,
   "title_cell": "Table of Contents",
   "title_sidebar": "Contents",
   "toc_cell": false,
   "toc_position": {},
   "toc_section_display": false,
   "toc_window_display": false
  }
 },
 "nbformat": 4,
 "nbformat_minor": 5
}
